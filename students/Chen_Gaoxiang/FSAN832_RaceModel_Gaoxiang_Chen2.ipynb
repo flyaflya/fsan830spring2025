{
  "cells": [
    {
      "cell_type": "markdown",
      "id": "c6f37262",
      "metadata": {
        "id": "c6f37262"
      },
      "source": [
        "# 🏇FSAN832 Race Outcome Modeling/ Gaoxiang Chen"
      ]
    },
    {
      "cell_type": "code",
      "execution_count": 1,
      "id": "9298d11a",
      "metadata": {
        "colab": {
          "base_uri": "https://localhost:8080/"
        },
        "id": "9298d11a",
        "outputId": "682d8572-aa50-4f07-a2d1-4e83fe04b687"
      },
      "outputs": [
        {
          "output_type": "stream",
          "name": "stdout",
          "text": [
            "Cloning into 'fsan830spring2025'...\n",
            "remote: Enumerating objects: 2814, done.\u001b[K\n",
            "remote: Counting objects: 100% (546/546), done.\u001b[K\n",
            "remote: Compressing objects: 100% (249/249), done.\u001b[K\n",
            "remote: Total 2814 (delta 340), reused 297 (delta 297), pack-reused 2268 (from 1)\u001b[K\n",
            "Receiving objects: 100% (2814/2814), 52.97 MiB | 13.01 MiB/s, done.\n",
            "Resolving deltas: 100% (1014/1014), done.\n",
            "Updating files: 100% (710/710), done.\n",
            "/content/fsan830spring2025\n"
          ]
        }
      ],
      "source": [
        "!git clone https://github.com/flyaflya/fsan830spring2025.git\n",
        "%cd fsan830spring2025"
      ]
    },
    {
      "cell_type": "code",
      "execution_count": 2,
      "id": "44a81d46",
      "metadata": {
        "colab": {
          "base_uri": "https://localhost:8080/"
        },
        "id": "44a81d46",
        "outputId": "80df8457-b7e8-4f79-8e67-bb839c2818e9"
      },
      "outputs": [
        {
          "output_type": "stream",
          "name": "stdout",
          "text": [
            "[Errno 2] No such file or directory: 'fsan830spring2025'\n",
            "/content/fsan830spring2025\n"
          ]
        }
      ],
      "source": [
        "%cd fsan830spring2025"
      ]
    },
    {
      "cell_type": "code",
      "execution_count": 3,
      "id": "d38838a5",
      "metadata": {
        "colab": {
          "base_uri": "https://localhost:8080/"
        },
        "id": "d38838a5",
        "outputId": "5c5d96b1-d1a9-4b23-a7a6-4e98825d0f1e"
      },
      "outputs": [
        {
          "output_type": "stream",
          "name": "stdout",
          "text": [
            "Requirement already satisfied: numpy in /usr/local/lib/python3.11/dist-packages (2.0.2)\n",
            "Collecting numpy\n",
            "  Downloading numpy-2.2.6-cp311-cp311-manylinux_2_17_x86_64.manylinux2014_x86_64.whl.metadata (62 kB)\n",
            "\u001b[2K     \u001b[90m━━━━━━━━━━━━━━━━━━━━━━━━━━━━━━━━━━━━━━━\u001b[0m \u001b[32m62.0/62.0 kB\u001b[0m \u001b[31m955.9 kB/s\u001b[0m eta \u001b[36m0:00:00\u001b[0m\n",
            "\u001b[?25hRequirement already satisfied: pymc in /usr/local/lib/python3.11/dist-packages (5.22.0)\n",
            "Collecting pymc-bart\n",
            "  Downloading pymc_bart-0.9.1-py3-none-any.whl.metadata (4.6 kB)\n",
            "Requirement already satisfied: arviz in /usr/local/lib/python3.11/dist-packages (0.21.0)\n",
            "Requirement already satisfied: xarray in /usr/local/lib/python3.11/dist-packages (2025.3.1)\n",
            "Collecting xarray\n",
            "  Downloading xarray-2025.4.0-py3-none-any.whl.metadata (12 kB)\n",
            "Requirement already satisfied: matplotlib in /usr/local/lib/python3.11/dist-packages (3.10.0)\n",
            "Collecting matplotlib\n",
            "  Downloading matplotlib-3.10.3-cp311-cp311-manylinux_2_17_x86_64.manylinux2014_x86_64.whl.metadata (11 kB)\n",
            "Requirement already satisfied: scikit-learn in /usr/local/lib/python3.11/dist-packages (1.6.1)\n",
            "Requirement already satisfied: cachetools>=4.2.1 in /usr/local/lib/python3.11/dist-packages (from pymc) (5.5.2)\n",
            "Requirement already satisfied: cloudpickle in /usr/local/lib/python3.11/dist-packages (from pymc) (3.1.1)\n",
            "Requirement already satisfied: pandas>=0.24.0 in /usr/local/lib/python3.11/dist-packages (from pymc) (2.2.2)\n",
            "Requirement already satisfied: pytensor<2.31,>=2.30.2 in /usr/local/lib/python3.11/dist-packages (from pymc) (2.30.3)\n",
            "Requirement already satisfied: rich>=13.7.1 in /usr/local/lib/python3.11/dist-packages (from pymc) (13.9.4)\n",
            "Requirement already satisfied: scipy>=1.4.1 in /usr/local/lib/python3.11/dist-packages (from pymc) (1.15.3)\n",
            "Requirement already satisfied: threadpoolctl<4.0.0,>=3.1.0 in /usr/local/lib/python3.11/dist-packages (from pymc) (3.6.0)\n",
            "Requirement already satisfied: typing-extensions>=3.7.4 in /usr/local/lib/python3.11/dist-packages (from pymc) (4.13.2)\n",
            "Requirement already satisfied: numba in /usr/local/lib/python3.11/dist-packages (from pymc-bart) (0.60.0)\n",
            "Requirement already satisfied: setuptools>=60.0.0 in /usr/local/lib/python3.11/dist-packages (from arviz) (75.2.0)\n",
            "Requirement already satisfied: packaging in /usr/local/lib/python3.11/dist-packages (from arviz) (24.2)\n",
            "Requirement already satisfied: h5netcdf>=1.0.2 in /usr/local/lib/python3.11/dist-packages (from arviz) (1.6.1)\n",
            "Requirement already satisfied: xarray-einstats>=0.3 in /usr/local/lib/python3.11/dist-packages (from arviz) (0.8.0)\n",
            "Requirement already satisfied: contourpy>=1.0.1 in /usr/local/lib/python3.11/dist-packages (from matplotlib) (1.3.2)\n",
            "Requirement already satisfied: cycler>=0.10 in /usr/local/lib/python3.11/dist-packages (from matplotlib) (0.12.1)\n",
            "Requirement already satisfied: fonttools>=4.22.0 in /usr/local/lib/python3.11/dist-packages (from matplotlib) (4.58.0)\n",
            "Requirement already satisfied: kiwisolver>=1.3.1 in /usr/local/lib/python3.11/dist-packages (from matplotlib) (1.4.8)\n",
            "Requirement already satisfied: pillow>=8 in /usr/local/lib/python3.11/dist-packages (from matplotlib) (11.2.1)\n",
            "Requirement already satisfied: pyparsing>=2.3.1 in /usr/local/lib/python3.11/dist-packages (from matplotlib) (3.2.3)\n",
            "Requirement already satisfied: python-dateutil>=2.7 in /usr/local/lib/python3.11/dist-packages (from matplotlib) (2.9.0.post0)\n",
            "Requirement already satisfied: joblib>=1.2.0 in /usr/local/lib/python3.11/dist-packages (from scikit-learn) (1.5.0)\n",
            "Requirement already satisfied: h5py in /usr/local/lib/python3.11/dist-packages (from h5netcdf>=1.0.2->arviz) (3.13.0)\n",
            "Requirement already satisfied: pytz>=2020.1 in /usr/local/lib/python3.11/dist-packages (from pandas>=0.24.0->pymc) (2025.2)\n",
            "Requirement already satisfied: tzdata>=2022.7 in /usr/local/lib/python3.11/dist-packages (from pandas>=0.24.0->pymc) (2025.2)\n",
            "Requirement already satisfied: filelock>=3.15 in /usr/local/lib/python3.11/dist-packages (from pytensor<2.31,>=2.30.2->pymc) (3.18.0)\n",
            "Requirement already satisfied: etuples in /usr/local/lib/python3.11/dist-packages (from pytensor<2.31,>=2.30.2->pymc) (0.3.9)\n",
            "Requirement already satisfied: logical-unification in /usr/local/lib/python3.11/dist-packages (from pytensor<2.31,>=2.30.2->pymc) (0.4.6)\n",
            "Requirement already satisfied: miniKanren in /usr/local/lib/python3.11/dist-packages (from pytensor<2.31,>=2.30.2->pymc) (1.0.3)\n",
            "Requirement already satisfied: cons in /usr/local/lib/python3.11/dist-packages (from pytensor<2.31,>=2.30.2->pymc) (0.4.6)\n",
            "Requirement already satisfied: six>=1.5 in /usr/local/lib/python3.11/dist-packages (from python-dateutil>=2.7->matplotlib) (1.17.0)\n",
            "Requirement already satisfied: markdown-it-py>=2.2.0 in /usr/local/lib/python3.11/dist-packages (from rich>=13.7.1->pymc) (3.0.0)\n",
            "Requirement already satisfied: pygments<3.0.0,>=2.13.0 in /usr/local/lib/python3.11/dist-packages (from rich>=13.7.1->pymc) (2.19.1)\n",
            "Requirement already satisfied: llvmlite<0.44,>=0.43.0dev0 in /usr/local/lib/python3.11/dist-packages (from numba->pymc-bart) (0.43.0)\n",
            "Requirement already satisfied: mdurl~=0.1 in /usr/local/lib/python3.11/dist-packages (from markdown-it-py>=2.2.0->rich>=13.7.1->pymc) (0.1.2)\n",
            "Requirement already satisfied: toolz in /usr/local/lib/python3.11/dist-packages (from logical-unification->pytensor<2.31,>=2.30.2->pymc) (0.12.1)\n",
            "Requirement already satisfied: multipledispatch in /usr/local/lib/python3.11/dist-packages (from logical-unification->pytensor<2.31,>=2.30.2->pymc) (1.0.0)\n",
            "Downloading pymc_bart-0.9.1-py3-none-any.whl (31 kB)\n",
            "Downloading xarray-2025.4.0-py3-none-any.whl (1.3 MB)\n",
            "\u001b[2K   \u001b[90m━━━━━━━━━━━━━━━━━━━━━━━━━━━━━━━━━━━━━━━━\u001b[0m \u001b[32m1.3/1.3 MB\u001b[0m \u001b[31m20.7 MB/s\u001b[0m eta \u001b[36m0:00:00\u001b[0m\n",
            "\u001b[?25hDownloading matplotlib-3.10.3-cp311-cp311-manylinux_2_17_x86_64.manylinux2014_x86_64.whl (8.6 MB)\n",
            "\u001b[2K   \u001b[90m━━━━━━━━━━━━━━━━━━━━━━━━━━━━━━━━━━━━━━━━\u001b[0m \u001b[32m8.6/8.6 MB\u001b[0m \u001b[31m57.5 MB/s\u001b[0m eta \u001b[36m0:00:00\u001b[0m\n",
            "\u001b[?25hInstalling collected packages: matplotlib, xarray, pymc-bart\n",
            "  Attempting uninstall: matplotlib\n",
            "    Found existing installation: matplotlib 3.10.0\n",
            "    Uninstalling matplotlib-3.10.0:\n",
            "      Successfully uninstalled matplotlib-3.10.0\n",
            "  Attempting uninstall: xarray\n",
            "    Found existing installation: xarray 2025.3.1\n",
            "    Uninstalling xarray-2025.3.1:\n",
            "      Successfully uninstalled xarray-2025.3.1\n",
            "Successfully installed matplotlib-3.10.3 pymc-bart-0.9.1 xarray-2025.4.0\n"
          ]
        }
      ],
      "source": [
        "!pip install -U numpy pymc pymc-bart arviz xarray matplotlib scikit-learn"
      ]
    },
    {
      "cell_type": "code",
      "execution_count": 4,
      "id": "ecd6b931",
      "metadata": {
        "colab": {
          "base_uri": "https://localhost:8080/"
        },
        "id": "ecd6b931",
        "outputId": "34eff96c-80f7-41cc-dd17-8215a7f3e497"
      },
      "outputs": [
        {
          "output_type": "stream",
          "name": "stdout",
          "text": [
            "pymc version: 5.22.0\n",
            "pymc-bart version: 0.9.1\n"
          ]
        }
      ],
      "source": [
        "import pymc, pymc_bart\n",
        "print(\"pymc version:\", pymc.__version__)\n",
        "print(\"pymc-bart version:\", pymc_bart.__version__)"
      ]
    },
    {
      "cell_type": "code",
      "execution_count": 5,
      "id": "cc06a38d",
      "metadata": {
        "id": "cc06a38d"
      },
      "outputs": [],
      "source": [
        "import pandas as pd\n",
        "import numpy as np\n",
        "import pymc as pm\n",
        "from pymc_bart import BART\n",
        "from glob import glob\n",
        "import os\n",
        "import xml.etree.ElementTree as ET\n"
      ]
    },
    {
      "cell_type": "code",
      "execution_count": 10,
      "id": "4b5f0aba",
      "metadata": {
        "colab": {
          "base_uri": "https://localhost:8080/"
        },
        "id": "4b5f0aba",
        "outputId": "33d544ac-7646-4017-edb5-74ffc90fe876"
      },
      "outputs": [
        {
          "output_type": "stream",
          "name": "stdout",
          "text": [
            "Found 18 past performance files, 18 result files.\n",
            "Feature set shape: (1757, 10) Label set shape: (1482, 6)\n",
            "Merged training set shape: (1509, 14)\n",
            "  RaceNumber         HorseName YearOfBirth FoalingArea PostPosition  \\\n",
            "0          1    lady samaritan        2020          KY            2   \n",
            "1          1   two minute lick        2020          KY            3   \n",
            "2          1       beach walkn        2020          KY            5   \n",
            "3          1   destine to race        2020          KY            6   \n",
            "4          1  back to gridlock        2020          KY            8   \n",
            "\n",
            "  ProgramNumber  WeightCarried             Trainer            Jockey  Odds  \\\n",
            "0             2            118  Correas, IVIgnacio  CheminaudVincent  30/1   \n",
            "1             3            118    Arnold, IIGeorge    HernandezColby  20/1   \n",
            "2             5            118        ColebrookBen       MachadoLuan   6/1   \n",
            "3             6            118      LovellMichelle    Ortiz, Jr.Irad   4/1   \n",
            "4             8            118           BrownChad       PratFlavien   6/1   \n",
            "\n",
            "   OfficialFinish  FinishTime  SpeedRating  DollarOdds  Odds_float  \n",
            "0               4         0.0           75       12.38        30.0  \n",
            "1               6         0.0           73       22.30        20.0  \n",
            "2               9         0.0           71        4.87         6.0  \n",
            "3               1         0.0           86        1.93         4.0  \n",
            "4               3         0.0           79        3.99         6.0  \n",
            "Features available for modeling: ['RaceNumber', 'HorseName', 'YearOfBirth', 'FoalingArea', 'PostPosition', 'ProgramNumber', 'WeightCarried', 'Trainer', 'Jockey', 'Odds', 'OfficialFinish', 'FinishTime', 'SpeedRating', 'DollarOdds', 'Odds_float']\n"
          ]
        }
      ],
      "source": [
        "# ====== 1. Batch parse pastPerformanceData features ======\n",
        "def parse_past_performance(xml_path):\n",
        "    import xml.etree.ElementTree as ET\n",
        "    tree = ET.parse(xml_path)\n",
        "    root = tree.getroot()\n",
        "    records = []\n",
        "    for race in root.findall('Race'):\n",
        "        race_number = race.findtext('RaceNumber')\n",
        "        # Iterate over all Starters nodes\n",
        "        for starters in race.findall('Starters'):\n",
        "            record = {'RaceNumber': race_number}\n",
        "            # Extract horse and race information\n",
        "            for item in starters:\n",
        "                if item.tag == 'Horse':\n",
        "                    record['HorseName'] = item.findtext('HorseName')\n",
        "                    record['YearOfBirth'] = item.findtext('YearOfBirth')\n",
        "                    record['FoalingArea'] = item.findtext('FoalingArea')\n",
        "                elif item.tag in ['PostPosition', 'ProgramNumber', 'WeightCarried', 'Odds']:\n",
        "                    record[item.tag] = item.text\n",
        "                elif item.tag == 'Trainer':\n",
        "                    record['Trainer'] = (item.findtext('LastName') or '') + (item.findtext('FirstName') or '')\n",
        "                elif item.tag == 'Jockey':\n",
        "                    record['Jockey'] = (item.findtext('LastName') or '') + (item.findtext('FirstName') or '')\n",
        "            # Keep record only if HorseName is valid\n",
        "            if record.get('HorseName'):\n",
        "                for k in record:\n",
        "                    if isinstance(record[k], str):\n",
        "                        record[k] = record[k].strip()\n",
        "                records.append(record)\n",
        "    return pd.DataFrame(records)\n",
        "\n",
        "# ====== 2. Batch parse race result features ======\n",
        "def parse_results(xml_path):\n",
        "    tree = ET.parse(xml_path)\n",
        "    root = tree.getroot()\n",
        "    records = []\n",
        "    for race in root.findall('.//RACE'):\n",
        "        race_number = race.get('NUMBER')\n",
        "        for entry in race.findall('ENTRY'):\n",
        "            record = {\n",
        "                'RaceNumber': race_number,\n",
        "                'HorseName': entry.findtext('NAME'),\n",
        "                'OfficialFinish': entry.findtext('OFFICIAL_FIN'),\n",
        "                'FinishTime': entry.findtext('FINISH_TIME'),\n",
        "                'SpeedRating': entry.findtext('SPEED_RATING'),\n",
        "                'DollarOdds': entry.findtext('DOLLAR_ODDS'),\n",
        "            }\n",
        "            for k in record:\n",
        "                if isinstance(record[k], str):\n",
        "                    record[k] = record[k].strip()\n",
        "            records.append(record)\n",
        "    return pd.DataFrame(records)\n",
        "\n",
        "# ====== 3. Read and merge all XML files ======\n",
        "pp_dir = 'data/rawDataForTraining/pastPerformanceData'\n",
        "res_dir = 'data/rawDataForTraining/resultsData'\n",
        "\n",
        "pp_files = glob(os.path.join(pp_dir, '*.xml'))\n",
        "res_files = glob(os.path.join(res_dir, '*.xml'))\n",
        "\n",
        "print(f\"Found {len(pp_files)} past performance files, {len(res_files)} result files.\")\n",
        "\n",
        "pp_dfs = [parse_past_performance(f) for f in pp_files]\n",
        "res_dfs = [parse_results(f) for f in res_files]\n",
        "\n",
        "df_feat = pd.concat(pp_dfs, ignore_index=True)\n",
        "df_label = pd.concat(res_dfs, ignore_index=True)\n",
        "\n",
        "print(\"Feature set shape:\", df_feat.shape, \"Label set shape:\", df_label.shape)\n",
        "\n",
        "# Normalize key columns for merging\n",
        "for df in [df_feat, df_label]:\n",
        "    df['HorseName'] = df['HorseName'].astype(str).str.lower().str.strip()\n",
        "    df['RaceNumber'] = df['RaceNumber'].astype(str).str.strip()\n",
        "\n",
        "# Merge features and labels\n",
        "df_full = pd.merge(df_feat, df_label, on=['RaceNumber', 'HorseName'], how='inner', suffixes=('_pp', '_res'))\n",
        "print(\"Merged training set shape:\", df_full.shape)\n",
        "\n",
        "# Convert odds formats (e.g., '5/2') into float\n",
        "def odds_str_to_float(odds):\n",
        "    if pd.isna(odds):\n",
        "        return None\n",
        "    try:\n",
        "        return float(odds)\n",
        "    except:\n",
        "        if '/' in str(odds):\n",
        "            try:\n",
        "                num, den = odds.split('/')\n",
        "                return float(num) / float(den)\n",
        "            except:\n",
        "                return None\n",
        "        return None\n",
        "\n",
        "# Type conversions\n",
        "df_full['Odds_float'] = df_full['Odds'].apply(odds_str_to_float)\n",
        "df_full['DollarOdds'] = pd.to_numeric(df_full['DollarOdds'], errors='coerce')\n",
        "df_full['OfficialFinish'] = pd.to_numeric(df_full['OfficialFinish'], errors='coerce')\n",
        "df_full['FinishTime'] = pd.to_numeric(df_full['FinishTime'], errors='coerce')\n",
        "df_full['SpeedRating'] = pd.to_numeric(df_full['SpeedRating'], errors='coerce')\n",
        "df_full['WeightCarried'] = pd.to_numeric(df_full['WeightCarried'], errors='coerce')\n",
        "\n",
        "# Save to CSV if needed\n",
        "df_full.to_csv('final_supervised_training_set.csv', index=False)\n",
        "print(df_full.head())\n",
        "print(\"Features available for modeling:\", df_full.columns.tolist())\n"
      ]
    },
    {
      "cell_type": "code",
      "execution_count": 12,
      "id": "56721198",
      "metadata": {
        "id": "56721198"
      },
      "outputs": [],
      "source": [
        "\n",
        "feature_cols = ['Odds_float', 'WeightCarried', 'SpeedRating']\n",
        "'''\n",
        "feature_cols = [\n",
        "    'YearOfBirth',\n",
        "    'FoalingArea',\n",
        "    'PostPosition',\n",
        "    'WeightCarried',\n",
        "    'Trainer',\n",
        "    'Jockey',\n",
        "    'SpeedRating',\n",
        "    'Odds_float'\n",
        "]\n",
        "'''\n",
        "X = df_full[feature_cols].fillna(0).values\n",
        "y = df_full['OfficialFinish'].values\n"
      ]
    },
    {
      "cell_type": "code",
      "execution_count": 13,
      "id": "90d022cd",
      "metadata": {
        "colab": {
          "base_uri": "https://localhost:8080/"
        },
        "id": "90d022cd",
        "outputId": "8bd4ef47-bc20-4726-b970-03de2a9250d9"
      },
      "outputs": [
        {
          "output_type": "stream",
          "name": "stdout",
          "text": [
            "    Odds_float  WeightCarried  SpeedRating\n",
            "0        118.0          17.21         81.0\n",
            "1        118.0          14.10         73.0\n",
            "2        118.0          33.57         57.0\n",
            "3        118.0          49.95         64.0\n",
            "4        113.0           8.45         79.0\n",
            "..         ...            ...          ...\n",
            "89       118.0           6.71         76.0\n",
            "90       118.0           9.60         76.0\n",
            "91       118.0          10.87         79.0\n",
            "92       118.0         104.12         80.0\n",
            "93       113.0           1.70         64.0\n",
            "\n",
            "[94 rows x 3 columns]\n"
          ]
        }
      ],
      "source": [
        "\n",
        "# Keep only the selected features\n",
        "feature_cols = ['Odds_float', 'WeightCarried', 'SpeedRating']\n",
        "\n",
        "\n",
        "column_indices = [\n",
        "    515,  # Odds\n",
        "    50,   # WeightCarried\n",
        "    845   # SpeedRating\n",
        "]\n",
        "\n",
        "\n",
        "columns = ['Odds', 'WeightCarried', 'SpeedRating']\n",
        "\n",
        "\n",
        "X_test = pd.read_csv('data/rawDataForPrediction/CDX0426.csv', header=None, usecols=column_indices)\n",
        "X_test.columns = columns\n",
        "\n",
        "\n",
        "def odds_str_to_float(s):\n",
        "    try:\n",
        "        if pd.isna(s):\n",
        "            return None\n",
        "        if '-' in str(s):\n",
        "            a, b = str(s).split('-')\n",
        "            return float(a) / float(b)\n",
        "        return float(s)\n",
        "    except:\n",
        "        return None\n",
        "\n",
        "X_test['Odds_float'] = X_test['Odds'].apply(odds_str_to_float)\n",
        "\n",
        "# Keep only feature_cols\n",
        "X_test_final = X_test[feature_cols]\n",
        "\n",
        "print(X_test_final)"
      ]
    },
    {
      "cell_type": "code",
      "execution_count": 14,
      "id": "904b9653",
      "metadata": {
        "colab": {
          "base_uri": "https://localhost:8080/",
          "height": 169,
          "referenced_widgets": [
            "446bf417b47445ccadabf95c99df5a74",
            "562ba76d53d24d29965ecdeeeb45fd59"
          ]
        },
        "id": "904b9653",
        "outputId": "47a729b2-8b23-44ee-b4c7-9406b2e4a52f"
      },
      "outputs": [
        {
          "output_type": "display_data",
          "data": {
            "text/plain": [
              "Output()"
            ],
            "application/vnd.jupyter.widget-view+json": {
              "version_major": 2,
              "version_minor": 0,
              "model_id": "446bf417b47445ccadabf95c99df5a74"
            }
          },
          "metadata": {}
        },
        {
          "output_type": "display_data",
          "data": {
            "text/plain": [],
            "text/html": [
              "<pre style=\"white-space:pre;overflow-x:auto;line-height:normal;font-family:Menlo,'DejaVu Sans Mono',consolas,'Courier New',monospace\"></pre>\n"
            ]
          },
          "metadata": {}
        },
        {
          "output_type": "stream",
          "name": "stderr",
          "text": [
            "ERROR:pymc.stats.convergence:The effective sample size per chain is smaller than 100 for some parameters.  A higher number is needed for reliable rhat and ess computation. See https://arxiv.org/abs/1903.08008 for details\n"
          ]
        },
        {
          "output_type": "stream",
          "name": "stdout",
          "text": [
            "Model training complete！\n"
          ]
        }
      ],
      "source": [
        "\n",
        "with pm.Model() as model:\n",
        "    μ = BART(\"μ\", X, y)\n",
        "    σ = pm.HalfNormal(\"σ\", sigma=1.0)\n",
        "    y_obs = pm.Normal(\"y_obs\", mu=μ, sigma=σ, observed=y)\n",
        "    trace = pm.sample(1000, tune=1000, target_accept=0.95, cores=1, random_seed=42)\n",
        "    print(\"Model training complete！\")\n"
      ]
    },
    {
      "cell_type": "code",
      "execution_count": 15,
      "id": "f9235db2",
      "metadata": {
        "colab": {
          "base_uri": "https://localhost:8080/",
          "height": 169,
          "referenced_widgets": [
            "fddf0fb05e2b4b068071db4c738918b6",
            "8ce69ddf960a4af28605d5f152affad5"
          ]
        },
        "id": "f9235db2",
        "outputId": "7ad2a4b4-441d-45d5-9dcd-9f9ec1ce5257"
      },
      "outputs": [
        {
          "output_type": "display_data",
          "data": {
            "text/plain": [
              "Output()"
            ],
            "application/vnd.jupyter.widget-view+json": {
              "version_major": 2,
              "version_minor": 0,
              "model_id": "fddf0fb05e2b4b068071db4c738918b6"
            }
          },
          "metadata": {}
        },
        {
          "output_type": "display_data",
          "data": {
            "text/plain": [],
            "text/html": [
              "<pre style=\"white-space:pre;overflow-x:auto;line-height:normal;font-family:Menlo,'DejaVu Sans Mono',consolas,'Courier New',monospace\"></pre>\n"
            ]
          },
          "metadata": {}
        },
        {
          "output_type": "stream",
          "name": "stderr",
          "text": [
            "ERROR:pymc.stats.convergence:The effective sample size per chain is smaller than 100 for some parameters.  A higher number is needed for reliable rhat and ess computation. See https://arxiv.org/abs/1903.08008 for details\n"
          ]
        },
        {
          "output_type": "stream",
          "name": "stdout",
          "text": [
            "✅ Model training complete！\n"
          ]
        }
      ],
      "source": [
        "import pymc as pm\n",
        "from pymc_bart import BART\n",
        "import numpy as np\n",
        "import matplotlib.pyplot as plt\n",
        "from sklearn.metrics import r2_score, mean_squared_error\n",
        "from datetime import datetime\n",
        "\n",
        "# --------------------------\n",
        "# 1. Prepare training data\n",
        "# --------------------------\n",
        "X_train = df_full[feature_cols].fillna(0).values\n",
        "y_train = df_full['OfficialFinish'].values\n",
        "\n",
        "# --------------------------\n",
        "# 2. Train BART model\n",
        "# --------------------------\n",
        "with pm.Model() as model:\n",
        "    μ = BART(\"μ\", X_train, y_train)\n",
        "    σ = pm.HalfNormal(\"σ\", sigma=1.0)\n",
        "    y_obs = pm.Normal(\"y_obs\", mu=μ, sigma=σ, observed=y_train)\n",
        "\n",
        "    trace = pm.sample(\n",
        "        1000,\n",
        "        tune=1000,\n",
        "        target_accept=0.95,\n",
        "        cores=1,\n",
        "        random_seed=42,\n",
        "        idata_kwargs={\"log_likelihood\": True}  # ✅ Ensure μ is recorded into trace\n",
        "    )\n",
        "\n",
        "print(\"✅ Model training complete！\")\n"
      ]
    },
    {
      "cell_type": "code",
      "execution_count": 16,
      "id": "4bcc0a74",
      "metadata": {
        "colab": {
          "base_uri": "https://localhost:8080/",
          "height": 600
        },
        "id": "4bcc0a74",
        "outputId": "7885b8dc-4bd7-4b32-f846-ed2fb70726f2"
      },
      "outputs": [
        {
          "output_type": "display_data",
          "data": {
            "text/plain": [
              "<Figure size 600x600 with 1 Axes>"
            ],
            "image/png": "[encoded data removed]"
          },
          "metadata": {}
        },
        {
          "output_type": "stream",
          "name": "stdout",
          "text": [
            "Training set R² Score: 0.4204\n",
            "Training set RMSE: 2.22\n"
          ]
        }
      ],
      "source": [
        "# Extract posterior mean of μ from trace.posterior\n",
        "μ_train_mean = trace.posterior[\"μ\"].mean(dim=(\"chain\", \"draw\")).values\n",
        "\n",
        "# Visualize training fit\n",
        "plt.figure(figsize=(6, 6))\n",
        "plt.scatter(y_train, μ_train_mean, alpha=0.6)\n",
        "plt.plot([y_train.min(), y_train.max()], [y_train.min(), y_train.max()], 'k--')\n",
        "plt.xlabel(\"Actual (Train)\")\n",
        "plt.ylabel(\"Predicted\")\n",
        "plt.title(\"Training Fit: PyMC-BART\")\n",
        "plt.grid(True)\n",
        "plt.show()\n",
        "\n",
        "# Model performance metrics（Training set）\n",
        "r2 = r2_score(y_train, μ_train_mean)\n",
        "rmse = np.sqrt(mean_squared_error(y_train, μ_train_mean))\n",
        "print(f\"Training set R² Score: {r2:.4f}\")\n",
        "print(f\"Training set RMSE: {rmse:.2f}\")\n"
      ]
    },
    {
      "cell_type": "code",
      "execution_count": 17,
      "id": "111b7390",
      "metadata": {
        "id": "111b7390"
      },
      "outputs": [],
      "source": [
        "from datetime import datetime\n",
        "\n",
        "def bart_train_and_predict(df_train, df_test_raw, feature_cols, target_col):\n",
        "\n",
        "    X_train = df_train[feature_cols].fillna(0).values\n",
        "    y_train = df_train[target_col].values\n",
        "\n",
        "    X_test = df_test_raw[feature_cols].fillna(0).values\n",
        "    n_test = X_test.shape[0]\n",
        "\n",
        "\n",
        "    X_all = np.vstack([X_train, X_test])\n",
        "    y_all = np.concatenate([y_train, np.zeros(n_test)])\n",
        "\n",
        "\n",
        "    with pm.Model() as model:\n",
        "        μ_all = BART(\"μ\", X_all, y_all)\n",
        "        σ = pm.HalfNormal(\"σ\", sigma=1.0)\n",
        "\n",
        "\n",
        "        y_obs = pm.Normal(\"y_obs\", mu=μ_all[:len(y_train)], sigma=σ, observed=y_train)\n",
        "\n",
        "        y_pred = pm.Normal(\"y_pred\", mu=μ_all[len(y_train):], sigma=σ)\n",
        "\n",
        "        trace = pm.sample(\n",
        "            1000, tune=1000, target_accept=0.95, cores=1, random_seed=42\n",
        "        )\n",
        "\n",
        "\n",
        "        ppc = pm.sample_posterior_predictive(\n",
        "            trace, var_names=[\"y_pred\"], return_inferencedata=False\n",
        "        )\n",
        "\n",
        "\n",
        "    y_pred_dist = ppc[\"y_pred\"]  # shape: (n_chains, n_draws, n_test)\n",
        "    y_pred_dist = y_pred_dist.reshape(-1, y_pred_dist.shape[-1])  # => (n_samples_total, n_test)\n",
        "\n",
        "    if y_pred_dist.shape[1] != n_test:\n",
        "        raise ValueError(\"[translated]\")\n",
        "\n",
        "    y_pred_mean = y_pred_dist.mean(axis=0)\n",
        "    y_pred_std = y_pred_dist.std(axis=0)\n",
        "\n",
        "\n",
        "    results_df = df_test_raw.reset_index(drop=True).copy()\n",
        "    results_df[\"PredictedFinish\"] = y_pred_mean\n",
        "    results_df[\"PredictedStd\"] = y_pred_std\n",
        "    results_df[\"PredictedRank\"] = results_df[\"PredictedFinish\"].rank(method=\"min\").astype(int)\n",
        "\n",
        "    return results_df.sort_values(\"PredictedFinish\").reset_index(drop=True)"
      ]
    },
    {
      "cell_type": "code",
      "execution_count": 18,
      "id": "500e764c",
      "metadata": {
        "colab": {
          "base_uri": "https://localhost:8080/",
          "height": 567,
          "referenced_widgets": [
            "3a9c5e31d5934e0dbaed00cacc6bf901",
            "0c6e2fad703a43ea9857ef7fe393962f",
            "713b1f5894c941ac86d49fdbe0acdff3",
            "9626854a5758459b9a9ee5e14124f11b"
          ]
        },
        "id": "500e764c",
        "outputId": "3de6486b-9c08-4bbd-f2f2-90c6a165167a"
      },
      "outputs": [
        {
          "output_type": "display_data",
          "data": {
            "text/plain": [
              "Output()"
            ],
            "application/vnd.jupyter.widget-view+json": {
              "version_major": 2,
              "version_minor": 0,
              "model_id": "3a9c5e31d5934e0dbaed00cacc6bf901"
            }
          },
          "metadata": {}
        },
        {
          "output_type": "display_data",
          "data": {
            "text/plain": [],
            "text/html": [
              "<pre style=\"white-space:pre;overflow-x:auto;line-height:normal;font-family:Menlo,'DejaVu Sans Mono',consolas,'Courier New',monospace\"></pre>\n"
            ]
          },
          "metadata": {}
        },
        {
          "output_type": "display_data",
          "data": {
            "text/plain": [
              "Output()"
            ],
            "application/vnd.jupyter.widget-view+json": {
              "version_major": 2,
              "version_minor": 0,
              "model_id": "713b1f5894c941ac86d49fdbe0acdff3"
            }
          },
          "metadata": {}
        },
        {
          "output_type": "display_data",
          "data": {
            "text/plain": [],
            "text/html": [
              "<pre style=\"white-space:pre;overflow-x:auto;line-height:normal;font-family:Menlo,'DejaVu Sans Mono',consolas,'Courier New',monospace\"></pre>\n"
            ]
          },
          "metadata": {}
        },
        {
          "output_type": "stream",
          "name": "stdout",
          "text": [
            "Prediction finished at： 2025-05-23 01:36:57\n",
            "   Odds  WeightCarried  SpeedRating  Odds_float  PredictedFinish  \\\n",
            "0   118           1.00         93.0       118.0         6.126705   \n",
            "1   123          18.20         93.0       123.0         6.131218   \n",
            "2   125          17.48         86.0       125.0         6.279463   \n",
            "3   123           6.10         88.0       123.0         6.333259   \n",
            "4   124           0.63         90.0       124.0         6.439195   \n",
            "5   118           4.80         88.0       118.0         6.481351   \n",
            "6   125           1.71         86.0       125.0         6.526072   \n",
            "7   118           1.90         91.0       118.0         6.570346   \n",
            "8   124           6.00         86.0       124.0         6.592524   \n",
            "9   125          11.20         83.0       125.0         6.672862   \n",
            "\n",
            "   PredictedStd  PredictedRank  \n",
            "0      2.310409              1  \n",
            "1      2.310812              2  \n",
            "2      2.320946              3  \n",
            "3      2.325087              4  \n",
            "4      2.301239              5  \n",
            "5      2.384988              6  \n",
            "6      2.353431              7  \n",
            "7      2.297406              8  \n",
            "8      2.331928              9  \n",
            "9      2.320695             10  \n"
          ]
        }
      ],
      "source": [
        "\n",
        "feature_cols = ['Odds_float', 'WeightCarried', 'SpeedRating']\n",
        "target_col = 'OfficialFinish'\n",
        "\n",
        "# Train and predict\n",
        "results_df_sorted = bart_train_and_predict(df_full, X_test, feature_cols, target_col)\n",
        "\n",
        "# Print top predictions\n",
        "print(\"Prediction finished at：\", datetime.now().strftime(\"%Y-%m-%d %H:%M:%S\"))\n",
        "print(results_df_sorted.head(10))\n",
        "\n",
        "\n"
      ]
    },
    {
      "cell_type": "code",
      "execution_count": 21,
      "id": "33fa38c3",
      "metadata": {
        "colab": {
          "base_uri": "https://localhost:8080/",
          "height": 407
        },
        "id": "33fa38c3",
        "outputId": "6218cab0-bd60-4c97-86f4-a4dd6971a14f"
      },
      "outputs": [
        {
          "output_type": "display_data",
          "data": {
            "text/plain": [
              "<Figure size 800x400 with 1 Axes>"
            ],
            "image/png": "[encoded data removed]"
          },
          "metadata": {}
        }
      ],
      "source": [
        "\n",
        "top10 = results_df_sorted.head(10).copy()\n",
        "top10_labels = [f\"Rank #{i+1}\" for i in range(len(top10))]\n",
        "\n",
        "plt.figure(figsize=(8, 4))\n",
        "plt.barh(top10_labels, top10[\"PredictedFinish\"], xerr=top10[\"PredictedStd\"])\n",
        "plt.xlabel(\"Predicted Finish\")\n",
        "plt.title(\"Top 10 Predicted Results\")\n",
        "plt.gca().invert_yaxis()\n",
        "plt.grid(True, alpha=0.3)\n",
        "plt.tight_layout()\n",
        "plt.show()\n"
      ]
    }
  ],
  "metadata": {
    "colab": {
      "provenance": []
    },
    "language_info": {
      "name": "python"
    },
    "kernelspec": {
      "name": "python3",
      "display_name": "Python 3"
    },
    "widgets": {
      "application/vnd.jupyter.widget-state+json": {
        "446bf417b47445ccadabf95c99df5a74": {
          "model_module": "@jupyter-widgets/output",
          "model_name": "OutputModel",
          "model_module_version": "1.0.0",
          "state": {
            "_dom_classes": [],
            "_model_module": "@jupyter-widgets/output",
            "_model_module_version": "1.0.0",
            "_model_name": "OutputModel",
            "_view_count": null,
            "_view_module": "@jupyter-widgets/output",
            "_view_module_version": "1.0.0",
            "_view_name": "OutputView",
            "layout": "IPY_MODEL_562ba76d53d24d29965ecdeeeb45fd59",
            "msg_id": "",
            "outputs": [
              {
                "output_type": "display_data",
                "data": {
                  "text/plain": "                                                                                                                   \n \u001b[1m \u001b[0m\u001b[1mProgress                 \u001b[0m\u001b[1m \u001b[0m \u001b[1m \u001b[0m\u001b[1mDraws\u001b[0m\u001b[1m \u001b[0m \u001b[1m \u001b[0m\u001b[1mDivergences\u001b[0m\u001b[1m \u001b[0m \u001b[1m \u001b[0m\u001b[1mStep size\u001b[0m\u001b[1m \u001b[0m \u001b[1m \u001b[0m\u001b[1mGrad evals\u001b[0m\u001b[1m \u001b[0m \u001b[1m \u001b[0m\u001b[1mSampling Speed\u001b[0m\u001b[1m \u001b[0m \u001b[1m \u001b[0m\u001b[1mElapsed\u001b[0m\u001b[1m \u001b[0m \u001b[1m \u001b[0m\u001b[1mRemaining\u001b[0m\u001b[1m \u001b[0m \n ───────────────────────────────────────────────────────────────────────────────────────────────────────────────── \n  \u001b[38;2;31;119;180m━━━━━━━━━━━━━━━━━━━━━━━━━\u001b[0m   2000    0             0.96        3            25.10 draws/s    0:01:19   0:00:00    \n  \u001b[38;2;31;119;180m━━━━━━━━━━━━━━━━━━━━━━━━━\u001b[0m   2000    0             0.91        3            11.99 draws/s    0:02:46   0:00:00    \n                                                                                                                   \n",
                  "text/html": "<pre style=\"white-space:pre;overflow-x:auto;line-height:normal;font-family:Menlo,'DejaVu Sans Mono',consolas,'Courier New',monospace\">                                                                                                                   \n <span style=\"font-weight: bold\"> Progress                  </span> <span style=\"font-weight: bold\"> Draws </span> <span style=\"font-weight: bold\"> Divergences </span> <span style=\"font-weight: bold\"> Step size </span> <span style=\"font-weight: bold\"> Grad evals </span> <span style=\"font-weight: bold\"> Sampling Speed </span> <span style=\"font-weight: bold\"> Elapsed </span> <span style=\"font-weight: bold\"> Remaining </span> \n ───────────────────────────────────────────────────────────────────────────────────────────────────────────────── \n  <span style=\"color: #1f77b4; text-decoration-color: #1f77b4\">━━━━━━━━━━━━━━━━━━━━━━━━━</span>   2000    0             0.96        3            25.10 draws/s    0:01:19   0:00:00    \n  <span style=\"color: #1f77b4; text-decoration-color: #1f77b4\">━━━━━━━━━━━━━━━━━━━━━━━━━</span>   2000    0             0.91        3            11.99 draws/s    0:02:46   0:00:00    \n                                                                                                                   \n</pre>\n"
                },
                "metadata": {}
              }
            ]
          }
        },
        "562ba76d53d24d29965ecdeeeb45fd59": {
          "model_module": "@jupyter-widgets/base",
          "model_name": "LayoutModel",
          "model_module_version": "1.2.0",
          "state": {
            "_model_module": "@jupyter-widgets/base",
            "_model_module_version": "1.2.0",
            "_model_name": "LayoutModel",
            "_view_count": null,
            "_view_module": "@jupyter-widgets/base",
            "_view_module_version": "1.2.0",
            "_view_name": "LayoutView",
            "align_content": null,
            "align_items": null,
            "align_self": null,
            "border": null,
            "bottom": null,
            "display": null,
            "flex": null,
            "flex_flow": null,
            "grid_area": null,
            "grid_auto_columns": null,
            "grid_auto_flow": null,
            "grid_auto_rows": null,
            "grid_column": null,
            "grid_gap": null,
            "grid_row": null,
            "grid_template_areas": null,
            "grid_template_columns": null,
            "grid_template_rows": null,
            "height": null,
            "justify_content": null,
            "justify_items": null,
            "left": null,
            "margin": null,
            "max_height": null,
            "max_width": null,
            "min_height": null,
            "min_width": null,
            "object_fit": null,
            "object_position": null,
            "order": null,
            "overflow": null,
            "overflow_x": null,
            "overflow_y": null,
            "padding": null,
            "right": null,
            "top": null,
            "visibility": null,
            "width": null
          }
        },
        "fddf0fb05e2b4b068071db4c738918b6": {
          "model_module": "@jupyter-widgets/output",
          "model_name": "OutputModel",
          "model_module_version": "1.0.0",
          "state": {
            "_dom_classes": [],
            "_model_module": "@jupyter-widgets/output",
            "_model_module_version": "1.0.0",
            "_model_name": "OutputModel",
            "_view_count": null,
            "_view_module": "@jupyter-widgets/output",
            "_view_module_version": "1.0.0",
            "_view_name": "OutputView",
            "layout": "IPY_MODEL_8ce69ddf960a4af28605d5f152affad5",
            "msg_id": "",
            "outputs": [
              {
                "output_type": "display_data",
                "data": {
                  "text/plain": "                                                                                                                   \n \u001b[1m \u001b[0m\u001b[1mProgress                 \u001b[0m\u001b[1m \u001b[0m \u001b[1m \u001b[0m\u001b[1mDraws\u001b[0m\u001b[1m \u001b[0m \u001b[1m \u001b[0m\u001b[1mDivergences\u001b[0m\u001b[1m \u001b[0m \u001b[1m \u001b[0m\u001b[1mStep size\u001b[0m\u001b[1m \u001b[0m \u001b[1m \u001b[0m\u001b[1mGrad evals\u001b[0m\u001b[1m \u001b[0m \u001b[1m \u001b[0m\u001b[1mSampling Speed\u001b[0m\u001b[1m \u001b[0m \u001b[1m \u001b[0m\u001b[1mElapsed\u001b[0m\u001b[1m \u001b[0m \u001b[1m \u001b[0m\u001b[1mRemaining\u001b[0m\u001b[1m \u001b[0m \n ───────────────────────────────────────────────────────────────────────────────────────────────────────────────── \n  \u001b[38;2;31;119;180m━━━━━━━━━━━━━━━━━━━━━━━━━\u001b[0m   2000    0             0.61        1            22.05 draws/s    0:01:30   0:00:00    \n  \u001b[38;2;31;119;180m━━━━━━━━━━━━━━━━━━━━━━━━━\u001b[0m   2000    0             0.96        7            11.35 draws/s    0:02:56   0:00:00    \n                                                                                                                   \n",
                  "text/html": "<pre style=\"white-space:pre;overflow-x:auto;line-height:normal;font-family:Menlo,'DejaVu Sans Mono',consolas,'Courier New',monospace\">                                                                                                                   \n <span style=\"font-weight: bold\"> Progress                  </span> <span style=\"font-weight: bold\"> Draws </span> <span style=\"font-weight: bold\"> Divergences </span> <span style=\"font-weight: bold\"> Step size </span> <span style=\"font-weight: bold\"> Grad evals </span> <span style=\"font-weight: bold\"> Sampling Speed </span> <span style=\"font-weight: bold\"> Elapsed </span> <span style=\"font-weight: bold\"> Remaining </span> \n ───────────────────────────────────────────────────────────────────────────────────────────────────────────────── \n  <span style=\"color: #1f77b4; text-decoration-color: #1f77b4\">━━━━━━━━━━━━━━━━━━━━━━━━━</span>   2000    0             0.61        1            22.05 draws/s    0:01:30   0:00:00    \n  <span style=\"color: #1f77b4; text-decoration-color: #1f77b4\">━━━━━━━━━━━━━━━━━━━━━━━━━</span>   2000    0             0.96        7            11.35 draws/s    0:02:56   0:00:00    \n                                                                                                                   \n</pre>\n"
                },
                "metadata": {}
              }
            ]
          }
        },
        "8ce69ddf960a4af28605d5f152affad5": {
          "model_module": "@jupyter-widgets/base",
          "model_name": "LayoutModel",
          "model_module_version": "1.2.0",
          "state": {
            "_model_module": "@jupyter-widgets/base",
            "_model_module_version": "1.2.0",
            "_model_name": "LayoutModel",
            "_view_count": null,
            "_view_module": "@jupyter-widgets/base",
            "_view_module_version": "1.2.0",
            "_view_name": "LayoutView",
            "align_content": null,
            "align_items": null,
            "align_self": null,
            "border": null,
            "bottom": null,
            "display": null,
            "flex": null,
            "flex_flow": null,
            "grid_area": null,
            "grid_auto_columns": null,
            "grid_auto_flow": null,
            "grid_auto_rows": null,
            "grid_column": null,
            "grid_gap": null,
            "grid_row": null,
            "grid_template_areas": null,
            "grid_template_columns": null,
            "grid_template_rows": null,
            "height": null,
            "justify_content": null,
            "justify_items": null,
            "left": null,
            "margin": null,
            "max_height": null,
            "max_width": null,
            "min_height": null,
            "min_width": null,
            "object_fit": null,
            "object_position": null,
            "order": null,
            "overflow": null,
            "overflow_x": null,
            "overflow_y": null,
            "padding": null,
            "right": null,
            "top": null,
            "visibility": null,
            "width": null
          }
        },
        "3a9c5e31d5934e0dbaed00cacc6bf901": {
          "model_module": "@jupyter-widgets/output",
          "model_name": "OutputModel",
          "model_module_version": "1.0.0",
          "state": {
            "_dom_classes": [],
            "_model_module": "@jupyter-widgets/output",
            "_model_module_version": "1.0.0",
            "_model_name": "OutputModel",
            "_view_count": null,
            "_view_module": "@jupyter-widgets/output",
            "_view_module_version": "1.0.0",
            "_view_name": "OutputView",
            "layout": "IPY_MODEL_0c6e2fad703a43ea9857ef7fe393962f",
            "msg_id": "",
            "outputs": [
              {
                "output_type": "display_data",
                "data": {
                  "text/plain": "                                                                                                                   \n \u001b[1m \u001b[0m\u001b[1mProgress                 \u001b[0m\u001b[1m \u001b[0m \u001b[1m \u001b[0m\u001b[1mDraws\u001b[0m\u001b[1m \u001b[0m \u001b[1m \u001b[0m\u001b[1mDivergences\u001b[0m\u001b[1m \u001b[0m \u001b[1m \u001b[0m\u001b[1mStep size\u001b[0m\u001b[1m \u001b[0m \u001b[1m \u001b[0m\u001b[1mGrad evals\u001b[0m\u001b[1m \u001b[0m \u001b[1m \u001b[0m\u001b[1mSampling Speed\u001b[0m\u001b[1m \u001b[0m \u001b[1m \u001b[0m\u001b[1mElapsed\u001b[0m\u001b[1m \u001b[0m \u001b[1m \u001b[0m\u001b[1mRemaining\u001b[0m\u001b[1m \u001b[0m \n ───────────────────────────────────────────────────────────────────────────────────────────────────────────────── \n  \u001b[38;2;31;119;180m━━━━━━━━━━━━━━━━━━━━━━━━━\u001b[0m   2000    0             0.27        15           22.95 draws/s    0:01:27   0:00:00    \n  \u001b[38;2;31;119;180m━━━━━━━━━━━━━━━━━━━━━━━━━\u001b[0m   2000    0             0.29        15           10.86 draws/s    0:03:04   0:00:00    \n                                                                                                                   \n",
                  "text/html": "<pre style=\"white-space:pre;overflow-x:auto;line-height:normal;font-family:Menlo,'DejaVu Sans Mono',consolas,'Courier New',monospace\">                                                                                                                   \n <span style=\"font-weight: bold\"> Progress                  </span> <span style=\"font-weight: bold\"> Draws </span> <span style=\"font-weight: bold\"> Divergences </span> <span style=\"font-weight: bold\"> Step size </span> <span style=\"font-weight: bold\"> Grad evals </span> <span style=\"font-weight: bold\"> Sampling Speed </span> <span style=\"font-weight: bold\"> Elapsed </span> <span style=\"font-weight: bold\"> Remaining </span> \n ───────────────────────────────────────────────────────────────────────────────────────────────────────────────── \n  <span style=\"color: #1f77b4; text-decoration-color: #1f77b4\">━━━━━━━━━━━━━━━━━━━━━━━━━</span>   2000    0             0.27        15           22.95 draws/s    0:01:27   0:00:00    \n  <span style=\"color: #1f77b4; text-decoration-color: #1f77b4\">━━━━━━━━━━━━━━━━━━━━━━━━━</span>   2000    0             0.29        15           10.86 draws/s    0:03:04   0:00:00    \n                                                                                                                   \n</pre>\n"
                },
                "metadata": {}
              }
            ]
          }
        },
        "0c6e2fad703a43ea9857ef7fe393962f": {
          "model_module": "@jupyter-widgets/base",
          "model_name": "LayoutModel",
          "model_module_version": "1.2.0",
          "state": {
            "_model_module": "@jupyter-widgets/base",
            "_model_module_version": "1.2.0",
            "_model_name": "LayoutModel",
            "_view_count": null,
            "_view_module": "@jupyter-widgets/base",
            "_view_module_version": "1.2.0",
            "_view_name": "LayoutView",
            "align_content": null,
            "align_items": null,
            "align_self": null,
            "border": null,
            "bottom": null,
            "display": null,
            "flex": null,
            "flex_flow": null,
            "grid_area": null,
            "grid_auto_columns": null,
            "grid_auto_flow": null,
            "grid_auto_rows": null,
            "grid_column": null,
            "grid_gap": null,
            "grid_row": null,
            "grid_template_areas": null,
            "grid_template_columns": null,
            "grid_template_rows": null,
            "height": null,
            "justify_content": null,
            "justify_items": null,
            "left": null,
            "margin": null,
            "max_height": null,
            "max_width": null,
            "min_height": null,
            "min_width": null,
            "object_fit": null,
            "object_position": null,
            "order": null,
            "overflow": null,
            "overflow_x": null,
            "overflow_y": null,
            "padding": null,
            "right": null,
            "top": null,
            "visibility": null,
            "width": null
          }
        },
        "713b1f5894c941ac86d49fdbe0acdff3": {
          "model_module": "@jupyter-widgets/output",
          "model_name": "OutputModel",
          "model_module_version": "1.0.0",
          "state": {
            "_dom_classes": [],
            "_model_module": "@jupyter-widgets/output",
            "_model_module_version": "1.0.0",
            "_model_name": "OutputModel",
            "_view_count": null,
            "_view_module": "@jupyter-widgets/output",
            "_view_module_version": "1.0.0",
            "_view_name": "OutputView",
            "layout": "IPY_MODEL_9626854a5758459b9a9ee5e14124f11b",
            "msg_id": "",
            "outputs": [
              {
                "output_type": "display_data",
                "data": {
                  "text/plain": "Sampling ... \u001b[32m━━━━━━━━━━━━━━━━━━━━━━━━━━━━━━━━━━━━━━━━\u001b[0m \u001b[35m100%\u001b[0m 0:00:00 / 0:00:00\n",
                  "text/html": "<pre style=\"white-space:pre;overflow-x:auto;line-height:normal;font-family:Menlo,'DejaVu Sans Mono',consolas,'Courier New',monospace\">Sampling ... <span style=\"color: #008000; text-decoration-color: #008000\">━━━━━━━━━━━━━━━━━━━━━━━━━━━━━━━━━━━━━━━━</span> <span style=\"color: #800080; text-decoration-color: #800080\">100%</span> 0:00:00 / 0:00:00\n</pre>\n"
                },
                "metadata": {}
              }
            ]
          }
        },
        "9626854a5758459b9a9ee5e14124f11b": {
          "model_module": "@jupyter-widgets/base",
          "model_name": "LayoutModel",
          "model_module_version": "1.2.0",
          "state": {
            "_model_module": "@jupyter-widgets/base",
            "_model_module_version": "1.2.0",
            "_model_name": "LayoutModel",
            "_view_count": null,
            "_view_module": "@jupyter-widgets/base",
            "_view_module_version": "1.2.0",
            "_view_name": "LayoutView",
            "align_content": null,
            "align_items": null,
            "align_self": null,
            "border": null,
            "bottom": null,
            "display": null,
            "flex": null,
            "flex_flow": null,
            "grid_area": null,
            "grid_auto_columns": null,
            "grid_auto_flow": null,
            "grid_auto_rows": null,
            "grid_column": null,
            "grid_gap": null,
            "grid_row": null,
            "grid_template_areas": null,
            "grid_template_columns": null,
            "grid_template_rows": null,
            "height": null,
            "justify_content": null,
            "justify_items": null,
            "left": null,
            "margin": null,
            "max_height": null,
            "max_width": null,
            "min_height": null,
            "min_width": null,
            "object_fit": null,
            "object_position": null,
            "order": null,
            "overflow": null,
            "overflow_x": null,
            "overflow_y": null,
            "padding": null,
            "right": null,
            "top": null,
            "visibility": null,
            "width": null
          }
        }
      }
    }
  },
  "nbformat": 4,
  "nbformat_minor": 5
}