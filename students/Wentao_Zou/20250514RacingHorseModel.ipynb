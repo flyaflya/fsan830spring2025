{
  "nbformat": 4,
  "nbformat_minor": 0,
  "metadata": {
    "colab": {
      "provenance": [],
      "gpuType": "T4"
    },
    "kernelspec": {
      "name": "python3",
      "display_name": "Python 3"
    },
    "language_info": {
      "name": "python"
    },
    "accelerator": "GPU"
  },
  "cells": [
    {
      "cell_type": "code",
      "execution_count": 1,
      "metadata": {
        "id": "yiJBskcFa1kb"
      },
      "outputs": [],
      "source": [
        "import pandas as pd\n",
        "import numpy as np\n",
        "from sklearn.model_selection import train_test_split\n",
        "from sklearn.preprocessing import MinMaxScaler\n",
        "from sklearn.metrics import mean_squared_error, mean_absolute_error\n",
        "import torch\n",
        "from torch.utils.data import Dataset, DataLoader\n",
        "from transformers import BartTokenizer, BartModel\n",
        "from torch.optim import AdamW\n",
        "from torch import nn\n",
        "import os\n",
        "from tqdm import tqdm\n",
        "\n",
        "# Set random seed for reproducibility\n",
        "torch.manual_seed(77)\n",
        "np.random.seed(77)\n",
        "\n",
        "# Step 1: Load and preprocess the data\n",
        "def load_and_preprocess_data(file_path, is_test=False):\n",
        "    df = pd.read_csv(file_path)\n",
        "    print(f\"Loaded data with {len(df)} rows and {len(df.columns)} columns\")\n",
        "\n",
        "\n",
        "    # Map test dataset columns to training feature names\n",
        "    df.drop(columns = 'horse', inplace =True)\n",
        "\n",
        "    column_mapping = {\n",
        "        'horse_name': 'horse',\n",
        "        'surface_code': 'surface_x',\n",
        "        'purse': 'purse_x',\n",
        "        'odds': 'dollar_odds',\n",
        "        'sex': 'sex_code'\n",
        "    }\n",
        "    df = df.rename(columns=column_mapping)\n",
        "\n",
        "    # Convert distance from yards to furlongs (1 furlong = 220 yards)\n",
        "    if 'distance' in df.columns:\n",
        "        df['distance_f'] = df['distance'] / 220.0\n",
        "\n",
        "    # Define features\n",
        "    features = [\n",
        "        'horse', 'jockey', 'trainer', 'program_number', 'surface_x', 'distance_f', 'purse_x',\n",
        "        'track_code', 'race_date', 'race_number', 'race_type', 'weight', 'age', 'sex_code',\n",
        "        'dollar_odds', 'recent_finish_pos_1', 'recent_lengths_back_finish_1', 'recent_purse_1',\n",
        "        'recent_finish_pos_2', 'recent_lengths_back_finish_2', 'recent_purse_2',\n",
        "        'recent_finish_pos_3', 'recent_lengths_back_finish_3', 'recent_purse_3',\n",
        "        'recent_finish_pos_4', 'recent_lengths_back_finish_4', 'recent_purse_4',\n",
        "        'recent_finish_pos_5', 'recent_lengths_back_finish_5', 'recent_purse_5'\n",
        "    ]\n",
        "    targets = ['official_finish', 'speed_rating', 'win_time']\n",
        "\n",
        "    # Add missing features for test dataset\n",
        "    for i in range(1, 6):\n",
        "        finish_pos_col = f'recent_finish_pos_{i}'\n",
        "        lengths_col = f'recent_lengths_back_finish_{i}'\n",
        "        purse_col = f'recent_purse_{i}'\n",
        "        if finish_pos_col not in df.columns:\n",
        "            df[finish_pos_col] = df.get(f'recentFinishPosition{i}', -1)\n",
        "        if lengths_col not in df.columns:\n",
        "            df[lengths_col] = -1\n",
        "        if purse_col not in df.columns:\n",
        "            df[purse_col] = -1\n",
        "\n",
        "    # Drop rows with missing target values (only for training data)\n",
        "    if not is_test and all(col in df.columns for col in targets):\n",
        "        df = df.dropna(subset=targets).copy()\n",
        "        print(f\"After dropping NaN targets: {len(df)} rows\")\n",
        "\n",
        "\n",
        "    # Handle missing values\n",
        "    numerical_cols = [\n",
        "        'distance_f', 'purse_x', 'dollar_odds', 'weight', 'age',\n",
        "        'recent_finish_pos_1', 'recent_lengths_back_finish_1', 'recent_purse_1',\n",
        "        'recent_finish_pos_2', 'recent_lengths_back_finish_2', 'recent_purse_2',\n",
        "        'recent_finish_pos_3', 'recent_lengths_back_finish_3', 'recent_purse_3',\n",
        "        'recent_finish_pos_4', 'recent_lengths_back_finish_4', 'recent_purse_4',\n",
        "        'recent_finish_pos_5', 'recent_lengths_back_finish_5', 'recent_purse_5'\n",
        "    ]\n",
        "    for col in features:\n",
        "        if col in df.columns:\n",
        "            # Use df[col].dtype instead of df[col].dtypes\n",
        "            # Check if the column's dtype is a numerical type\n",
        "            if pd.api.types.is_numeric_dtype(df[col]): # Corrected to check the column's dtype\n",
        "                df[col] = df[col].fillna(-1)\n",
        "            else:\n",
        "                df[col] = df[col].fillna('unknown')\n",
        "        else:\n",
        "            df[col] = -1 if col in numerical_cols else 'unknown'\n",
        "\n",
        "\n",
        "\n",
        "\n",
        "    # Normalize numerical features\n",
        "    scaler = MinMaxScaler()\n",
        "    for col in numerical_cols:\n",
        "        if col not in df.columns:\n",
        "            df[col] = -1\n",
        "    df[numerical_cols] = scaler.fit_transform(df[numerical_cols])\n",
        "\n",
        "    # Create text sequences\n",
        "    def create_text_sequence(row):\n",
        "        text = (\n",
        "            f\"Horse: {row['horse']}, Jockey: {row['jockey']}, Trainer: {row['trainer']}, \"\n",
        "            f\"Program: {row['program_number']}, Surface: {row['surface_x']}, \"\n",
        "            f\"Distance: {row['distance_f']:.2f} furlongs, Purse: {row['purse_x']:.2f}, \"\n",
        "            f\"Track: {row['track_code']}, Date: {row['race_date']}, Race: {row['race_number']}, \"\n",
        "            f\"Type: {row['race_type']}, Weight: {row['weight']:.2f}, Age: {row['age']:.2f}, \"\n",
        "            f\"Sex: {row['sex_code']}, Odds: {row['dollar_odds']:.2f}, \"\n",
        "            f\"Recent Finish 1: {row['recent_finish_pos_1']:.2f}, Recent Lengths 1: {row['recent_lengths_back_finish_1']:.2f}, \"\n",
        "            f\"Recent Purse 1: {row['recent_purse_1']:.2f}, \"\n",
        "            f\"Recent Finish 2: {row['recent_finish_pos_2']:.2f}, Recent Lengths 2: {row['recent_lengths_back_finish_2']:.2f}, \"\n",
        "            f\"Recent Purse 2: {row['recent_purse_2']:.2f}, \"\n",
        "            f\"Recent Finish 3: {row['recent_finish_pos_3']:.2f}, Recent Lengths 3: {row['recent_lengths_back_finish_3']:.2f}, \"\n",
        "            f\"Recent Purse 3: {row['recent_purse_3']:.2f}, \"\n",
        "            f\"Recent Finish 4: {row['recent_finish_pos_4']:.2f}, Recent Lengths 4: {row['recent_lengths_back_finish_4']:.2f}, \"\n",
        "            f\"Recent Purse 4: {row['recent_purse_4']:.2f}, \"\n",
        "            f\"Recent Finish 5: {row['recent_finish_pos_5']:.2f}, Recent Lengths 5: {row['recent_lengths_back_finish_5']:.2f}, \"\n",
        "            f\"Recent Purse 5: {row['recent_purse_5']:.2f}\"\n",
        "        )\n",
        "        return text\n",
        "    df['input_text'] = df.apply(create_text_sequence, axis=1)\n",
        "    if not is_test and all(col in df.columns for col in targets):\n",
        "        df['target_text'] = df.apply(\n",
        "            lambda row: f\"Finish: {row['official_finish']}, Speed: {row['speed_rating']}, Time: {row['win_time']}\", axis=1\n",
        "        )\n",
        "    else:\n",
        "        df['target_text'] = 'unknown'  # Placeholder for test data without targets\n",
        "\n",
        "    # Preserve necessary columns\n",
        "    columns_to_keep = ['input_text', 'target_text', 'horse', 'program_number', 'race_number'] + (targets if all(col in df.columns for col in targets) else [])\n",
        "    return df[columns_to_keep], scaler # Modified to return necessary columns\n",
        "\n",
        "\n",
        "# Step 2: Custom Dataset\n",
        "class RaceDataset(Dataset):\n",
        "    def __init__(self, df, tokenizer, max_length=512):\n",
        "        self.df = df\n",
        "        self.tokenizer = tokenizer\n",
        "        self.max_length = max_length\n",
        "        self.has_targets = all(col in df.columns for col in ['official_finish', 'speed_rating', 'win_time'])\n",
        "\n",
        "    def __len__(self):\n",
        "        return len(self.df)\n",
        "\n",
        "    def __getitem__(self, idx):\n",
        "        input_text = self.df.iloc[idx]['input_text']\n",
        "        target_text = self.df.iloc[idx]['target_text']\n",
        "        targets = self.df.iloc[idx][['official_finish', 'speed_rating', 'win_time']].values.astype(float) if self.has_targets else np.zeros(3)\n",
        "\n",
        "        # Tokenize input\n",
        "        input_encoding = self.tokenizer(\n",
        "            input_text,\n",
        "            max_length=self.max_length,\n",
        "            padding='max_length',\n",
        "            truncation=True,\n",
        "            return_tensors='pt'\n",
        "        )\n",
        "\n",
        "        # Tokenize target (for decoder input)\n",
        "        target_encoding = self.tokenizer(\n",
        "            target_text,\n",
        "            max_length=32,\n",
        "            padding='max_length',\n",
        "            truncation=True,\n",
        "            return_tensors='pt'\n",
        "        )\n",
        "\n",
        "        return {\n",
        "            'input_ids': input_encoding['input_ids'].squeeze(),\n",
        "            'attention_mask': input_encoding['attention_mask'].squeeze(),\n",
        "            'decoder_input_ids': target_encoding['input_ids'].squeeze(),\n",
        "            'decoder_attention_mask': target_encoding['attention_mask'].squeeze(),\n",
        "            'labels': torch.tensor(targets, dtype=torch.float) if self.has_targets else torch.zeros(3, dtype=torch.float)\n",
        "        }\n",
        "\n",
        "# Step 3: Custom BART Model for Regression\n",
        "class BartForRegression(nn.Module):\n",
        "    def __init__(self, bart_model):\n",
        "        super(BartForRegression, self).__init__()\n",
        "        self.bart = bart_model\n",
        "        self.regression_head = nn.Linear(self.bart.config.d_model, 3)  # 3 outputs: official_finish, speed_rating, win_time\n",
        "\n",
        "    def forward(self, input_ids, attention_mask, decoder_input_ids, decoder_attention_mask):\n",
        "        outputs = self.bart(\n",
        "            input_ids=input_ids,\n",
        "            attention_mask=attention_mask,\n",
        "            decoder_input_ids=decoder_input_ids,\n",
        "            decoder_attention_mask=decoder_attention_mask\n",
        "        )\n",
        "        last_hidden_state = outputs.last_hidden_state[:, 0, :]\n",
        "        predictions = self.regression_head(last_hidden_state)\n",
        "        return predictions\n",
        "\n",
        "# Step 4: Training Loop\n",
        "def train_model(model, train_loader, val_loader, device, epochs=5):\n",
        "    optimizer = AdamW(model.parameters(), lr=5e-5)\n",
        "    best_val_loss = float('inf')\n",
        "    patience = 2\n",
        "    patience_counter = 0\n",
        "\n",
        "    for epoch in tqdm(range(epochs), desc = 'Epoch Training' ):\n",
        "        model.train()\n",
        "        train_loss = 0\n",
        "        for k, batch in enumerate(train_loader):\n",
        "            print('batch: ', k,'/',len(train_loader))\n",
        "            input_ids = batch['input_ids'].to(device)\n",
        "            attention_mask = batch['attention_mask'].to(device)\n",
        "            decoder_input_ids = batch['decoder_input_ids'].to(device)\n",
        "            decoder_attention_mask = batch['decoder_attention_mask'].to(device)\n",
        "            labels = batch['labels'].to(device)\n",
        "\n",
        "            optimizer.zero_grad()\n",
        "            predictions = model(input_ids, attention_mask, decoder_input_ids, decoder_attention_mask)\n",
        "            loss = nn.MSELoss()(predictions, labels)\n",
        "            loss.backward()\n",
        "            optimizer.step()\n",
        "            train_loss += loss.item()\n",
        "\n",
        "        train_loss /= len(train_loader)\n",
        "        print(f\"Epoch {epoch+1}, Train Loss: {train_loss:.4f}\")\n",
        "\n",
        "        # Validation\n",
        "        model.eval()\n",
        "        val_loss = 0\n",
        "        with torch.no_grad():\n",
        "            for batch in val_loader:\n",
        "                input_ids = batch['input_ids'].to(device)\n",
        "                attention_mask = batch['attention_mask'].to(device)\n",
        "                decoder_input_ids = batch['decoder_input_ids'].to(device)\n",
        "                decoder_attention_mask = batch['decoder_attention_mask'].to(device)\n",
        "                labels = batch['labels'].to(device)\n",
        "\n",
        "                predictions = model(input_ids, attention_mask, decoder_input_ids, decoder_attention_mask)\n",
        "                loss = nn.MSELoss()(predictions, labels)\n",
        "                val_loss += loss.item()\n",
        "\n",
        "        val_loss /= len(val_loader)\n",
        "        print(f\"Epoch {epoch+1}, Val Loss: {val_loss:.4f}\")\n",
        "\n",
        "        # Early stopping\n",
        "        if val_loss < best_val_loss:\n",
        "            best_val_loss = val_loss\n",
        "            patience_counter = 0\n",
        "            torch.save(model.state_dict(), 'best_bart_model.pt')\n",
        "        else:\n",
        "            patience_counter += 1\n",
        "            if patience_counter >= patience:\n",
        "                print(\"Early stopping triggered\")\n",
        "                break\n",
        "\n",
        "# Step 5: Evaluate on Test Set\n",
        "def evaluate_model(model, test_file_or_df, tokenizer, scaler, device, is_external_test=False):\n",
        "    # Load test data if a file path is provided\n",
        "    if isinstance(test_file_or_df, str):\n",
        "        test_df, _ = load_and_preprocess_data(test_file_or_df, is_test=True)\n",
        "    else:\n",
        "        test_df = test_file_or_df\n",
        "\n",
        "    test_dataset = RaceDataset(test_df, tokenizer)\n",
        "    test_loader = DataLoader(test_dataset, batch_size=8)\n",
        "\n",
        "    model.eval()\n",
        "    predictions = []\n",
        "    actuals = []\n",
        "\n",
        "    with torch.no_grad():\n",
        "        for batch in test_loader:\n",
        "            input_ids = batch['input_ids'].to(device)\n",
        "            attention_mask = batch['attention_mask'].to(device)\n",
        "            decoder_input_ids = batch['decoder_input_ids'].to(device)\n",
        "            decoder_attention_mask = batch['decoder_attention_mask'].to(device)\n",
        "            labels = batch['labels'].to(device)\n",
        "\n",
        "            preds = model(input_ids, attention_mask, decoder_input_ids, decoder_attention_mask)\n",
        "            predictions.append(preds.cpu().numpy())\n",
        "            if test_dataset.has_targets:\n",
        "                actuals.append(labels.cpu().numpy())\n",
        "\n",
        "    predictions = np.vstack(predictions)\n",
        "    output_file = 'external_test_predictions.csv' if is_external_test else 'internal_test_predictions.csv'\n",
        "\n",
        "    if test_dataset.has_targets:\n",
        "        actuals = np.vstack(actuals)\n",
        "        mse = mean_squared_error(actuals, predictions, multioutput='raw_values')\n",
        "        rmse = np.sqrt(mse)\n",
        "        mae = mean_absolute_error(actuals, predictions, multioutput='raw_values')\n",
        "\n",
        "        print(\"\\nTest Set Evaluation Metrics:\")\n",
        "        for i, metric in enumerate(['Official Finish', 'Speed Rating', 'Win Time']):\n",
        "            print(f\"{metric}:\")\n",
        "            print(f\"  MSE: {mse[i]:.4f}\")\n",
        "            print(f\"  RMSE: {rmse[i]:.4f}\")\n",
        "            print(f\"  MAE: {mae[i]:.4f}\")\n",
        "\n",
        "        results = pd.DataFrame({\n",
        "            'actual_finish': actuals[:, 0],\n",
        "            'predicted_finish': predictions[:, 0],\n",
        "            'actual_speed': actuals[:, 1],\n",
        "            'predicted_speed': predictions[:, 1],\n",
        "            'actual_time': actuals[:, 2],\n",
        "            'predicted_time': predictions[:, 2],\n",
        "            'horse': test_df['horse'],\n",
        "            'program_number': test_df['program_number'],\n",
        "            'race_number': test_df['race_number']\n",
        "        })\n",
        "    else:\n",
        "        print(\"\\nNo target columns in test data. Saving predictions only.\")\n",
        "        results = pd.DataFrame({\n",
        "            'predicted_finish': predictions[:, 0],\n",
        "            'predicted_speed': predictions[:, 1],\n",
        "            'predicted_time': predictions[:, 2],\n",
        "            'horse': test_df['horse'],\n",
        "            'program_number': test_df['program_number'],\n",
        "            'race_number': test_df['race_number']\n",
        "        })\n",
        "\n",
        "    results.to_csv(output_file, index=False)\n",
        "    print(f\"\\nTest predictions saved to '{output_file}'\")\n",
        "    return predictions, actuals if test_dataset.has_targets else None"
      ]
    },
    {
      "cell_type": "code",
      "source": [
        "train_file = 'merged_race_data_20250509_modified.csv'\n",
        "external_test_file = '/content/CDX0426_filtered.csv'\n",
        "\n",
        "# Load and preprocess\n",
        "df, scaler = load_and_preprocess_data(train_file)"
      ],
      "metadata": {
        "colab": {
          "base_uri": "https://localhost:8080/"
        },
        "id": "ecLndioZS9Wy",
        "outputId": "8357b1ec-151d-4573-f0ff-3fb10ff54609"
      },
      "execution_count": 2,
      "outputs": [
        {
          "output_type": "stream",
          "name": "stdout",
          "text": [
            "Loaded data with 1757 rows and 122 columns\n",
            "After dropping NaN targets: 1481 rows\n"
          ]
        }
      ]
    },
    {
      "cell_type": "code",
      "source": [
        "train_val_df, test_df = train_test_split(df, test_size=0.15, random_state=77)\n",
        "train_df, val_df = train_test_split(train_val_df, test_size=0.1765, random_state=77)  # 0.1765 ≈ 0.15/(1-0.15)\n",
        "print(f\"Train: {len(train_df)}, Val: {len(val_df)}, Test: {len(test_df)}\")\n"
      ],
      "metadata": {
        "colab": {
          "base_uri": "https://localhost:8080/"
        },
        "id": "hD6FU5JWS9T6",
        "outputId": "845ec7ba-4385-4c30-8e18-5db16feb50fd"
      },
      "execution_count": 3,
      "outputs": [
        {
          "output_type": "stream",
          "name": "stdout",
          "text": [
            "Train: 1035, Val: 223, Test: 223\n"
          ]
        }
      ]
    },
    {
      "cell_type": "code",
      "source": [
        "  # Initialize tokenizer and model\n",
        "tokenizer = BartTokenizer.from_pretrained('facebook/bart-base')\n",
        "bart_model = BartModel.from_pretrained('facebook/bart-base')\n",
        "model = BartForRegression(bart_model)\n",
        "device = torch.device('cuda' if torch.cuda.is_available() else 'cpu')\n",
        "model.to(device)\n"
      ],
      "metadata": {
        "colab": {
          "base_uri": "https://localhost:8080/"
        },
        "id": "KwDlEzpLS9RE",
        "outputId": "d33def9e-7968-4a01-b35d-43392a529316"
      },
      "execution_count": 4,
      "outputs": [
        {
          "output_type": "stream",
          "name": "stderr",
          "text": [
            "/usr/local/lib/python3.11/dist-packages/huggingface_hub/utils/_auth.py:94: UserWarning: \n",
            "The secret `HF_TOKEN` does not exist in your Colab secrets.\n",
            "To authenticate with the Hugging Face Hub, create a token in your settings tab (https://huggingface.co/settings/tokens), set it as secret in your Google Colab and restart your session.\n",
            "You will be able to reuse this secret in all of your notebooks.\n",
            "Please note that authentication is recommended but still optional to access public models or datasets.\n",
            "  warnings.warn(\n"
          ]
        },
        {
          "output_type": "execute_result",
          "data": {
            "text/plain": [
              "BartForRegression(\n",
              "  (bart): BartModel(\n",
              "    (shared): BartScaledWordEmbedding(50265, 768, padding_idx=1)\n",
              "    (encoder): BartEncoder(\n",
              "      (embed_tokens): BartScaledWordEmbedding(50265, 768, padding_idx=1)\n",
              "      (embed_positions): BartLearnedPositionalEmbedding(1026, 768)\n",
              "      (layers): ModuleList(\n",
              "        (0-5): 6 x BartEncoderLayer(\n",
              "          (self_attn): BartSdpaAttention(\n",
              "            (k_proj): Linear(in_features=768, out_features=768, bias=True)\n",
              "            (v_proj): Linear(in_features=768, out_features=768, bias=True)\n",
              "            (q_proj): Linear(in_features=768, out_features=768, bias=True)\n",
              "            (out_proj): Linear(in_features=768, out_features=768, bias=True)\n",
              "          )\n",
              "          (self_attn_layer_norm): LayerNorm((768,), eps=1e-05, elementwise_affine=True)\n",
              "          (activation_fn): GELUActivation()\n",
              "          (fc1): Linear(in_features=768, out_features=3072, bias=True)\n",
              "          (fc2): Linear(in_features=3072, out_features=768, bias=True)\n",
              "          (final_layer_norm): LayerNorm((768,), eps=1e-05, elementwise_affine=True)\n",
              "        )\n",
              "      )\n",
              "      (layernorm_embedding): LayerNorm((768,), eps=1e-05, elementwise_affine=True)\n",
              "    )\n",
              "    (decoder): BartDecoder(\n",
              "      (embed_tokens): BartScaledWordEmbedding(50265, 768, padding_idx=1)\n",
              "      (embed_positions): BartLearnedPositionalEmbedding(1026, 768)\n",
              "      (layers): ModuleList(\n",
              "        (0-5): 6 x BartDecoderLayer(\n",
              "          (self_attn): BartSdpaAttention(\n",
              "            (k_proj): Linear(in_features=768, out_features=768, bias=True)\n",
              "            (v_proj): Linear(in_features=768, out_features=768, bias=True)\n",
              "            (q_proj): Linear(in_features=768, out_features=768, bias=True)\n",
              "            (out_proj): Linear(in_features=768, out_features=768, bias=True)\n",
              "          )\n",
              "          (activation_fn): GELUActivation()\n",
              "          (self_attn_layer_norm): LayerNorm((768,), eps=1e-05, elementwise_affine=True)\n",
              "          (encoder_attn): BartSdpaAttention(\n",
              "            (k_proj): Linear(in_features=768, out_features=768, bias=True)\n",
              "            (v_proj): Linear(in_features=768, out_features=768, bias=True)\n",
              "            (q_proj): Linear(in_features=768, out_features=768, bias=True)\n",
              "            (out_proj): Linear(in_features=768, out_features=768, bias=True)\n",
              "          )\n",
              "          (encoder_attn_layer_norm): LayerNorm((768,), eps=1e-05, elementwise_affine=True)\n",
              "          (fc1): Linear(in_features=768, out_features=3072, bias=True)\n",
              "          (fc2): Linear(in_features=3072, out_features=768, bias=True)\n",
              "          (final_layer_norm): LayerNorm((768,), eps=1e-05, elementwise_affine=True)\n",
              "        )\n",
              "      )\n",
              "      (layernorm_embedding): LayerNorm((768,), eps=1e-05, elementwise_affine=True)\n",
              "    )\n",
              "  )\n",
              "  (regression_head): Linear(in_features=768, out_features=3, bias=True)\n",
              ")"
            ]
          },
          "metadata": {},
          "execution_count": 4
        }
      ]
    },
    {
      "cell_type": "code",
      "source": [
        "train_dataset = RaceDataset(train_df, tokenizer)\n",
        "val_dataset = RaceDataset(val_df, tokenizer)\n",
        "test_dataset = RaceDataset(test_df, tokenizer)\n",
        "\n",
        "train_loader = DataLoader(train_dataset, batch_size=64, shuffle=True)\n",
        "val_loader = DataLoader(val_dataset, batch_size=64)\n",
        "test_loader = DataLoader(test_dataset, batch_size=64)"
      ],
      "metadata": {
        "id": "csI3VIHKS9OW"
      },
      "execution_count": 5,
      "outputs": []
    },
    {
      "cell_type": "code",
      "source": [
        "train_model(model, train_loader, val_loader, device, epochs=100)"
      ],
      "metadata": {
        "colab": {
          "base_uri": "https://localhost:8080/"
        },
        "id": "aWzy62VXS9LL",
        "outputId": "62d14479-fedc-4e28-f039-b1c788eb2a11"
      },
      "execution_count": 6,
      "outputs": [
        {
          "output_type": "stream",
          "name": "stderr",
          "text": [
            "\rEpoch Training:   0%|          | 0/100 [00:00<?, ?it/s]"
          ]
        },
        {
          "output_type": "stream",
          "name": "stdout",
          "text": [
            "batch:  0 / 17\n",
            "batch:  1 / 17\n",
            "batch:  2 / 17\n",
            "batch:  3 / 17\n",
            "batch:  4 / 17\n",
            "batch:  5 / 17\n",
            "batch:  6 / 17\n",
            "batch:  7 / 17\n",
            "batch:  8 / 17\n",
            "batch:  9 / 17\n",
            "batch:  10 / 17\n",
            "batch:  11 / 17\n",
            "batch:  12 / 17\n",
            "batch:  13 / 17\n",
            "batch:  14 / 17\n",
            "batch:  15 / 17\n",
            "batch:  16 / 17\n",
            "Epoch 1, Train Loss: 3519.8296\n",
            "Epoch 1, Val Loss: 2987.5911\n"
          ]
        },
        {
          "output_type": "stream",
          "name": "stderr",
          "text": [
            "\rEpoch Training:   1%|          | 1/100 [01:06<1:49:24, 66.30s/it]"
          ]
        },
        {
          "output_type": "stream",
          "name": "stdout",
          "text": [
            "batch:  0 / 17\n",
            "batch:  1 / 17\n",
            "batch:  2 / 17\n",
            "batch:  3 / 17\n",
            "batch:  4 / 17\n",
            "batch:  5 / 17\n",
            "batch:  6 / 17\n",
            "batch:  7 / 17\n",
            "batch:  8 / 17\n",
            "batch:  9 / 17\n",
            "batch:  10 / 17\n",
            "batch:  11 / 17\n",
            "batch:  12 / 17\n",
            "batch:  13 / 17\n",
            "batch:  14 / 17\n",
            "batch:  15 / 17\n",
            "batch:  16 / 17\n",
            "Epoch 2, Train Loss: 2821.9818\n",
            "Epoch 2, Val Loss: 2791.2872\n"
          ]
        },
        {
          "output_type": "stream",
          "name": "stderr",
          "text": [
            "\rEpoch Training:   2%|▏         | 2/100 [02:15<1:50:54, 67.90s/it]"
          ]
        },
        {
          "output_type": "stream",
          "name": "stdout",
          "text": [
            "batch:  0 / 17\n",
            "batch:  1 / 17\n",
            "batch:  2 / 17\n",
            "batch:  3 / 17\n",
            "batch:  4 / 17\n",
            "batch:  5 / 17\n",
            "batch:  6 / 17\n",
            "batch:  7 / 17\n",
            "batch:  8 / 17\n",
            "batch:  9 / 17\n",
            "batch:  10 / 17\n",
            "batch:  11 / 17\n",
            "batch:  12 / 17\n",
            "batch:  13 / 17\n",
            "batch:  14 / 17\n",
            "batch:  15 / 17\n",
            "batch:  16 / 17\n",
            "Epoch 3, Train Loss: 2699.2934\n",
            "Epoch 3, Val Loss: 2694.3449\n"
          ]
        },
        {
          "output_type": "stream",
          "name": "stderr",
          "text": [
            "\rEpoch Training:   3%|▎         | 3/100 [03:24<1:51:02, 68.68s/it]"
          ]
        },
        {
          "output_type": "stream",
          "name": "stdout",
          "text": [
            "batch:  0 / 17\n",
            "batch:  1 / 17\n",
            "batch:  2 / 17\n",
            "batch:  3 / 17\n",
            "batch:  4 / 17\n",
            "batch:  5 / 17\n",
            "batch:  6 / 17\n",
            "batch:  7 / 17\n",
            "batch:  8 / 17\n",
            "batch:  9 / 17\n",
            "batch:  10 / 17\n",
            "batch:  11 / 17\n",
            "batch:  12 / 17\n",
            "batch:  13 / 17\n",
            "batch:  14 / 17\n",
            "batch:  15 / 17\n",
            "batch:  16 / 17\n",
            "Epoch 4, Train Loss: 2560.5677\n",
            "Epoch 4, Val Loss: 2605.0007\n"
          ]
        },
        {
          "output_type": "stream",
          "name": "stderr",
          "text": [
            "\rEpoch Training:   4%|▍         | 4/100 [05:19<2:18:47, 86.75s/it]"
          ]
        },
        {
          "output_type": "stream",
          "name": "stdout",
          "text": [
            "batch:  0 / 17\n",
            "batch:  1 / 17\n",
            "batch:  2 / 17\n",
            "batch:  3 / 17\n",
            "batch:  4 / 17\n",
            "batch:  5 / 17\n",
            "batch:  6 / 17\n",
            "batch:  7 / 17\n",
            "batch:  8 / 17\n",
            "batch:  9 / 17\n",
            "batch:  10 / 17\n",
            "batch:  11 / 17\n",
            "batch:  12 / 17\n",
            "batch:  13 / 17\n",
            "batch:  14 / 17\n",
            "batch:  15 / 17\n",
            "batch:  16 / 17\n",
            "Epoch 5, Train Loss: 2449.1194\n",
            "Epoch 5, Val Loss: 2518.0794\n"
          ]
        },
        {
          "output_type": "stream",
          "name": "stderr",
          "text": [
            "\rEpoch Training:   5%|▌         | 5/100 [06:34<2:10:49, 82.62s/it]"
          ]
        },
        {
          "output_type": "stream",
          "name": "stdout",
          "text": [
            "batch:  0 / 17\n",
            "batch:  1 / 17\n",
            "batch:  2 / 17\n",
            "batch:  3 / 17\n",
            "batch:  4 / 17\n",
            "batch:  5 / 17\n",
            "batch:  6 / 17\n",
            "batch:  7 / 17\n",
            "batch:  8 / 17\n",
            "batch:  9 / 17\n",
            "batch:  10 / 17\n",
            "batch:  11 / 17\n",
            "batch:  12 / 17\n",
            "batch:  13 / 17\n",
            "batch:  14 / 17\n",
            "batch:  15 / 17\n",
            "batch:  16 / 17\n",
            "Epoch 6, Train Loss: 2362.2235\n",
            "Epoch 6, Val Loss: 2433.2755\n"
          ]
        },
        {
          "output_type": "stream",
          "name": "stderr",
          "text": [
            "\rEpoch Training:   6%|▌         | 6/100 [07:45<2:02:55, 78.46s/it]"
          ]
        },
        {
          "output_type": "stream",
          "name": "stdout",
          "text": [
            "batch:  0 / 17\n",
            "batch:  1 / 17\n",
            "batch:  2 / 17\n",
            "batch:  3 / 17\n",
            "batch:  4 / 17\n",
            "batch:  5 / 17\n",
            "batch:  6 / 17\n",
            "batch:  7 / 17\n",
            "batch:  8 / 17\n",
            "batch:  9 / 17\n",
            "batch:  10 / 17\n",
            "batch:  11 / 17\n",
            "batch:  12 / 17\n",
            "batch:  13 / 17\n",
            "batch:  14 / 17\n",
            "batch:  15 / 17\n",
            "batch:  16 / 17\n",
            "Epoch 7, Train Loss: 2269.6188\n",
            "Epoch 7, Val Loss: 2351.0057\n"
          ]
        },
        {
          "output_type": "stream",
          "name": "stderr",
          "text": [
            "\rEpoch Training:   7%|▋         | 7/100 [09:00<1:59:52, 77.34s/it]"
          ]
        },
        {
          "output_type": "stream",
          "name": "stdout",
          "text": [
            "batch:  0 / 17\n",
            "batch:  1 / 17\n",
            "batch:  2 / 17\n",
            "batch:  3 / 17\n",
            "batch:  4 / 17\n",
            "batch:  5 / 17\n",
            "batch:  6 / 17\n",
            "batch:  7 / 17\n",
            "batch:  8 / 17\n",
            "batch:  9 / 17\n",
            "batch:  10 / 17\n",
            "batch:  11 / 17\n",
            "batch:  12 / 17\n",
            "batch:  13 / 17\n",
            "batch:  14 / 17\n",
            "batch:  15 / 17\n",
            "batch:  16 / 17\n",
            "Epoch 8, Train Loss: 2223.3305\n",
            "Epoch 8, Val Loss: 2267.2156\n"
          ]
        },
        {
          "output_type": "stream",
          "name": "stderr",
          "text": [
            "\rEpoch Training:   8%|▊         | 8/100 [10:10<1:55:07, 75.09s/it]"
          ]
        },
        {
          "output_type": "stream",
          "name": "stdout",
          "text": [
            "batch:  0 / 17\n",
            "batch:  1 / 17\n",
            "batch:  2 / 17\n",
            "batch:  3 / 17\n",
            "batch:  4 / 17\n",
            "batch:  5 / 17\n",
            "batch:  6 / 17\n",
            "batch:  7 / 17\n",
            "batch:  8 / 17\n",
            "batch:  9 / 17\n",
            "batch:  10 / 17\n",
            "batch:  11 / 17\n",
            "batch:  12 / 17\n",
            "batch:  13 / 17\n",
            "batch:  14 / 17\n",
            "batch:  15 / 17\n",
            "batch:  16 / 17\n",
            "Epoch 9, Train Loss: 2103.9626\n",
            "Epoch 9, Val Loss: 2185.0050\n"
          ]
        },
        {
          "output_type": "stream",
          "name": "stderr",
          "text": [
            "\rEpoch Training:   9%|▉         | 9/100 [11:20<1:51:35, 73.57s/it]"
          ]
        },
        {
          "output_type": "stream",
          "name": "stdout",
          "text": [
            "batch:  0 / 17\n",
            "batch:  1 / 17\n",
            "batch:  2 / 17\n",
            "batch:  3 / 17\n",
            "batch:  4 / 17\n",
            "batch:  5 / 17\n",
            "batch:  6 / 17\n",
            "batch:  7 / 17\n",
            "batch:  8 / 17\n",
            "batch:  9 / 17\n",
            "batch:  10 / 17\n",
            "batch:  11 / 17\n",
            "batch:  12 / 17\n",
            "batch:  13 / 17\n",
            "batch:  14 / 17\n",
            "batch:  15 / 17\n",
            "batch:  16 / 17\n",
            "Epoch 10, Train Loss: 2005.2342\n",
            "Epoch 10, Val Loss: 2104.9087\n"
          ]
        },
        {
          "output_type": "stream",
          "name": "stderr",
          "text": [
            "\rEpoch Training:  10%|█         | 10/100 [12:30<1:48:39, 72.43s/it]"
          ]
        },
        {
          "output_type": "stream",
          "name": "stdout",
          "text": [
            "batch:  0 / 17\n",
            "batch:  1 / 17\n",
            "batch:  2 / 17\n",
            "batch:  3 / 17\n",
            "batch:  4 / 17\n",
            "batch:  5 / 17\n",
            "batch:  6 / 17\n",
            "batch:  7 / 17\n",
            "batch:  8 / 17\n",
            "batch:  9 / 17\n",
            "batch:  10 / 17\n",
            "batch:  11 / 17\n",
            "batch:  12 / 17\n",
            "batch:  13 / 17\n",
            "batch:  14 / 17\n",
            "batch:  15 / 17\n",
            "batch:  16 / 17\n",
            "Epoch 11, Train Loss: 1928.1589\n",
            "Epoch 11, Val Loss: 2027.8267\n"
          ]
        },
        {
          "output_type": "stream",
          "name": "stderr",
          "text": [
            "\rEpoch Training:  11%|█         | 11/100 [13:40<1:46:25, 71.75s/it]"
          ]
        },
        {
          "output_type": "stream",
          "name": "stdout",
          "text": [
            "batch:  0 / 17\n",
            "batch:  1 / 17\n",
            "batch:  2 / 17\n",
            "batch:  3 / 17\n",
            "batch:  4 / 17\n",
            "batch:  5 / 17\n",
            "batch:  6 / 17\n",
            "batch:  7 / 17\n",
            "batch:  8 / 17\n",
            "batch:  9 / 17\n",
            "batch:  10 / 17\n",
            "batch:  11 / 17\n",
            "batch:  12 / 17\n",
            "batch:  13 / 17\n",
            "batch:  14 / 17\n",
            "batch:  15 / 17\n",
            "batch:  16 / 17\n",
            "Epoch 12, Train Loss: 1864.2482\n",
            "Epoch 12, Val Loss: 1950.9089\n"
          ]
        },
        {
          "output_type": "stream",
          "name": "stderr",
          "text": [
            "\rEpoch Training:  12%|█▏        | 12/100 [14:51<1:44:41, 71.38s/it]"
          ]
        },
        {
          "output_type": "stream",
          "name": "stdout",
          "text": [
            "batch:  0 / 17\n",
            "batch:  1 / 17\n",
            "batch:  2 / 17\n",
            "batch:  3 / 17\n",
            "batch:  4 / 17\n",
            "batch:  5 / 17\n",
            "batch:  6 / 17\n",
            "batch:  7 / 17\n",
            "batch:  8 / 17\n",
            "batch:  9 / 17\n",
            "batch:  10 / 17\n",
            "batch:  11 / 17\n",
            "batch:  12 / 17\n",
            "batch:  13 / 17\n",
            "batch:  14 / 17\n",
            "batch:  15 / 17\n",
            "batch:  16 / 17\n",
            "Epoch 13, Train Loss: 1793.8119\n",
            "Epoch 13, Val Loss: 1875.0674\n"
          ]
        },
        {
          "output_type": "stream",
          "name": "stderr",
          "text": [
            "\rEpoch Training:  13%|█▎        | 13/100 [16:06<1:45:02, 72.44s/it]"
          ]
        },
        {
          "output_type": "stream",
          "name": "stdout",
          "text": [
            "batch:  0 / 17\n",
            "batch:  1 / 17\n",
            "batch:  2 / 17\n",
            "batch:  3 / 17\n",
            "batch:  4 / 17\n",
            "batch:  5 / 17\n",
            "batch:  6 / 17\n",
            "batch:  7 / 17\n",
            "batch:  8 / 17\n",
            "batch:  9 / 17\n",
            "batch:  10 / 17\n",
            "batch:  11 / 17\n",
            "batch:  12 / 17\n",
            "batch:  13 / 17\n",
            "batch:  14 / 17\n",
            "batch:  15 / 17\n",
            "batch:  16 / 17\n",
            "Epoch 14, Train Loss: 1722.2325\n",
            "Epoch 14, Val Loss: 1802.4011\n"
          ]
        },
        {
          "output_type": "stream",
          "name": "stderr",
          "text": [
            "\rEpoch Training:  14%|█▍        | 14/100 [17:21<1:45:16, 73.44s/it]"
          ]
        },
        {
          "output_type": "stream",
          "name": "stdout",
          "text": [
            "batch:  0 / 17\n",
            "batch:  1 / 17\n",
            "batch:  2 / 17\n",
            "batch:  3 / 17\n",
            "batch:  4 / 17\n",
            "batch:  5 / 17\n",
            "batch:  6 / 17\n",
            "batch:  7 / 17\n",
            "batch:  8 / 17\n",
            "batch:  9 / 17\n",
            "batch:  10 / 17\n",
            "batch:  11 / 17\n",
            "batch:  12 / 17\n",
            "batch:  13 / 17\n",
            "batch:  14 / 17\n",
            "batch:  15 / 17\n",
            "batch:  16 / 17\n",
            "Epoch 15, Train Loss: 1648.0719\n",
            "Epoch 15, Val Loss: 1730.5142\n"
          ]
        },
        {
          "output_type": "stream",
          "name": "stderr",
          "text": [
            "\rEpoch Training:  15%|█▌        | 15/100 [18:32<1:42:41, 72.49s/it]"
          ]
        },
        {
          "output_type": "stream",
          "name": "stdout",
          "text": [
            "batch:  0 / 17\n",
            "batch:  1 / 17\n",
            "batch:  2 / 17\n",
            "batch:  3 / 17\n",
            "batch:  4 / 17\n",
            "batch:  5 / 17\n",
            "batch:  6 / 17\n",
            "batch:  7 / 17\n",
            "batch:  8 / 17\n",
            "batch:  9 / 17\n",
            "batch:  10 / 17\n",
            "batch:  11 / 17\n",
            "batch:  12 / 17\n",
            "batch:  13 / 17\n",
            "batch:  14 / 17\n",
            "batch:  15 / 17\n",
            "batch:  16 / 17\n",
            "Epoch 16, Train Loss: 1595.2971\n",
            "Epoch 16, Val Loss: 1660.8503\n"
          ]
        },
        {
          "output_type": "stream",
          "name": "stderr",
          "text": [
            "\rEpoch Training:  16%|█▌        | 16/100 [19:47<1:42:50, 73.46s/it]"
          ]
        },
        {
          "output_type": "stream",
          "name": "stdout",
          "text": [
            "batch:  0 / 17\n",
            "batch:  1 / 17\n",
            "batch:  2 / 17\n",
            "batch:  3 / 17\n",
            "batch:  4 / 17\n",
            "batch:  5 / 17\n",
            "batch:  6 / 17\n",
            "batch:  7 / 17\n",
            "batch:  8 / 17\n",
            "batch:  9 / 17\n",
            "batch:  10 / 17\n",
            "batch:  11 / 17\n",
            "batch:  12 / 17\n",
            "batch:  13 / 17\n",
            "batch:  14 / 17\n",
            "batch:  15 / 17\n",
            "batch:  16 / 17\n",
            "Epoch 17, Train Loss: 1529.2385\n",
            "Epoch 17, Val Loss: 1593.6407\n"
          ]
        },
        {
          "output_type": "stream",
          "name": "stderr",
          "text": [
            "\rEpoch Training:  17%|█▋        | 17/100 [20:57<1:40:04, 72.34s/it]"
          ]
        },
        {
          "output_type": "stream",
          "name": "stdout",
          "text": [
            "batch:  0 / 17\n",
            "batch:  1 / 17\n",
            "batch:  2 / 17\n",
            "batch:  3 / 17\n",
            "batch:  4 / 17\n",
            "batch:  5 / 17\n",
            "batch:  6 / 17\n",
            "batch:  7 / 17\n",
            "batch:  8 / 17\n",
            "batch:  9 / 17\n",
            "batch:  10 / 17\n",
            "batch:  11 / 17\n",
            "batch:  12 / 17\n",
            "batch:  13 / 17\n",
            "batch:  14 / 17\n",
            "batch:  15 / 17\n",
            "batch:  16 / 17\n",
            "Epoch 18, Train Loss: 1457.7164\n",
            "Epoch 18, Val Loss: 1527.0044\n"
          ]
        },
        {
          "output_type": "stream",
          "name": "stderr",
          "text": [
            "\rEpoch Training:  18%|█▊        | 18/100 [22:07<1:37:52, 71.61s/it]"
          ]
        },
        {
          "output_type": "stream",
          "name": "stdout",
          "text": [
            "batch:  0 / 17\n",
            "batch:  1 / 17\n",
            "batch:  2 / 17\n",
            "batch:  3 / 17\n",
            "batch:  4 / 17\n",
            "batch:  5 / 17\n",
            "batch:  6 / 17\n",
            "batch:  7 / 17\n",
            "batch:  8 / 17\n",
            "batch:  9 / 17\n",
            "batch:  10 / 17\n",
            "batch:  11 / 17\n",
            "batch:  12 / 17\n",
            "batch:  13 / 17\n",
            "batch:  14 / 17\n",
            "batch:  15 / 17\n",
            "batch:  16 / 17\n",
            "Epoch 19, Train Loss: 1382.0902\n",
            "Epoch 19, Val Loss: 1463.1737\n"
          ]
        },
        {
          "output_type": "stream",
          "name": "stderr",
          "text": [
            "\rEpoch Training:  19%|█▉        | 19/100 [23:22<1:38:01, 72.61s/it]"
          ]
        },
        {
          "output_type": "stream",
          "name": "stdout",
          "text": [
            "batch:  0 / 17\n",
            "batch:  1 / 17\n",
            "batch:  2 / 17\n",
            "batch:  3 / 17\n",
            "batch:  4 / 17\n",
            "batch:  5 / 17\n",
            "batch:  6 / 17\n",
            "batch:  7 / 17\n",
            "batch:  8 / 17\n",
            "batch:  9 / 17\n",
            "batch:  10 / 17\n",
            "batch:  11 / 17\n",
            "batch:  12 / 17\n",
            "batch:  13 / 17\n",
            "batch:  14 / 17\n",
            "batch:  15 / 17\n",
            "batch:  16 / 17\n",
            "Epoch 20, Train Loss: 1322.1540\n",
            "Epoch 20, Val Loss: 1402.6795\n"
          ]
        },
        {
          "output_type": "stream",
          "name": "stderr",
          "text": [
            "\rEpoch Training:  20%|██        | 20/100 [24:32<1:35:55, 71.95s/it]"
          ]
        },
        {
          "output_type": "stream",
          "name": "stdout",
          "text": [
            "batch:  0 / 17\n",
            "batch:  1 / 17\n",
            "batch:  2 / 17\n",
            "batch:  3 / 17\n",
            "batch:  4 / 17\n",
            "batch:  5 / 17\n",
            "batch:  6 / 17\n",
            "batch:  7 / 17\n",
            "batch:  8 / 17\n",
            "batch:  9 / 17\n",
            "batch:  10 / 17\n",
            "batch:  11 / 17\n",
            "batch:  12 / 17\n",
            "batch:  13 / 17\n",
            "batch:  14 / 17\n",
            "batch:  15 / 17\n",
            "batch:  16 / 17\n",
            "Epoch 21, Train Loss: 1272.8630\n",
            "Epoch 21, Val Loss: 1343.6499\n"
          ]
        },
        {
          "output_type": "stream",
          "name": "stderr",
          "text": [
            "\rEpoch Training:  21%|██        | 21/100 [25:42<1:33:49, 71.26s/it]"
          ]
        },
        {
          "output_type": "stream",
          "name": "stdout",
          "text": [
            "batch:  0 / 17\n",
            "batch:  1 / 17\n",
            "batch:  2 / 17\n",
            "batch:  3 / 17\n",
            "batch:  4 / 17\n",
            "batch:  5 / 17\n",
            "batch:  6 / 17\n",
            "batch:  7 / 17\n",
            "batch:  8 / 17\n",
            "batch:  9 / 17\n",
            "batch:  10 / 17\n",
            "batch:  11 / 17\n",
            "batch:  12 / 17\n",
            "batch:  13 / 17\n",
            "batch:  14 / 17\n",
            "batch:  15 / 17\n",
            "batch:  16 / 17\n",
            "Epoch 22, Train Loss: 1228.7702\n",
            "Epoch 22, Val Loss: 1285.4503\n"
          ]
        },
        {
          "output_type": "stream",
          "name": "stderr",
          "text": [
            "\rEpoch Training:  22%|██▏       | 22/100 [26:52<1:32:02, 70.80s/it]"
          ]
        },
        {
          "output_type": "stream",
          "name": "stdout",
          "text": [
            "batch:  0 / 17\n",
            "batch:  1 / 17\n",
            "batch:  2 / 17\n",
            "batch:  3 / 17\n",
            "batch:  4 / 17\n",
            "batch:  5 / 17\n",
            "batch:  6 / 17\n",
            "batch:  7 / 17\n",
            "batch:  8 / 17\n",
            "batch:  9 / 17\n",
            "batch:  10 / 17\n",
            "batch:  11 / 17\n",
            "batch:  12 / 17\n",
            "batch:  13 / 17\n",
            "batch:  14 / 17\n",
            "batch:  15 / 17\n",
            "batch:  16 / 17\n",
            "Epoch 23, Train Loss: 1164.4398\n",
            "Epoch 23, Val Loss: 1230.0309\n"
          ]
        },
        {
          "output_type": "stream",
          "name": "stderr",
          "text": [
            "\rEpoch Training:  23%|██▎       | 23/100 [28:01<1:30:25, 70.46s/it]"
          ]
        },
        {
          "output_type": "stream",
          "name": "stdout",
          "text": [
            "batch:  0 / 17\n",
            "batch:  1 / 17\n",
            "batch:  2 / 17\n",
            "batch:  3 / 17\n",
            "batch:  4 / 17\n",
            "batch:  5 / 17\n",
            "batch:  6 / 17\n",
            "batch:  7 / 17\n",
            "batch:  8 / 17\n",
            "batch:  9 / 17\n",
            "batch:  10 / 17\n",
            "batch:  11 / 17\n",
            "batch:  12 / 17\n",
            "batch:  13 / 17\n",
            "batch:  14 / 17\n",
            "batch:  15 / 17\n",
            "batch:  16 / 17\n",
            "Epoch 24, Train Loss: 1121.0097\n",
            "Epoch 24, Val Loss: 1177.0064\n"
          ]
        },
        {
          "output_type": "stream",
          "name": "stderr",
          "text": [
            "\rEpoch Training:  24%|██▍       | 24/100 [29:11<1:28:57, 70.23s/it]"
          ]
        },
        {
          "output_type": "stream",
          "name": "stdout",
          "text": [
            "batch:  0 / 17\n",
            "batch:  1 / 17\n",
            "batch:  2 / 17\n",
            "batch:  3 / 17\n",
            "batch:  4 / 17\n",
            "batch:  5 / 17\n",
            "batch:  6 / 17\n",
            "batch:  7 / 17\n",
            "batch:  8 / 17\n",
            "batch:  9 / 17\n",
            "batch:  10 / 17\n",
            "batch:  11 / 17\n",
            "batch:  12 / 17\n",
            "batch:  13 / 17\n",
            "batch:  14 / 17\n",
            "batch:  15 / 17\n",
            "batch:  16 / 17\n",
            "Epoch 25, Train Loss: 1055.3458\n",
            "Epoch 25, Val Loss: 1126.3724\n"
          ]
        },
        {
          "output_type": "stream",
          "name": "stderr",
          "text": [
            "\rEpoch Training:  25%|██▌       | 25/100 [30:26<1:29:31, 71.61s/it]"
          ]
        },
        {
          "output_type": "stream",
          "name": "stdout",
          "text": [
            "batch:  0 / 17\n",
            "batch:  1 / 17\n",
            "batch:  2 / 17\n",
            "batch:  3 / 17\n",
            "batch:  4 / 17\n",
            "batch:  5 / 17\n",
            "batch:  6 / 17\n",
            "batch:  7 / 17\n",
            "batch:  8 / 17\n",
            "batch:  9 / 17\n",
            "batch:  10 / 17\n",
            "batch:  11 / 17\n",
            "batch:  12 / 17\n",
            "batch:  13 / 17\n",
            "batch:  14 / 17\n",
            "batch:  15 / 17\n",
            "batch:  16 / 17\n",
            "Epoch 26, Train Loss: 1020.4011\n",
            "Epoch 26, Val Loss: 1077.7220\n"
          ]
        },
        {
          "output_type": "stream",
          "name": "stderr",
          "text": [
            "\rEpoch Training:  26%|██▌       | 26/100 [31:37<1:27:56, 71.31s/it]"
          ]
        },
        {
          "output_type": "stream",
          "name": "stdout",
          "text": [
            "batch:  0 / 17\n",
            "batch:  1 / 17\n",
            "batch:  2 / 17\n",
            "batch:  3 / 17\n",
            "batch:  4 / 17\n",
            "batch:  5 / 17\n",
            "batch:  6 / 17\n",
            "batch:  7 / 17\n",
            "batch:  8 / 17\n",
            "batch:  9 / 17\n",
            "batch:  10 / 17\n",
            "batch:  11 / 17\n",
            "batch:  12 / 17\n",
            "batch:  13 / 17\n",
            "batch:  14 / 17\n",
            "batch:  15 / 17\n",
            "batch:  16 / 17\n",
            "Epoch 27, Train Loss: 971.6829\n",
            "Epoch 27, Val Loss: 1031.4314\n"
          ]
        },
        {
          "output_type": "stream",
          "name": "stderr",
          "text": [
            "\rEpoch Training:  27%|██▋       | 27/100 [32:50<1:27:39, 72.05s/it]"
          ]
        },
        {
          "output_type": "stream",
          "name": "stdout",
          "text": [
            "batch:  0 / 17\n",
            "batch:  1 / 17\n",
            "batch:  2 / 17\n",
            "batch:  3 / 17\n",
            "batch:  4 / 17\n",
            "batch:  5 / 17\n",
            "batch:  6 / 17\n",
            "batch:  7 / 17\n",
            "batch:  8 / 17\n",
            "batch:  9 / 17\n",
            "batch:  10 / 17\n",
            "batch:  11 / 17\n",
            "batch:  12 / 17\n",
            "batch:  13 / 17\n",
            "batch:  14 / 17\n",
            "batch:  15 / 17\n",
            "batch:  16 / 17\n",
            "Epoch 28, Train Loss: 932.9011\n",
            "Epoch 28, Val Loss: 986.9223\n"
          ]
        },
        {
          "output_type": "stream",
          "name": "stderr",
          "text": [
            "\rEpoch Training:  28%|██▊       | 28/100 [34:00<1:25:41, 71.40s/it]"
          ]
        },
        {
          "output_type": "stream",
          "name": "stdout",
          "text": [
            "batch:  0 / 17\n",
            "batch:  1 / 17\n",
            "batch:  2 / 17\n",
            "batch:  3 / 17\n",
            "batch:  4 / 17\n",
            "batch:  5 / 17\n",
            "batch:  6 / 17\n",
            "batch:  7 / 17\n",
            "batch:  8 / 17\n",
            "batch:  9 / 17\n",
            "batch:  10 / 17\n",
            "batch:  11 / 17\n",
            "batch:  12 / 17\n",
            "batch:  13 / 17\n",
            "batch:  14 / 17\n",
            "batch:  15 / 17\n",
            "batch:  16 / 17\n",
            "Epoch 29, Train Loss: 891.9329\n",
            "Epoch 29, Val Loss: 948.8464\n"
          ]
        },
        {
          "output_type": "stream",
          "name": "stderr",
          "text": [
            "\rEpoch Training:  29%|██▉       | 29/100 [35:10<1:23:53, 70.89s/it]"
          ]
        },
        {
          "output_type": "stream",
          "name": "stdout",
          "text": [
            "batch:  0 / 17\n",
            "batch:  1 / 17\n",
            "batch:  2 / 17\n",
            "batch:  3 / 17\n",
            "batch:  4 / 17\n",
            "batch:  5 / 17\n",
            "batch:  6 / 17\n",
            "batch:  7 / 17\n",
            "batch:  8 / 17\n",
            "batch:  9 / 17\n",
            "batch:  10 / 17\n",
            "batch:  11 / 17\n",
            "batch:  12 / 17\n",
            "batch:  13 / 17\n",
            "batch:  14 / 17\n",
            "batch:  15 / 17\n",
            "batch:  16 / 17\n",
            "Epoch 30, Train Loss: 862.1367\n",
            "Epoch 30, Val Loss: 907.0513\n"
          ]
        },
        {
          "output_type": "stream",
          "name": "stderr",
          "text": [
            "\rEpoch Training:  30%|███       | 30/100 [36:19<1:22:13, 70.49s/it]"
          ]
        },
        {
          "output_type": "stream",
          "name": "stdout",
          "text": [
            "batch:  0 / 17\n",
            "batch:  1 / 17\n",
            "batch:  2 / 17\n",
            "batch:  3 / 17\n",
            "batch:  4 / 17\n",
            "batch:  5 / 17\n",
            "batch:  6 / 17\n",
            "batch:  7 / 17\n",
            "batch:  8 / 17\n",
            "batch:  9 / 17\n",
            "batch:  10 / 17\n",
            "batch:  11 / 17\n",
            "batch:  12 / 17\n",
            "batch:  13 / 17\n",
            "batch:  14 / 17\n",
            "batch:  15 / 17\n",
            "batch:  16 / 17\n",
            "Epoch 31, Train Loss: 802.2879\n",
            "Epoch 31, Val Loss: 872.7259\n"
          ]
        },
        {
          "output_type": "stream",
          "name": "stderr",
          "text": [
            "\rEpoch Training:  31%|███       | 31/100 [37:33<1:21:57, 71.27s/it]"
          ]
        },
        {
          "output_type": "stream",
          "name": "stdout",
          "text": [
            "batch:  0 / 17\n",
            "batch:  1 / 17\n",
            "batch:  2 / 17\n",
            "batch:  3 / 17\n",
            "batch:  4 / 17\n",
            "batch:  5 / 17\n",
            "batch:  6 / 17\n",
            "batch:  7 / 17\n",
            "batch:  8 / 17\n",
            "batch:  9 / 17\n",
            "batch:  10 / 17\n",
            "batch:  11 / 17\n",
            "batch:  12 / 17\n",
            "batch:  13 / 17\n",
            "batch:  14 / 17\n",
            "batch:  15 / 17\n",
            "batch:  16 / 17\n",
            "Epoch 32, Train Loss: 753.6618\n",
            "Epoch 32, Val Loss: 836.0000\n"
          ]
        },
        {
          "output_type": "stream",
          "name": "stderr",
          "text": [
            "\rEpoch Training:  32%|███▏      | 32/100 [38:42<1:20:04, 70.66s/it]"
          ]
        },
        {
          "output_type": "stream",
          "name": "stdout",
          "text": [
            "batch:  0 / 17\n",
            "batch:  1 / 17\n",
            "batch:  2 / 17\n",
            "batch:  3 / 17\n",
            "batch:  4 / 17\n",
            "batch:  5 / 17\n",
            "batch:  6 / 17\n",
            "batch:  7 / 17\n",
            "batch:  8 / 17\n",
            "batch:  9 / 17\n",
            "batch:  10 / 17\n",
            "batch:  11 / 17\n",
            "batch:  12 / 17\n",
            "batch:  13 / 17\n",
            "batch:  14 / 17\n",
            "batch:  15 / 17\n",
            "batch:  16 / 17\n",
            "Epoch 33, Train Loss: 724.4825\n",
            "Epoch 33, Val Loss: 798.3639\n"
          ]
        },
        {
          "output_type": "stream",
          "name": "stderr",
          "text": [
            "\rEpoch Training:  33%|███▎      | 33/100 [39:54<1:19:35, 71.27s/it]"
          ]
        },
        {
          "output_type": "stream",
          "name": "stdout",
          "text": [
            "batch:  0 / 17\n",
            "batch:  1 / 17\n",
            "batch:  2 / 17\n",
            "batch:  3 / 17\n",
            "batch:  4 / 17\n",
            "batch:  5 / 17\n",
            "batch:  6 / 17\n",
            "batch:  7 / 17\n",
            "batch:  8 / 17\n",
            "batch:  9 / 17\n",
            "batch:  10 / 17\n",
            "batch:  11 / 17\n",
            "batch:  12 / 17\n",
            "batch:  13 / 17\n",
            "batch:  14 / 17\n",
            "batch:  15 / 17\n",
            "batch:  16 / 17\n",
            "Epoch 34, Train Loss: 690.2071\n",
            "Epoch 34, Val Loss: 763.5360\n"
          ]
        },
        {
          "output_type": "stream",
          "name": "stderr",
          "text": [
            "\rEpoch Training:  34%|███▍      | 34/100 [41:04<1:17:52, 70.80s/it]"
          ]
        },
        {
          "output_type": "stream",
          "name": "stdout",
          "text": [
            "batch:  0 / 17\n",
            "batch:  1 / 17\n",
            "batch:  2 / 17\n",
            "batch:  3 / 17\n",
            "batch:  4 / 17\n",
            "batch:  5 / 17\n",
            "batch:  6 / 17\n",
            "batch:  7 / 17\n",
            "batch:  8 / 17\n",
            "batch:  9 / 17\n",
            "batch:  10 / 17\n",
            "batch:  11 / 17\n",
            "batch:  12 / 17\n",
            "batch:  13 / 17\n",
            "batch:  14 / 17\n",
            "batch:  15 / 17\n",
            "batch:  16 / 17\n",
            "Epoch 35, Train Loss: 664.6565\n",
            "Epoch 35, Val Loss: 741.1872\n"
          ]
        },
        {
          "output_type": "stream",
          "name": "stderr",
          "text": [
            "\rEpoch Training:  35%|███▌      | 35/100 [42:14<1:16:28, 70.60s/it]"
          ]
        },
        {
          "output_type": "stream",
          "name": "stdout",
          "text": [
            "batch:  0 / 17\n",
            "batch:  1 / 17\n",
            "batch:  2 / 17\n",
            "batch:  3 / 17\n",
            "batch:  4 / 17\n",
            "batch:  5 / 17\n",
            "batch:  6 / 17\n",
            "batch:  7 / 17\n",
            "batch:  8 / 17\n",
            "batch:  9 / 17\n",
            "batch:  10 / 17\n",
            "batch:  11 / 17\n",
            "batch:  12 / 17\n",
            "batch:  13 / 17\n",
            "batch:  14 / 17\n",
            "batch:  15 / 17\n",
            "batch:  16 / 17\n",
            "Epoch 36, Train Loss: 631.3660\n",
            "Epoch 36, Val Loss: 701.3163\n"
          ]
        },
        {
          "output_type": "stream",
          "name": "stderr",
          "text": [
            "\rEpoch Training:  36%|███▌      | 36/100 [43:28<1:16:11, 71.43s/it]"
          ]
        },
        {
          "output_type": "stream",
          "name": "stdout",
          "text": [
            "batch:  0 / 17\n",
            "batch:  1 / 17\n",
            "batch:  2 / 17\n",
            "batch:  3 / 17\n",
            "batch:  4 / 17\n",
            "batch:  5 / 17\n",
            "batch:  6 / 17\n",
            "batch:  7 / 17\n",
            "batch:  8 / 17\n",
            "batch:  9 / 17\n",
            "batch:  10 / 17\n",
            "batch:  11 / 17\n",
            "batch:  12 / 17\n",
            "batch:  13 / 17\n",
            "batch:  14 / 17\n",
            "batch:  15 / 17\n",
            "batch:  16 / 17\n",
            "Epoch 37, Train Loss: 587.2476\n",
            "Epoch 37, Val Loss: 687.0123\n"
          ]
        },
        {
          "output_type": "stream",
          "name": "stderr",
          "text": [
            "\rEpoch Training:  37%|███▋      | 37/100 [44:39<1:14:54, 71.34s/it]"
          ]
        },
        {
          "output_type": "stream",
          "name": "stdout",
          "text": [
            "batch:  0 / 17\n",
            "batch:  1 / 17\n",
            "batch:  2 / 17\n",
            "batch:  3 / 17\n",
            "batch:  4 / 17\n",
            "batch:  5 / 17\n",
            "batch:  6 / 17\n",
            "batch:  7 / 17\n",
            "batch:  8 / 17\n",
            "batch:  9 / 17\n",
            "batch:  10 / 17\n",
            "batch:  11 / 17\n",
            "batch:  12 / 17\n",
            "batch:  13 / 17\n",
            "batch:  14 / 17\n",
            "batch:  15 / 17\n",
            "batch:  16 / 17\n",
            "Epoch 38, Train Loss: 558.4833\n"
          ]
        },
        {
          "output_type": "stream",
          "name": "stderr",
          "text": [
            "\rEpoch Training:  38%|███▊      | 38/100 [45:41<1:10:52, 68.59s/it]"
          ]
        },
        {
          "output_type": "stream",
          "name": "stdout",
          "text": [
            "Epoch 38, Val Loss: 721.6355\n",
            "batch:  0 / 17\n",
            "batch:  1 / 17\n",
            "batch:  2 / 17\n",
            "batch:  3 / 17\n",
            "batch:  4 / 17\n",
            "batch:  5 / 17\n",
            "batch:  6 / 17\n",
            "batch:  7 / 17\n",
            "batch:  8 / 17\n",
            "batch:  9 / 17\n",
            "batch:  10 / 17\n",
            "batch:  11 / 17\n",
            "batch:  12 / 17\n",
            "batch:  13 / 17\n",
            "batch:  14 / 17\n",
            "batch:  15 / 17\n",
            "batch:  16 / 17\n",
            "Epoch 39, Train Loss: 536.4359\n",
            "Epoch 39, Val Loss: 617.3776\n"
          ]
        },
        {
          "output_type": "stream",
          "name": "stderr",
          "text": [
            "\rEpoch Training:  39%|███▉      | 39/100 [46:51<1:10:05, 68.94s/it]"
          ]
        },
        {
          "output_type": "stream",
          "name": "stdout",
          "text": [
            "batch:  0 / 17\n",
            "batch:  1 / 17\n",
            "batch:  2 / 17\n",
            "batch:  3 / 17\n",
            "batch:  4 / 17\n",
            "batch:  5 / 17\n",
            "batch:  6 / 17\n",
            "batch:  7 / 17\n",
            "batch:  8 / 17\n",
            "batch:  9 / 17\n",
            "batch:  10 / 17\n",
            "batch:  11 / 17\n",
            "batch:  12 / 17\n",
            "batch:  13 / 17\n",
            "batch:  14 / 17\n",
            "batch:  15 / 17\n",
            "batch:  16 / 17\n",
            "Epoch 40, Train Loss: 524.7570\n",
            "Epoch 40, Val Loss: 610.4154\n"
          ]
        },
        {
          "output_type": "stream",
          "name": "stderr",
          "text": [
            "\rEpoch Training:  40%|████      | 40/100 [48:06<1:10:44, 70.75s/it]"
          ]
        },
        {
          "output_type": "stream",
          "name": "stdout",
          "text": [
            "batch:  0 / 17\n",
            "batch:  1 / 17\n",
            "batch:  2 / 17\n",
            "batch:  3 / 17\n",
            "batch:  4 / 17\n",
            "batch:  5 / 17\n",
            "batch:  6 / 17\n",
            "batch:  7 / 17\n",
            "batch:  8 / 17\n",
            "batch:  9 / 17\n",
            "batch:  10 / 17\n",
            "batch:  11 / 17\n",
            "batch:  12 / 17\n",
            "batch:  13 / 17\n",
            "batch:  14 / 17\n",
            "batch:  15 / 17\n",
            "batch:  16 / 17\n",
            "Epoch 41, Train Loss: 485.2920\n",
            "Epoch 41, Val Loss: 573.9823\n"
          ]
        },
        {
          "output_type": "stream",
          "name": "stderr",
          "text": [
            "\rEpoch Training:  41%|████      | 41/100 [49:16<1:09:29, 70.68s/it]"
          ]
        },
        {
          "output_type": "stream",
          "name": "stdout",
          "text": [
            "batch:  0 / 17\n",
            "batch:  1 / 17\n",
            "batch:  2 / 17\n",
            "batch:  3 / 17\n",
            "batch:  4 / 17\n",
            "batch:  5 / 17\n",
            "batch:  6 / 17\n",
            "batch:  7 / 17\n",
            "batch:  8 / 17\n",
            "batch:  9 / 17\n",
            "batch:  10 / 17\n",
            "batch:  11 / 17\n",
            "batch:  12 / 17\n",
            "batch:  13 / 17\n",
            "batch:  14 / 17\n",
            "batch:  15 / 17\n",
            "batch:  16 / 17\n",
            "Epoch 42, Train Loss: 455.4939\n",
            "Epoch 42, Val Loss: 558.1944\n"
          ]
        },
        {
          "output_type": "stream",
          "name": "stderr",
          "text": [
            "\rEpoch Training:  42%|████▏     | 42/100 [50:26<1:07:59, 70.34s/it]"
          ]
        },
        {
          "output_type": "stream",
          "name": "stdout",
          "text": [
            "batch:  0 / 17\n",
            "batch:  1 / 17\n",
            "batch:  2 / 17\n",
            "batch:  3 / 17\n",
            "batch:  4 / 17\n",
            "batch:  5 / 17\n",
            "batch:  6 / 17\n",
            "batch:  7 / 17\n",
            "batch:  8 / 17\n",
            "batch:  9 / 17\n",
            "batch:  10 / 17\n",
            "batch:  11 / 17\n",
            "batch:  12 / 17\n",
            "batch:  13 / 17\n",
            "batch:  14 / 17\n",
            "batch:  15 / 17\n",
            "batch:  16 / 17\n",
            "Epoch 43, Train Loss: 441.1056\n",
            "Epoch 43, Val Loss: 554.4842\n"
          ]
        },
        {
          "output_type": "stream",
          "name": "stderr",
          "text": [
            "\rEpoch Training:  43%|████▎     | 43/100 [51:35<1:06:38, 70.15s/it]"
          ]
        },
        {
          "output_type": "stream",
          "name": "stdout",
          "text": [
            "batch:  0 / 17\n",
            "batch:  1 / 17\n",
            "batch:  2 / 17\n",
            "batch:  3 / 17\n",
            "batch:  4 / 17\n",
            "batch:  5 / 17\n",
            "batch:  6 / 17\n",
            "batch:  7 / 17\n",
            "batch:  8 / 17\n",
            "batch:  9 / 17\n",
            "batch:  10 / 17\n",
            "batch:  11 / 17\n",
            "batch:  12 / 17\n",
            "batch:  13 / 17\n",
            "batch:  14 / 17\n",
            "batch:  15 / 17\n",
            "batch:  16 / 17\n",
            "Epoch 44, Train Loss: 412.8643\n",
            "Epoch 44, Val Loss: 520.4083\n"
          ]
        },
        {
          "output_type": "stream",
          "name": "stderr",
          "text": [
            "\rEpoch Training:  44%|████▍     | 44/100 [52:45<1:05:19, 69.99s/it]"
          ]
        },
        {
          "output_type": "stream",
          "name": "stdout",
          "text": [
            "batch:  0 / 17\n",
            "batch:  1 / 17\n",
            "batch:  2 / 17\n",
            "batch:  3 / 17\n",
            "batch:  4 / 17\n",
            "batch:  5 / 17\n",
            "batch:  6 / 17\n",
            "batch:  7 / 17\n",
            "batch:  8 / 17\n",
            "batch:  9 / 17\n",
            "batch:  10 / 17\n",
            "batch:  11 / 17\n",
            "batch:  12 / 17\n",
            "batch:  13 / 17\n",
            "batch:  14 / 17\n",
            "batch:  15 / 17\n",
            "batch:  16 / 17\n",
            "Epoch 45, Train Loss: 393.0932\n",
            "Epoch 45, Val Loss: 501.3279\n"
          ]
        },
        {
          "output_type": "stream",
          "name": "stderr",
          "text": [
            "\rEpoch Training:  45%|████▌     | 45/100 [53:55<1:04:02, 69.87s/it]"
          ]
        },
        {
          "output_type": "stream",
          "name": "stdout",
          "text": [
            "batch:  0 / 17\n",
            "batch:  1 / 17\n",
            "batch:  2 / 17\n",
            "batch:  3 / 17\n",
            "batch:  4 / 17\n",
            "batch:  5 / 17\n",
            "batch:  6 / 17\n",
            "batch:  7 / 17\n",
            "batch:  8 / 17\n",
            "batch:  9 / 17\n",
            "batch:  10 / 17\n",
            "batch:  11 / 17\n",
            "batch:  12 / 17\n",
            "batch:  13 / 17\n",
            "batch:  14 / 17\n",
            "batch:  15 / 17\n",
            "batch:  16 / 17\n",
            "Epoch 46, Train Loss: 376.8095\n",
            "Epoch 46, Val Loss: 488.3748\n"
          ]
        },
        {
          "output_type": "stream",
          "name": "stderr",
          "text": [
            "\rEpoch Training:  46%|████▌     | 46/100 [55:14<1:05:19, 72.59s/it]"
          ]
        },
        {
          "output_type": "stream",
          "name": "stdout",
          "text": [
            "batch:  0 / 17\n",
            "batch:  1 / 17\n",
            "batch:  2 / 17\n",
            "batch:  3 / 17\n",
            "batch:  4 / 17\n",
            "batch:  5 / 17\n",
            "batch:  6 / 17\n",
            "batch:  7 / 17\n",
            "batch:  8 / 17\n",
            "batch:  9 / 17\n",
            "batch:  10 / 17\n",
            "batch:  11 / 17\n",
            "batch:  12 / 17\n",
            "batch:  13 / 17\n",
            "batch:  14 / 17\n",
            "batch:  15 / 17\n",
            "batch:  16 / 17\n",
            "Epoch 47, Train Loss: 366.0553\n",
            "Epoch 47, Val Loss: 472.1149\n"
          ]
        },
        {
          "output_type": "stream",
          "name": "stderr",
          "text": [
            "\rEpoch Training:  47%|████▋     | 47/100 [56:24<1:03:30, 71.90s/it]"
          ]
        },
        {
          "output_type": "stream",
          "name": "stdout",
          "text": [
            "batch:  0 / 17\n",
            "batch:  1 / 17\n",
            "batch:  2 / 17\n",
            "batch:  3 / 17\n",
            "batch:  4 / 17\n",
            "batch:  5 / 17\n",
            "batch:  6 / 17\n",
            "batch:  7 / 17\n",
            "batch:  8 / 17\n",
            "batch:  9 / 17\n",
            "batch:  10 / 17\n",
            "batch:  11 / 17\n",
            "batch:  12 / 17\n",
            "batch:  13 / 17\n",
            "batch:  14 / 17\n",
            "batch:  15 / 17\n",
            "batch:  16 / 17\n",
            "Epoch 48, Train Loss: 346.3002\n",
            "Epoch 48, Val Loss: 465.1018\n"
          ]
        },
        {
          "output_type": "stream",
          "name": "stderr",
          "text": [
            "\rEpoch Training:  48%|████▊     | 48/100 [57:35<1:02:02, 71.59s/it]"
          ]
        },
        {
          "output_type": "stream",
          "name": "stdout",
          "text": [
            "batch:  0 / 17\n",
            "batch:  1 / 17\n",
            "batch:  2 / 17\n",
            "batch:  3 / 17\n",
            "batch:  4 / 17\n",
            "batch:  5 / 17\n",
            "batch:  6 / 17\n",
            "batch:  7 / 17\n",
            "batch:  8 / 17\n",
            "batch:  9 / 17\n",
            "batch:  10 / 17\n",
            "batch:  11 / 17\n",
            "batch:  12 / 17\n",
            "batch:  13 / 17\n",
            "batch:  14 / 17\n",
            "batch:  15 / 17\n",
            "batch:  16 / 17\n",
            "Epoch 49, Train Loss: 328.2370\n",
            "Epoch 49, Val Loss: 454.4396\n"
          ]
        },
        {
          "output_type": "stream",
          "name": "stderr",
          "text": [
            "\rEpoch Training:  49%|████▉     | 49/100 [58:45<1:00:26, 71.11s/it]"
          ]
        },
        {
          "output_type": "stream",
          "name": "stdout",
          "text": [
            "batch:  0 / 17\n",
            "batch:  1 / 17\n",
            "batch:  2 / 17\n",
            "batch:  3 / 17\n",
            "batch:  4 / 17\n",
            "batch:  5 / 17\n",
            "batch:  6 / 17\n",
            "batch:  7 / 17\n",
            "batch:  8 / 17\n",
            "batch:  9 / 17\n",
            "batch:  10 / 17\n",
            "batch:  11 / 17\n",
            "batch:  12 / 17\n",
            "batch:  13 / 17\n",
            "batch:  14 / 17\n",
            "batch:  15 / 17\n",
            "batch:  16 / 17\n",
            "Epoch 50, Train Loss: 321.1124\n",
            "Epoch 50, Val Loss: 431.6397\n"
          ]
        },
        {
          "output_type": "stream",
          "name": "stderr",
          "text": [
            "\rEpoch Training:  50%|█████     | 50/100 [59:55<59:05, 70.90s/it]  "
          ]
        },
        {
          "output_type": "stream",
          "name": "stdout",
          "text": [
            "batch:  0 / 17\n",
            "batch:  1 / 17\n",
            "batch:  2 / 17\n",
            "batch:  3 / 17\n",
            "batch:  4 / 17\n",
            "batch:  5 / 17\n",
            "batch:  6 / 17\n",
            "batch:  7 / 17\n",
            "batch:  8 / 17\n",
            "batch:  9 / 17\n",
            "batch:  10 / 17\n",
            "batch:  11 / 17\n",
            "batch:  12 / 17\n",
            "batch:  13 / 17\n",
            "batch:  14 / 17\n",
            "batch:  15 / 17\n",
            "batch:  16 / 17\n",
            "Epoch 51, Train Loss: 297.7093\n",
            "Epoch 51, Val Loss: 420.3298\n"
          ]
        },
        {
          "output_type": "stream",
          "name": "stderr",
          "text": [
            "\rEpoch Training:  51%|█████     | 51/100 [1:01:05<57:33, 70.48s/it]"
          ]
        },
        {
          "output_type": "stream",
          "name": "stdout",
          "text": [
            "batch:  0 / 17\n",
            "batch:  1 / 17\n",
            "batch:  2 / 17\n",
            "batch:  3 / 17\n",
            "batch:  4 / 17\n",
            "batch:  5 / 17\n",
            "batch:  6 / 17\n",
            "batch:  7 / 17\n",
            "batch:  8 / 17\n",
            "batch:  9 / 17\n",
            "batch:  10 / 17\n",
            "batch:  11 / 17\n",
            "batch:  12 / 17\n",
            "batch:  13 / 17\n",
            "batch:  14 / 17\n",
            "batch:  15 / 17\n",
            "batch:  16 / 17\n",
            "Epoch 52, Train Loss: 288.4898\n",
            "Epoch 52, Val Loss: 405.7594\n"
          ]
        },
        {
          "output_type": "stream",
          "name": "stderr",
          "text": [
            "\rEpoch Training:  52%|█████▏    | 52/100 [1:02:14<56:12, 70.27s/it]"
          ]
        },
        {
          "output_type": "stream",
          "name": "stdout",
          "text": [
            "batch:  0 / 17\n",
            "batch:  1 / 17\n",
            "batch:  2 / 17\n",
            "batch:  3 / 17\n",
            "batch:  4 / 17\n",
            "batch:  5 / 17\n",
            "batch:  6 / 17\n",
            "batch:  7 / 17\n",
            "batch:  8 / 17\n",
            "batch:  9 / 17\n",
            "batch:  10 / 17\n",
            "batch:  11 / 17\n",
            "batch:  12 / 17\n",
            "batch:  13 / 17\n",
            "batch:  14 / 17\n",
            "batch:  15 / 17\n",
            "batch:  16 / 17\n",
            "Epoch 53, Train Loss: 281.9552\n"
          ]
        },
        {
          "output_type": "stream",
          "name": "stderr",
          "text": [
            "\rEpoch Training:  53%|█████▎    | 53/100 [1:03:17<53:08, 67.84s/it]"
          ]
        },
        {
          "output_type": "stream",
          "name": "stdout",
          "text": [
            "Epoch 53, Val Loss: 407.7028\n",
            "batch:  0 / 17\n",
            "batch:  1 / 17\n",
            "batch:  2 / 17\n",
            "batch:  3 / 17\n",
            "batch:  4 / 17\n",
            "batch:  5 / 17\n",
            "batch:  6 / 17\n",
            "batch:  7 / 17\n",
            "batch:  8 / 17\n",
            "batch:  9 / 17\n",
            "batch:  10 / 17\n",
            "batch:  11 / 17\n",
            "batch:  12 / 17\n",
            "batch:  13 / 17\n",
            "batch:  14 / 17\n",
            "batch:  15 / 17\n",
            "batch:  16 / 17\n",
            "Epoch 54, Train Loss: 259.6474\n",
            "Epoch 54, Val Loss: 381.1857\n"
          ]
        },
        {
          "output_type": "stream",
          "name": "stderr",
          "text": [
            "\rEpoch Training:  54%|█████▍    | 54/100 [1:04:28<52:43, 68.77s/it]"
          ]
        },
        {
          "output_type": "stream",
          "name": "stdout",
          "text": [
            "batch:  0 / 17\n",
            "batch:  1 / 17\n",
            "batch:  2 / 17\n",
            "batch:  3 / 17\n",
            "batch:  4 / 17\n",
            "batch:  5 / 17\n",
            "batch:  6 / 17\n",
            "batch:  7 / 17\n",
            "batch:  8 / 17\n",
            "batch:  9 / 17\n",
            "batch:  10 / 17\n",
            "batch:  11 / 17\n",
            "batch:  12 / 17\n",
            "batch:  13 / 17\n",
            "batch:  14 / 17\n",
            "batch:  15 / 17\n",
            "batch:  16 / 17\n",
            "Epoch 55, Train Loss: 250.2934\n",
            "Epoch 55, Val Loss: 366.0383\n"
          ]
        },
        {
          "output_type": "stream",
          "name": "stderr",
          "text": [
            "\rEpoch Training:  55%|█████▌    | 55/100 [1:05:37<51:42, 68.94s/it]"
          ]
        },
        {
          "output_type": "stream",
          "name": "stdout",
          "text": [
            "batch:  0 / 17\n",
            "batch:  1 / 17\n",
            "batch:  2 / 17\n",
            "batch:  3 / 17\n",
            "batch:  4 / 17\n",
            "batch:  5 / 17\n",
            "batch:  6 / 17\n",
            "batch:  7 / 17\n",
            "batch:  8 / 17\n",
            "batch:  9 / 17\n",
            "batch:  10 / 17\n",
            "batch:  11 / 17\n",
            "batch:  12 / 17\n",
            "batch:  13 / 17\n",
            "batch:  14 / 17\n",
            "batch:  15 / 17\n",
            "batch:  16 / 17\n",
            "Epoch 56, Train Loss: 247.3592\n"
          ]
        },
        {
          "output_type": "stream",
          "name": "stderr",
          "text": [
            "\rEpoch Training:  56%|█████▌    | 56/100 [1:06:39<49:07, 66.98s/it]"
          ]
        },
        {
          "output_type": "stream",
          "name": "stdout",
          "text": [
            "Epoch 56, Val Loss: 374.9276\n",
            "batch:  0 / 17\n",
            "batch:  1 / 17\n",
            "batch:  2 / 17\n",
            "batch:  3 / 17\n",
            "batch:  4 / 17\n",
            "batch:  5 / 17\n",
            "batch:  6 / 17\n",
            "batch:  7 / 17\n",
            "batch:  8 / 17\n",
            "batch:  9 / 17\n",
            "batch:  10 / 17\n",
            "batch:  11 / 17\n",
            "batch:  12 / 17\n",
            "batch:  13 / 17\n",
            "batch:  14 / 17\n",
            "batch:  15 / 17\n",
            "batch:  16 / 17\n",
            "Epoch 57, Train Loss: 235.0807\n",
            "Epoch 57, Val Loss: 353.4031\n"
          ]
        },
        {
          "output_type": "stream",
          "name": "stderr",
          "text": [
            "\rEpoch Training:  57%|█████▋    | 57/100 [1:07:49<48:29, 67.65s/it]"
          ]
        },
        {
          "output_type": "stream",
          "name": "stdout",
          "text": [
            "batch:  0 / 17\n",
            "batch:  1 / 17\n",
            "batch:  2 / 17\n",
            "batch:  3 / 17\n",
            "batch:  4 / 17\n",
            "batch:  5 / 17\n",
            "batch:  6 / 17\n",
            "batch:  7 / 17\n",
            "batch:  8 / 17\n",
            "batch:  9 / 17\n",
            "batch:  10 / 17\n",
            "batch:  11 / 17\n",
            "batch:  12 / 17\n",
            "batch:  13 / 17\n",
            "batch:  14 / 17\n",
            "batch:  15 / 17\n",
            "batch:  16 / 17\n",
            "Epoch 58, Train Loss: 223.2078\n",
            "Epoch 58, Val Loss: 338.1395\n"
          ]
        },
        {
          "output_type": "stream",
          "name": "stderr",
          "text": [
            "\rEpoch Training:  58%|█████▊    | 58/100 [1:09:02<48:31, 69.32s/it]"
          ]
        },
        {
          "output_type": "stream",
          "name": "stdout",
          "text": [
            "batch:  0 / 17\n",
            "batch:  1 / 17\n",
            "batch:  2 / 17\n",
            "batch:  3 / 17\n",
            "batch:  4 / 17\n",
            "batch:  5 / 17\n",
            "batch:  6 / 17\n",
            "batch:  7 / 17\n",
            "batch:  8 / 17\n",
            "batch:  9 / 17\n",
            "batch:  10 / 17\n",
            "batch:  11 / 17\n",
            "batch:  12 / 17\n",
            "batch:  13 / 17\n",
            "batch:  14 / 17\n",
            "batch:  15 / 17\n",
            "batch:  16 / 17\n",
            "Epoch 59, Train Loss: 217.5192\n"
          ]
        },
        {
          "output_type": "stream",
          "name": "stderr",
          "text": [
            "\rEpoch Training:  59%|█████▉    | 59/100 [1:10:04<45:56, 67.22s/it]"
          ]
        },
        {
          "output_type": "stream",
          "name": "stdout",
          "text": [
            "Epoch 59, Val Loss: 349.8461\n",
            "batch:  0 / 17\n",
            "batch:  1 / 17\n",
            "batch:  2 / 17\n",
            "batch:  3 / 17\n",
            "batch:  4 / 17\n",
            "batch:  5 / 17\n",
            "batch:  6 / 17\n",
            "batch:  7 / 17\n",
            "batch:  8 / 17\n",
            "batch:  9 / 17\n",
            "batch:  10 / 17\n",
            "batch:  11 / 17\n",
            "batch:  12 / 17\n",
            "batch:  13 / 17\n",
            "batch:  14 / 17\n",
            "batch:  15 / 17\n",
            "batch:  16 / 17\n",
            "Epoch 60, Train Loss: 207.1370\n",
            "Epoch 60, Val Loss: 332.3684\n"
          ]
        },
        {
          "output_type": "stream",
          "name": "stderr",
          "text": [
            "\rEpoch Training:  60%|██████    | 60/100 [1:11:14<45:17, 67.95s/it]"
          ]
        },
        {
          "output_type": "stream",
          "name": "stdout",
          "text": [
            "batch:  0 / 17\n",
            "batch:  1 / 17\n",
            "batch:  2 / 17\n",
            "batch:  3 / 17\n",
            "batch:  4 / 17\n",
            "batch:  5 / 17\n",
            "batch:  6 / 17\n",
            "batch:  7 / 17\n",
            "batch:  8 / 17\n",
            "batch:  9 / 17\n",
            "batch:  10 / 17\n",
            "batch:  11 / 17\n",
            "batch:  12 / 17\n",
            "batch:  13 / 17\n",
            "batch:  14 / 17\n",
            "batch:  15 / 17\n",
            "batch:  16 / 17\n",
            "Epoch 61, Train Loss: 206.4195\n",
            "Epoch 61, Val Loss: 329.6123\n"
          ]
        },
        {
          "output_type": "stream",
          "name": "stderr",
          "text": [
            "\rEpoch Training:  61%|██████    | 61/100 [1:12:23<44:30, 68.47s/it]"
          ]
        },
        {
          "output_type": "stream",
          "name": "stdout",
          "text": [
            "batch:  0 / 17\n",
            "batch:  1 / 17\n",
            "batch:  2 / 17\n",
            "batch:  3 / 17\n",
            "batch:  4 / 17\n",
            "batch:  5 / 17\n",
            "batch:  6 / 17\n",
            "batch:  7 / 17\n",
            "batch:  8 / 17\n",
            "batch:  9 / 17\n",
            "batch:  10 / 17\n",
            "batch:  11 / 17\n",
            "batch:  12 / 17\n",
            "batch:  13 / 17\n",
            "batch:  14 / 17\n",
            "batch:  15 / 17\n",
            "batch:  16 / 17\n",
            "Epoch 62, Train Loss: 192.9927\n",
            "Epoch 62, Val Loss: 295.7678\n"
          ]
        },
        {
          "output_type": "stream",
          "name": "stderr",
          "text": [
            "\rEpoch Training:  62%|██████▏   | 62/100 [1:13:38<44:33, 70.35s/it]"
          ]
        },
        {
          "output_type": "stream",
          "name": "stdout",
          "text": [
            "batch:  0 / 17\n",
            "batch:  1 / 17\n",
            "batch:  2 / 17\n",
            "batch:  3 / 17\n",
            "batch:  4 / 17\n",
            "batch:  5 / 17\n",
            "batch:  6 / 17\n",
            "batch:  7 / 17\n",
            "batch:  8 / 17\n",
            "batch:  9 / 17\n",
            "batch:  10 / 17\n",
            "batch:  11 / 17\n",
            "batch:  12 / 17\n",
            "batch:  13 / 17\n",
            "batch:  14 / 17\n",
            "batch:  15 / 17\n",
            "batch:  16 / 17\n",
            "Epoch 63, Train Loss: 189.0661\n"
          ]
        },
        {
          "output_type": "stream",
          "name": "stderr",
          "text": [
            "\rEpoch Training:  63%|██████▎   | 63/100 [1:14:41<41:55, 67.99s/it]"
          ]
        },
        {
          "output_type": "stream",
          "name": "stdout",
          "text": [
            "Epoch 63, Val Loss: 309.9224\n",
            "batch:  0 / 17\n",
            "batch:  1 / 17\n",
            "batch:  2 / 17\n",
            "batch:  3 / 17\n",
            "batch:  4 / 17\n",
            "batch:  5 / 17\n",
            "batch:  6 / 17\n",
            "batch:  7 / 17\n",
            "batch:  8 / 17\n",
            "batch:  9 / 17\n",
            "batch:  10 / 17\n",
            "batch:  11 / 17\n",
            "batch:  12 / 17\n",
            "batch:  13 / 17\n",
            "batch:  14 / 17\n",
            "batch:  15 / 17\n",
            "batch:  16 / 17\n",
            "Epoch 64, Train Loss: 176.7928\n",
            "Epoch 64, Val Loss: 293.6374\n"
          ]
        },
        {
          "output_type": "stream",
          "name": "stderr",
          "text": [
            "\rEpoch Training:  64%|██████▍   | 64/100 [1:15:50<41:04, 68.46s/it]"
          ]
        },
        {
          "output_type": "stream",
          "name": "stdout",
          "text": [
            "batch:  0 / 17\n",
            "batch:  1 / 17\n",
            "batch:  2 / 17\n",
            "batch:  3 / 17\n",
            "batch:  4 / 17\n",
            "batch:  5 / 17\n",
            "batch:  6 / 17\n",
            "batch:  7 / 17\n",
            "batch:  8 / 17\n",
            "batch:  9 / 17\n",
            "batch:  10 / 17\n",
            "batch:  11 / 17\n",
            "batch:  12 / 17\n",
            "batch:  13 / 17\n",
            "batch:  14 / 17\n",
            "batch:  15 / 17\n",
            "batch:  16 / 17\n",
            "Epoch 65, Train Loss: 167.8367\n",
            "Epoch 65, Val Loss: 289.0398\n"
          ]
        },
        {
          "output_type": "stream",
          "name": "stderr",
          "text": [
            "\rEpoch Training:  65%|██████▌   | 65/100 [1:17:00<40:08, 68.83s/it]"
          ]
        },
        {
          "output_type": "stream",
          "name": "stdout",
          "text": [
            "batch:  0 / 17\n",
            "batch:  1 / 17\n",
            "batch:  2 / 17\n",
            "batch:  3 / 17\n",
            "batch:  4 / 17\n",
            "batch:  5 / 17\n",
            "batch:  6 / 17\n",
            "batch:  7 / 17\n",
            "batch:  8 / 17\n",
            "batch:  9 / 17\n",
            "batch:  10 / 17\n",
            "batch:  11 / 17\n",
            "batch:  12 / 17\n",
            "batch:  13 / 17\n",
            "batch:  14 / 17\n",
            "batch:  15 / 17\n",
            "batch:  16 / 17\n",
            "Epoch 66, Train Loss: 159.1317\n",
            "Epoch 66, Val Loss: 273.6692\n"
          ]
        },
        {
          "output_type": "stream",
          "name": "stderr",
          "text": [
            "\rEpoch Training:  66%|██████▌   | 66/100 [1:18:10<39:11, 69.17s/it]"
          ]
        },
        {
          "output_type": "stream",
          "name": "stdout",
          "text": [
            "batch:  0 / 17\n",
            "batch:  1 / 17\n",
            "batch:  2 / 17\n",
            "batch:  3 / 17\n",
            "batch:  4 / 17\n",
            "batch:  5 / 17\n",
            "batch:  6 / 17\n",
            "batch:  7 / 17\n",
            "batch:  8 / 17\n",
            "batch:  9 / 17\n",
            "batch:  10 / 17\n",
            "batch:  11 / 17\n",
            "batch:  12 / 17\n",
            "batch:  13 / 17\n",
            "batch:  14 / 17\n",
            "batch:  15 / 17\n",
            "batch:  16 / 17\n",
            "Epoch 67, Train Loss: 150.7154\n"
          ]
        },
        {
          "output_type": "stream",
          "name": "stderr",
          "text": [
            "\rEpoch Training:  67%|██████▋   | 67/100 [1:19:12<36:56, 67.16s/it]"
          ]
        },
        {
          "output_type": "stream",
          "name": "stdout",
          "text": [
            "Epoch 67, Val Loss: 274.0427\n",
            "batch:  0 / 17\n",
            "batch:  1 / 17\n",
            "batch:  2 / 17\n",
            "batch:  3 / 17\n",
            "batch:  4 / 17\n",
            "batch:  5 / 17\n",
            "batch:  6 / 17\n",
            "batch:  7 / 17\n",
            "batch:  8 / 17\n",
            "batch:  9 / 17\n",
            "batch:  10 / 17\n",
            "batch:  11 / 17\n",
            "batch:  12 / 17\n",
            "batch:  13 / 17\n",
            "batch:  14 / 17\n",
            "batch:  15 / 17\n",
            "batch:  16 / 17\n",
            "Epoch 68, Train Loss: 156.5345\n",
            "Epoch 68, Val Loss: 262.6877\n"
          ]
        },
        {
          "output_type": "stream",
          "name": "stderr",
          "text": [
            "\rEpoch Training:  68%|██████▊   | 68/100 [1:20:23<36:21, 68.18s/it]"
          ]
        },
        {
          "output_type": "stream",
          "name": "stdout",
          "text": [
            "batch:  0 / 17\n",
            "batch:  1 / 17\n",
            "batch:  2 / 17\n",
            "batch:  3 / 17\n",
            "batch:  4 / 17\n",
            "batch:  5 / 17\n",
            "batch:  6 / 17\n",
            "batch:  7 / 17\n",
            "batch:  8 / 17\n",
            "batch:  9 / 17\n",
            "batch:  10 / 17\n",
            "batch:  11 / 17\n",
            "batch:  12 / 17\n",
            "batch:  13 / 17\n",
            "batch:  14 / 17\n",
            "batch:  15 / 17\n",
            "batch:  16 / 17\n",
            "Epoch 69, Train Loss: 138.7344\n",
            "Epoch 69, Val Loss: 255.5255\n"
          ]
        },
        {
          "output_type": "stream",
          "name": "stderr",
          "text": [
            "\rEpoch Training:  69%|██████▉   | 69/100 [1:21:32<35:24, 68.53s/it]"
          ]
        },
        {
          "output_type": "stream",
          "name": "stdout",
          "text": [
            "batch:  0 / 17\n",
            "batch:  1 / 17\n",
            "batch:  2 / 17\n",
            "batch:  3 / 17\n",
            "batch:  4 / 17\n",
            "batch:  5 / 17\n",
            "batch:  6 / 17\n",
            "batch:  7 / 17\n",
            "batch:  8 / 17\n",
            "batch:  9 / 17\n",
            "batch:  10 / 17\n",
            "batch:  11 / 17\n",
            "batch:  12 / 17\n",
            "batch:  13 / 17\n",
            "batch:  14 / 17\n",
            "batch:  15 / 17\n",
            "batch:  16 / 17\n",
            "Epoch 70, Train Loss: 139.5070\n"
          ]
        },
        {
          "output_type": "stream",
          "name": "stderr",
          "text": [
            "\rEpoch Training:  70%|███████   | 70/100 [1:22:34<33:19, 66.65s/it]"
          ]
        },
        {
          "output_type": "stream",
          "name": "stdout",
          "text": [
            "Epoch 70, Val Loss: 260.0246\n",
            "batch:  0 / 17\n",
            "batch:  1 / 17\n",
            "batch:  2 / 17\n",
            "batch:  3 / 17\n",
            "batch:  4 / 17\n",
            "batch:  5 / 17\n",
            "batch:  6 / 17\n",
            "batch:  7 / 17\n",
            "batch:  8 / 17\n",
            "batch:  9 / 17\n",
            "batch:  10 / 17\n",
            "batch:  11 / 17\n",
            "batch:  12 / 17\n",
            "batch:  13 / 17\n",
            "batch:  14 / 17\n",
            "batch:  15 / 17\n",
            "batch:  16 / 17\n",
            "Epoch 71, Train Loss: 139.4786\n",
            "Epoch 71, Val Loss: 246.0770\n"
          ]
        },
        {
          "output_type": "stream",
          "name": "stderr",
          "text": [
            "\rEpoch Training:  71%|███████   | 71/100 [1:23:49<33:21, 69.02s/it]"
          ]
        },
        {
          "output_type": "stream",
          "name": "stdout",
          "text": [
            "batch:  0 / 17\n",
            "batch:  1 / 17\n",
            "batch:  2 / 17\n",
            "batch:  3 / 17\n",
            "batch:  4 / 17\n",
            "batch:  5 / 17\n",
            "batch:  6 / 17\n",
            "batch:  7 / 17\n",
            "batch:  8 / 17\n",
            "batch:  9 / 17\n",
            "batch:  10 / 17\n",
            "batch:  11 / 17\n",
            "batch:  12 / 17\n",
            "batch:  13 / 17\n",
            "batch:  14 / 17\n",
            "batch:  15 / 17\n",
            "batch:  16 / 17\n",
            "Epoch 72, Train Loss: 123.3705\n"
          ]
        },
        {
          "output_type": "stream",
          "name": "stderr",
          "text": [
            "\rEpoch Training:  72%|███████▏  | 72/100 [1:24:52<31:17, 67.07s/it]"
          ]
        },
        {
          "output_type": "stream",
          "name": "stdout",
          "text": [
            "Epoch 72, Val Loss: 252.5586\n",
            "batch:  0 / 17\n",
            "batch:  1 / 17\n",
            "batch:  2 / 17\n",
            "batch:  3 / 17\n",
            "batch:  4 / 17\n",
            "batch:  5 / 17\n",
            "batch:  6 / 17\n",
            "batch:  7 / 17\n",
            "batch:  8 / 17\n",
            "batch:  9 / 17\n",
            "batch:  10 / 17\n",
            "batch:  11 / 17\n",
            "batch:  12 / 17\n",
            "batch:  13 / 17\n",
            "batch:  14 / 17\n",
            "batch:  15 / 17\n",
            "batch:  16 / 17\n",
            "Epoch 73, Train Loss: 125.8987\n",
            "Epoch 73, Val Loss: 234.1427\n"
          ]
        },
        {
          "output_type": "stream",
          "name": "stderr",
          "text": [
            "\rEpoch Training:  73%|███████▎  | 73/100 [1:26:01<30:32, 67.85s/it]"
          ]
        },
        {
          "output_type": "stream",
          "name": "stdout",
          "text": [
            "batch:  0 / 17\n",
            "batch:  1 / 17\n",
            "batch:  2 / 17\n",
            "batch:  3 / 17\n",
            "batch:  4 / 17\n",
            "batch:  5 / 17\n",
            "batch:  6 / 17\n",
            "batch:  7 / 17\n",
            "batch:  8 / 17\n",
            "batch:  9 / 17\n",
            "batch:  10 / 17\n",
            "batch:  11 / 17\n",
            "batch:  12 / 17\n",
            "batch:  13 / 17\n",
            "batch:  14 / 17\n",
            "batch:  15 / 17\n",
            "batch:  16 / 17\n",
            "Epoch 74, Train Loss: 122.1429\n"
          ]
        },
        {
          "output_type": "stream",
          "name": "stderr",
          "text": [
            "\rEpoch Training:  74%|███████▍  | 74/100 [1:27:04<28:41, 66.23s/it]"
          ]
        },
        {
          "output_type": "stream",
          "name": "stdout",
          "text": [
            "Epoch 74, Val Loss: 236.4677\n",
            "batch:  0 / 17\n",
            "batch:  1 / 17\n",
            "batch:  2 / 17\n",
            "batch:  3 / 17\n",
            "batch:  4 / 17\n",
            "batch:  5 / 17\n",
            "batch:  6 / 17\n",
            "batch:  7 / 17\n",
            "batch:  8 / 17\n",
            "batch:  9 / 17\n",
            "batch:  10 / 17\n",
            "batch:  11 / 17\n",
            "batch:  12 / 17\n",
            "batch:  13 / 17\n",
            "batch:  14 / 17\n",
            "batch:  15 / 17\n",
            "batch:  16 / 17\n",
            "Epoch 75, Train Loss: 113.2009\n",
            "Epoch 75, Val Loss: 231.1497\n"
          ]
        },
        {
          "output_type": "stream",
          "name": "stderr",
          "text": [
            "\rEpoch Training:  75%|███████▌  | 75/100 [1:28:13<28:00, 67.20s/it]"
          ]
        },
        {
          "output_type": "stream",
          "name": "stdout",
          "text": [
            "batch:  0 / 17\n",
            "batch:  1 / 17\n",
            "batch:  2 / 17\n",
            "batch:  3 / 17\n",
            "batch:  4 / 17\n",
            "batch:  5 / 17\n",
            "batch:  6 / 17\n",
            "batch:  7 / 17\n",
            "batch:  8 / 17\n",
            "batch:  9 / 17\n",
            "batch:  10 / 17\n",
            "batch:  11 / 17\n",
            "batch:  12 / 17\n",
            "batch:  13 / 17\n",
            "batch:  14 / 17\n",
            "batch:  15 / 17\n",
            "batch:  16 / 17\n",
            "Epoch 76, Train Loss: 109.5499\n",
            "Epoch 76, Val Loss: 222.8310\n"
          ]
        },
        {
          "output_type": "stream",
          "name": "stderr",
          "text": [
            "\rEpoch Training:  76%|███████▌  | 76/100 [1:29:24<27:16, 68.18s/it]"
          ]
        },
        {
          "output_type": "stream",
          "name": "stdout",
          "text": [
            "batch:  0 / 17\n",
            "batch:  1 / 17\n",
            "batch:  2 / 17\n",
            "batch:  3 / 17\n",
            "batch:  4 / 17\n",
            "batch:  5 / 17\n",
            "batch:  6 / 17\n",
            "batch:  7 / 17\n",
            "batch:  8 / 17\n",
            "batch:  9 / 17\n",
            "batch:  10 / 17\n",
            "batch:  11 / 17\n",
            "batch:  12 / 17\n",
            "batch:  13 / 17\n",
            "batch:  14 / 17\n",
            "batch:  15 / 17\n",
            "batch:  16 / 17\n",
            "Epoch 77, Train Loss: 103.6107\n",
            "Epoch 77, Val Loss: 217.9930\n"
          ]
        },
        {
          "output_type": "stream",
          "name": "stderr",
          "text": [
            "\rEpoch Training:  77%|███████▋  | 77/100 [1:30:33<26:19, 68.69s/it]"
          ]
        },
        {
          "output_type": "stream",
          "name": "stdout",
          "text": [
            "batch:  0 / 17\n",
            "batch:  1 / 17\n",
            "batch:  2 / 17\n",
            "batch:  3 / 17\n",
            "batch:  4 / 17\n",
            "batch:  5 / 17\n",
            "batch:  6 / 17\n",
            "batch:  7 / 17\n",
            "batch:  8 / 17\n",
            "batch:  9 / 17\n",
            "batch:  10 / 17\n",
            "batch:  11 / 17\n",
            "batch:  12 / 17\n",
            "batch:  13 / 17\n",
            "batch:  14 / 17\n",
            "batch:  15 / 17\n",
            "batch:  16 / 17\n",
            "Epoch 78, Train Loss: 104.5631\n",
            "Epoch 78, Val Loss: 215.4954\n"
          ]
        },
        {
          "output_type": "stream",
          "name": "stderr",
          "text": [
            "\rEpoch Training:  78%|███████▊  | 78/100 [1:31:44<25:24, 69.29s/it]"
          ]
        },
        {
          "output_type": "stream",
          "name": "stdout",
          "text": [
            "batch:  0 / 17\n",
            "batch:  1 / 17\n",
            "batch:  2 / 17\n",
            "batch:  3 / 17\n",
            "batch:  4 / 17\n",
            "batch:  5 / 17\n",
            "batch:  6 / 17\n",
            "batch:  7 / 17\n",
            "batch:  8 / 17\n",
            "batch:  9 / 17\n",
            "batch:  10 / 17\n",
            "batch:  11 / 17\n",
            "batch:  12 / 17\n",
            "batch:  13 / 17\n",
            "batch:  14 / 17\n",
            "batch:  15 / 17\n",
            "batch:  16 / 17\n",
            "Epoch 79, Train Loss: 97.4253\n"
          ]
        },
        {
          "output_type": "stream",
          "name": "stderr",
          "text": [
            "\rEpoch Training:  79%|███████▉  | 79/100 [1:32:46<23:30, 67.16s/it]"
          ]
        },
        {
          "output_type": "stream",
          "name": "stdout",
          "text": [
            "Epoch 79, Val Loss: 216.1969\n",
            "batch:  0 / 17\n",
            "batch:  1 / 17\n",
            "batch:  2 / 17\n",
            "batch:  3 / 17\n",
            "batch:  4 / 17\n",
            "batch:  5 / 17\n",
            "batch:  6 / 17\n",
            "batch:  7 / 17\n",
            "batch:  8 / 17\n",
            "batch:  9 / 17\n",
            "batch:  10 / 17\n",
            "batch:  11 / 17\n",
            "batch:  12 / 17\n",
            "batch:  13 / 17\n",
            "batch:  14 / 17\n",
            "batch:  15 / 17\n",
            "batch:  16 / 17\n",
            "Epoch 80, Train Loss: 98.1036\n",
            "Epoch 80, Val Loss: 208.1152\n"
          ]
        },
        {
          "output_type": "stream",
          "name": "stderr",
          "text": [
            "\rEpoch Training:  80%|████████  | 80/100 [1:33:56<22:39, 68.00s/it]"
          ]
        },
        {
          "output_type": "stream",
          "name": "stdout",
          "text": [
            "batch:  0 / 17\n",
            "batch:  1 / 17\n",
            "batch:  2 / 17\n",
            "batch:  3 / 17\n",
            "batch:  4 / 17\n",
            "batch:  5 / 17\n",
            "batch:  6 / 17\n",
            "batch:  7 / 17\n",
            "batch:  8 / 17\n",
            "batch:  9 / 17\n",
            "batch:  10 / 17\n",
            "batch:  11 / 17\n",
            "batch:  12 / 17\n",
            "batch:  13 / 17\n",
            "batch:  14 / 17\n",
            "batch:  15 / 17\n",
            "batch:  16 / 17\n",
            "Epoch 81, Train Loss: 91.8575\n"
          ]
        },
        {
          "output_type": "stream",
          "name": "stderr",
          "text": [
            "\rEpoch Training:  81%|████████  | 81/100 [1:34:58<20:58, 66.26s/it]"
          ]
        },
        {
          "output_type": "stream",
          "name": "stdout",
          "text": [
            "Epoch 81, Val Loss: 213.8422\n",
            "batch:  0 / 17\n",
            "batch:  1 / 17\n",
            "batch:  2 / 17\n",
            "batch:  3 / 17\n",
            "batch:  4 / 17\n",
            "batch:  5 / 17\n",
            "batch:  6 / 17\n",
            "batch:  7 / 17\n",
            "batch:  8 / 17\n",
            "batch:  9 / 17\n",
            "batch:  10 / 17\n",
            "batch:  11 / 17\n",
            "batch:  12 / 17\n",
            "batch:  13 / 17\n",
            "batch:  14 / 17\n",
            "batch:  15 / 17\n",
            "batch:  16 / 17\n",
            "Epoch 82, Train Loss: 93.0675\n"
          ]
        },
        {
          "output_type": "stream",
          "name": "stderr",
          "text": [
            "\rEpoch Training:  81%|████████  | 81/100 [1:36:00<22:31, 71.12s/it]"
          ]
        },
        {
          "output_type": "stream",
          "name": "stdout",
          "text": [
            "Epoch 82, Val Loss: 208.2762\n",
            "Early stopping triggered\n"
          ]
        },
        {
          "output_type": "stream",
          "name": "stderr",
          "text": [
            "\n"
          ]
        }
      ]
    },
    {
      "cell_type": "code",
      "source": [
        "torch.save(model.state_dict(), 'best_bart_model_manually_epoch_81.pt') # When manually stop run this code"
      ],
      "metadata": {
        "id": "_nxTpuCqedXm"
      },
      "execution_count": 10,
      "outputs": []
    },
    {
      "cell_type": "code",
      "source": [
        "model.load_state_dict(torch.load('best_bart_model.pt'))\n",
        "model.to(device)"
      ],
      "metadata": {
        "colab": {
          "base_uri": "https://localhost:8080/"
        },
        "id": "l4PjXmQATUbV",
        "outputId": "21912db7-f383-44bb-c2ea-baaaee6f9d91"
      },
      "execution_count": 11,
      "outputs": [
        {
          "output_type": "execute_result",
          "data": {
            "text/plain": [
              "BartForRegression(\n",
              "  (bart): BartModel(\n",
              "    (shared): BartScaledWordEmbedding(50265, 768, padding_idx=1)\n",
              "    (encoder): BartEncoder(\n",
              "      (embed_tokens): BartScaledWordEmbedding(50265, 768, padding_idx=1)\n",
              "      (embed_positions): BartLearnedPositionalEmbedding(1026, 768)\n",
              "      (layers): ModuleList(\n",
              "        (0-5): 6 x BartEncoderLayer(\n",
              "          (self_attn): BartSdpaAttention(\n",
              "            (k_proj): Linear(in_features=768, out_features=768, bias=True)\n",
              "            (v_proj): Linear(in_features=768, out_features=768, bias=True)\n",
              "            (q_proj): Linear(in_features=768, out_features=768, bias=True)\n",
              "            (out_proj): Linear(in_features=768, out_features=768, bias=True)\n",
              "          )\n",
              "          (self_attn_layer_norm): LayerNorm((768,), eps=1e-05, elementwise_affine=True)\n",
              "          (activation_fn): GELUActivation()\n",
              "          (fc1): Linear(in_features=768, out_features=3072, bias=True)\n",
              "          (fc2): Linear(in_features=3072, out_features=768, bias=True)\n",
              "          (final_layer_norm): LayerNorm((768,), eps=1e-05, elementwise_affine=True)\n",
              "        )\n",
              "      )\n",
              "      (layernorm_embedding): LayerNorm((768,), eps=1e-05, elementwise_affine=True)\n",
              "    )\n",
              "    (decoder): BartDecoder(\n",
              "      (embed_tokens): BartScaledWordEmbedding(50265, 768, padding_idx=1)\n",
              "      (embed_positions): BartLearnedPositionalEmbedding(1026, 768)\n",
              "      (layers): ModuleList(\n",
              "        (0-5): 6 x BartDecoderLayer(\n",
              "          (self_attn): BartSdpaAttention(\n",
              "            (k_proj): Linear(in_features=768, out_features=768, bias=True)\n",
              "            (v_proj): Linear(in_features=768, out_features=768, bias=True)\n",
              "            (q_proj): Linear(in_features=768, out_features=768, bias=True)\n",
              "            (out_proj): Linear(in_features=768, out_features=768, bias=True)\n",
              "          )\n",
              "          (activation_fn): GELUActivation()\n",
              "          (self_attn_layer_norm): LayerNorm((768,), eps=1e-05, elementwise_affine=True)\n",
              "          (encoder_attn): BartSdpaAttention(\n",
              "            (k_proj): Linear(in_features=768, out_features=768, bias=True)\n",
              "            (v_proj): Linear(in_features=768, out_features=768, bias=True)\n",
              "            (q_proj): Linear(in_features=768, out_features=768, bias=True)\n",
              "            (out_proj): Linear(in_features=768, out_features=768, bias=True)\n",
              "          )\n",
              "          (encoder_attn_layer_norm): LayerNorm((768,), eps=1e-05, elementwise_affine=True)\n",
              "          (fc1): Linear(in_features=768, out_features=3072, bias=True)\n",
              "          (fc2): Linear(in_features=3072, out_features=768, bias=True)\n",
              "          (final_layer_norm): LayerNorm((768,), eps=1e-05, elementwise_affine=True)\n",
              "        )\n",
              "      )\n",
              "      (layernorm_embedding): LayerNorm((768,), eps=1e-05, elementwise_affine=True)\n",
              "    )\n",
              "  )\n",
              "  (regression_head): Linear(in_features=768, out_features=3, bias=True)\n",
              ")"
            ]
          },
          "metadata": {},
          "execution_count": 11
        }
      ]
    },
    {
      "cell_type": "code",
      "source": [
        "# Evaluate on internal test set\n",
        "print(\"\\nEvaluating on internal test set from training data...\")\n",
        "evaluate_model(model, test_df, tokenizer, scaler, device, is_external_test=False)\n",
        "\n",
        "\n",
        "\n",
        "print(\"\\nModel trained, evaluated, and predictions saved.\")"
      ],
      "metadata": {
        "colab": {
          "base_uri": "https://localhost:8080/"
        },
        "id": "cn_ttFbxTXJJ",
        "outputId": "cbab3796-d6cc-41b9-996e-28792e2089f4"
      },
      "execution_count": 12,
      "outputs": [
        {
          "output_type": "stream",
          "name": "stdout",
          "text": [
            "\n",
            "Evaluating on internal test set from training data...\n",
            "\n",
            "Test Set Evaluation Metrics:\n",
            "Official Finish:\n",
            "  MSE: 8.8168\n",
            "  RMSE: 2.9693\n",
            "  MAE: 2.4076\n",
            "Speed Rating:\n",
            "  MSE: 379.7609\n",
            "  RMSE: 19.4875\n",
            "  MAE: 15.0905\n",
            "Win Time:\n",
            "  MSE: 149.7183\n",
            "  RMSE: 12.2359\n",
            "  MAE: 6.6227\n",
            "\n",
            "Test predictions saved to 'internal_test_predictions.csv'\n",
            "\n",
            "Model trained, evaluated, and predictions saved.\n"
          ]
        }
      ]
    }
  ]
}