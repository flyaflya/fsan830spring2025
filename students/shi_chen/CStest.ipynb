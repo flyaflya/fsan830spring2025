{
  "cells": [
    {
      "cell_type": "code",
      "execution_count": 1,
      "metadata": {
        "colab": {
          "base_uri": "https://localhost:8080/"
        },
        "id": "xyF7vqc6C59t",
        "outputId": "880b9395-57c2-463b-c9fb-d443958e3f6e"
      },
      "outputs": [
        {
          "output_type": "stream",
          "name": "stdout",
          "text": [
            "fatal: destination path 'fsan830spring2025' already exists and is not an empty directory.\n",
            "/content/fsan830spring2025\n"
          ]
        }
      ],
      "source": [
        "!git clone https://github.com/flyaflya/fsan830spring2025.git\n",
        "%cd fsan830spring2025"
      ]
    },
    {
      "cell_type": "code",
      "source": [
        "%cd fsan830spring2025"
      ],
      "metadata": {
        "colab": {
          "base_uri": "https://localhost:8080/"
        },
        "id": "ZdbnBnaAA6Vv",
        "outputId": "5c881382-a599-4c46-9e7b-8cf9262e8fb8"
      },
      "execution_count": 2,
      "outputs": [
        {
          "output_type": "stream",
          "name": "stdout",
          "text": [
            "/content/fsan830spring2025/fsan830spring2025\n"
          ]
        }
      ]
    },
    {
      "cell_type": "code",
      "execution_count": 3,
      "metadata": {
        "colab": {
          "base_uri": "https://localhost:8080/"
        },
        "id": "0n_srX6XDQpp",
        "outputId": "439cf053-adf5-48f9-dbb5-10be24ffbaee"
      },
      "outputs": [
        {
          "output_type": "stream",
          "name": "stdout",
          "text": [
            "Requirement already satisfied: numpy in /usr/local/lib/python3.11/dist-packages (1.26.4)\n",
            "Collecting numpy\n",
            "  Using cached numpy-2.2.5-cp311-cp311-manylinux_2_17_x86_64.manylinux2014_x86_64.whl.metadata (62 kB)\n",
            "Requirement already satisfied: pymc in /usr/local/lib/python3.11/dist-packages (5.20.1)\n",
            "Collecting pymc\n",
            "  Using cached pymc-5.22.0-py3-none-any.whl.metadata (16 kB)\n",
            "Requirement already satisfied: pymc-bart in /usr/local/lib/python3.11/dist-packages (0.9.0)\n",
            "Requirement already satisfied: arviz in /usr/local/lib/python3.11/dist-packages (0.21.0)\n",
            "Requirement already satisfied: xarray in /usr/local/lib/python3.11/dist-packages (2025.4.0)\n",
            "Requirement already satisfied: matplotlib in /usr/local/lib/python3.11/dist-packages (3.10.1)\n",
            "Requirement already satisfied: scikit-learn in /usr/local/lib/python3.11/dist-packages (1.6.1)\n",
            "Requirement already satisfied: cachetools>=4.2.1 in /usr/local/lib/python3.11/dist-packages (from pymc) (5.5.2)\n",
            "Requirement already satisfied: cloudpickle in /usr/local/lib/python3.11/dist-packages (from pymc) (3.1.1)\n",
            "Requirement already satisfied: pandas>=0.24.0 in /usr/local/lib/python3.11/dist-packages (from pymc) (2.2.2)\n",
            "Collecting pytensor<2.31,>=2.30.2 (from pymc)\n",
            "  Using cached pytensor-2.30.3-cp311-cp311-manylinux_2_17_x86_64.manylinux2014_x86_64.whl.metadata (10.0 kB)\n",
            "Requirement already satisfied: rich>=13.7.1 in /usr/local/lib/python3.11/dist-packages (from pymc) (13.9.4)\n",
            "Requirement already satisfied: scipy>=1.4.1 in /usr/local/lib/python3.11/dist-packages (from pymc) (1.15.2)\n",
            "Requirement already satisfied: threadpoolctl<4.0.0,>=3.1.0 in /usr/local/lib/python3.11/dist-packages (from pymc) (3.6.0)\n",
            "Requirement already satisfied: typing-extensions>=3.7.4 in /usr/local/lib/python3.11/dist-packages (from pymc) (4.13.2)\n",
            "Requirement already satisfied: numba in /usr/local/lib/python3.11/dist-packages (from pymc-bart) (0.60.0)\n",
            "Requirement already satisfied: pytensor<2.28,>=2.26.1 in /usr/local/lib/python3.11/dist-packages (from pymc) (2.27.1)\n",
            "Requirement already satisfied: setuptools>=60.0.0 in /usr/local/lib/python3.11/dist-packages (from arviz) (75.2.0)\n",
            "Requirement already satisfied: packaging in /usr/local/lib/python3.11/dist-packages (from arviz) (24.2)\n",
            "Requirement already satisfied: h5netcdf>=1.0.2 in /usr/local/lib/python3.11/dist-packages (from arviz) (1.6.1)\n",
            "Requirement already satisfied: xarray-einstats>=0.3 in /usr/local/lib/python3.11/dist-packages (from arviz) (0.8.0)\n",
            "Requirement already satisfied: contourpy>=1.0.1 in /usr/local/lib/python3.11/dist-packages (from matplotlib) (1.3.2)\n",
            "Requirement already satisfied: cycler>=0.10 in /usr/local/lib/python3.11/dist-packages (from matplotlib) (0.12.1)\n",
            "Requirement already satisfied: fonttools>=4.22.0 in /usr/local/lib/python3.11/dist-packages (from matplotlib) (4.57.0)\n",
            "Requirement already satisfied: kiwisolver>=1.3.1 in /usr/local/lib/python3.11/dist-packages (from matplotlib) (1.4.8)\n",
            "Requirement already satisfied: pillow>=8 in /usr/local/lib/python3.11/dist-packages (from matplotlib) (11.2.1)\n",
            "Requirement already satisfied: pyparsing>=2.3.1 in /usr/local/lib/python3.11/dist-packages (from matplotlib) (3.2.3)\n",
            "Requirement already satisfied: python-dateutil>=2.7 in /usr/local/lib/python3.11/dist-packages (from matplotlib) (2.9.0.post0)\n",
            "Requirement already satisfied: joblib>=1.2.0 in /usr/local/lib/python3.11/dist-packages (from scikit-learn) (1.4.2)\n",
            "Requirement already satisfied: h5py in /usr/local/lib/python3.11/dist-packages (from h5netcdf>=1.0.2->arviz) (3.13.0)\n",
            "Requirement already satisfied: pytz>=2020.1 in /usr/local/lib/python3.11/dist-packages (from pandas>=0.24.0->pymc) (2025.2)\n",
            "Requirement already satisfied: tzdata>=2022.7 in /usr/local/lib/python3.11/dist-packages (from pandas>=0.24.0->pymc) (2025.2)\n",
            "Requirement already satisfied: filelock>=3.15 in /usr/local/lib/python3.11/dist-packages (from pytensor<2.28,>=2.26.1->pymc) (3.18.0)\n",
            "Requirement already satisfied: etuples in /usr/local/lib/python3.11/dist-packages (from pytensor<2.28,>=2.26.1->pymc) (0.3.9)\n",
            "Requirement already satisfied: logical-unification in /usr/local/lib/python3.11/dist-packages (from pytensor<2.28,>=2.26.1->pymc) (0.4.6)\n",
            "Requirement already satisfied: miniKanren in /usr/local/lib/python3.11/dist-packages (from pytensor<2.28,>=2.26.1->pymc) (1.0.3)\n",
            "Requirement already satisfied: cons in /usr/local/lib/python3.11/dist-packages (from pytensor<2.28,>=2.26.1->pymc) (0.4.6)\n",
            "Requirement already satisfied: six>=1.5 in /usr/local/lib/python3.11/dist-packages (from python-dateutil>=2.7->matplotlib) (1.17.0)\n",
            "Requirement already satisfied: markdown-it-py>=2.2.0 in /usr/local/lib/python3.11/dist-packages (from rich>=13.7.1->pymc) (3.0.0)\n",
            "Requirement already satisfied: pygments<3.0.0,>=2.13.0 in /usr/local/lib/python3.11/dist-packages (from rich>=13.7.1->pymc) (2.19.1)\n",
            "Requirement already satisfied: llvmlite<0.44,>=0.43.0dev0 in /usr/local/lib/python3.11/dist-packages (from numba->pymc-bart) (0.43.0)\n",
            "Requirement already satisfied: mdurl~=0.1 in /usr/local/lib/python3.11/dist-packages (from markdown-it-py>=2.2.0->rich>=13.7.1->pymc) (0.1.2)\n",
            "Requirement already satisfied: toolz in /usr/local/lib/python3.11/dist-packages (from logical-unification->pytensor<2.28,>=2.26.1->pymc) (0.12.1)\n",
            "Requirement already satisfied: multipledispatch in /usr/local/lib/python3.11/dist-packages (from logical-unification->pytensor<2.28,>=2.26.1->pymc) (1.0.0)\n"
          ]
        }
      ],
      "source": [
        "!pip install -U numpy pymc pymc-bart arviz xarray matplotlib scikit-learn"
      ]
    },
    {
      "cell_type": "code",
      "source": [
        "import pymc, pymc_bart\n",
        "print(\"pymc version:\", pymc.__version__)\n",
        "print(\"pymc-bart version:\", pymc_bart.__version__)"
      ],
      "metadata": {
        "colab": {
          "base_uri": "https://localhost:8080/"
        },
        "id": "A3QDjiA9D2AW",
        "outputId": "89099c6d-7d17-4a86-d000-391a59d3f142"
      },
      "execution_count": 4,
      "outputs": [
        {
          "output_type": "stream",
          "name": "stdout",
          "text": [
            "pymc version: 5.20.1\n",
            "pymc-bart version: 0.9.0\n"
          ]
        }
      ]
    },
    {
      "cell_type": "code",
      "execution_count": 5,
      "metadata": {
        "id": "JBi0Z-NmFWmF"
      },
      "outputs": [],
      "source": [
        "import pandas as pd\n",
        "import numpy as np\n",
        "import pymc as pm\n",
        "from pymc_bart import BART\n",
        "from glob import glob\n",
        "import os\n",
        "import xml.etree.ElementTree as ET\n"
      ]
    },
    {
      "cell_type": "code",
      "execution_count": 6,
      "metadata": {
        "colab": {
          "base_uri": "https://localhost:8080/"
        },
        "id": "7jhwhnXwEnmz",
        "outputId": "2f4fdcdf-6234-4b74-f5ff-83113814d1bd"
      },
      "outputs": [
        {
          "output_type": "stream",
          "name": "stdout",
          "text": [
            "共发现PastPerformance xml: 18 份，Result xml: 18 份\n",
            "特征集 shape: (1757, 10) 标签集 shape: (1482, 6)\n",
            "最终训练集 shape: (1509, 14)\n",
            "  RaceNumber        HorseName YearOfBirth FoalingArea PostPosition  \\\n",
            "0          1   george's honey        2021          KY            1   \n",
            "1          1        honor cat        2021          KY            2   \n",
            "2          1      deboisblanc        2021          KY            3   \n",
            "3          1  sapphire nights        2021          KY            4   \n",
            "4          1        unmatched        2021          KY            5   \n",
            "\n",
            "  ProgramNumber  WeightCarried           Trainer               Jockey Odds  \\\n",
            "0             1            119         CasseMark       GutierrezReylu  5/1   \n",
            "1             2            119  DiodoroRobertino       TorresCristian  8/1   \n",
            "2             3            119           CoxBrad        LanderosChris  2/1   \n",
            "3             4            119    AsmussenSteven  Santana, Jr.Ricardo  9/2   \n",
            "4             5            112      ColebrookBen            NavasYoel  8/1   \n",
            "\n",
            "   OfficialFinish  FinishTime  SpeedRating  DollarOdds  Odds_float  \n",
            "0               1         0.0           81        2.05         5.0  \n",
            "1               5         0.0           71        7.89         8.0  \n",
            "2               3         0.0           74        1.31         2.0  \n",
            "3               4         0.0           73        7.47         4.5  \n",
            "4               2         0.0           76       22.73         8.0  \n",
            "可用于建模的特征： ['RaceNumber', 'HorseName', 'YearOfBirth', 'FoalingArea', 'PostPosition', 'ProgramNumber', 'WeightCarried', 'Trainer', 'Jockey', 'Odds', 'OfficialFinish', 'FinishTime', 'SpeedRating', 'DollarOdds', 'Odds_float']\n"
          ]
        }
      ],
      "source": [
        "# ====== 1. 批量解析 pastPerformanceData 特征 ======\n",
        "def parse_past_performance(xml_path):\n",
        "    import xml.etree.ElementTree as ET\n",
        "    tree = ET.parse(xml_path)\n",
        "    root = tree.getroot()\n",
        "    records = []\n",
        "    for race in root.findall('Race'):\n",
        "        race_number = race.findtext('RaceNumber')\n",
        "        # 遍历所有 Starters 节点\n",
        "        for starters in race.findall('Starters'):\n",
        "            # 针对每个马（即每个Starters下的字段）\n",
        "            record = {'RaceNumber': race_number}\n",
        "            # 逐字段判断并记录\n",
        "            for item in starters:\n",
        "                if item.tag == 'Horse':\n",
        "                    record['HorseName'] = item.findtext('HorseName')\n",
        "                    record['YearOfBirth'] = item.findtext('YearOfBirth')\n",
        "                    record['FoalingArea'] = item.findtext('FoalingArea')\n",
        "                elif item.tag in ['PostPosition', 'ProgramNumber', 'WeightCarried', 'Odds']:\n",
        "                    record[item.tag] = item.text\n",
        "                elif item.tag == 'Trainer':\n",
        "                    record['Trainer'] = (item.findtext('LastName') or '') + (item.findtext('FirstName') or '')\n",
        "                elif item.tag == 'Jockey':\n",
        "                    record['Jockey'] = (item.findtext('LastName') or '') + (item.findtext('FirstName') or '')\n",
        "            # 最基本的字段必须有，否则跳过\n",
        "            if 'HorseName' in record and record['HorseName']:\n",
        "                for k in record:\n",
        "                    if isinstance(record[k], str):\n",
        "                        record[k] = record[k].strip()\n",
        "                records.append(record)\n",
        "    return pd.DataFrame(records)\n",
        "\n",
        "# ====== 2. 批量解析 resultsData 赛果 ======\n",
        "def parse_results(xml_path):\n",
        "    tree = ET.parse(xml_path)\n",
        "    root = tree.getroot()\n",
        "    records = []\n",
        "    for race in root.findall('.//RACE'):\n",
        "        race_number = race.get('NUMBER')\n",
        "        for entry in race.findall('ENTRY'):\n",
        "            record = {\n",
        "                'RaceNumber': race_number,\n",
        "                'HorseName': entry.findtext('NAME'),\n",
        "                'OfficialFinish': entry.findtext('OFFICIAL_FIN'),\n",
        "                'FinishTime': entry.findtext('FINISH_TIME'),\n",
        "                'SpeedRating': entry.findtext('SPEED_RATING'),\n",
        "                'DollarOdds': entry.findtext('DOLLAR_ODDS'),\n",
        "            }\n",
        "            for k in record:\n",
        "                if isinstance(record[k], str):\n",
        "                    record[k] = record[k].strip()\n",
        "            records.append(record)\n",
        "    return pd.DataFrame(records)\n",
        "\n",
        "# ====== 3. 读取所有XML并合并 ======\n",
        "pp_dir = 'data/rawDataForTraining/pastPerformanceData'\n",
        "res_dir = 'data/rawDataForTraining/resultsData'\n",
        "\n",
        "pp_files = glob(os.path.join(pp_dir, '*.xml'))\n",
        "res_files = glob(os.path.join(res_dir, '*.xml'))\n",
        "\n",
        "print(f\"共发现PastPerformance xml: {len(pp_files)} 份，Result xml: {len(res_files)} 份\")\n",
        "\n",
        "pp_dfs = [parse_past_performance(f) for f in pp_files]\n",
        "res_dfs = [parse_results(f) for f in res_files]\n",
        "\n",
        "df_feat = pd.concat(pp_dfs, ignore_index=True)\n",
        "df_label = pd.concat(res_dfs, ignore_index=True)\n",
        "\n",
        "print(\"特征集 shape:\", df_feat.shape, \"标签集 shape:\", df_label.shape)\n",
        "\n",
        "# 主键统一处理为字符串去空格\n",
        "for df in [df_feat, df_label]:\n",
        "    df['HorseName'] = df['HorseName'].astype(str).str.lower().str.strip()\n",
        "    df['RaceNumber'] = df['RaceNumber'].astype(str).str.strip()\n",
        "\n",
        "# 合并\n",
        "df_full = pd.merge(df_feat, df_label, on=['RaceNumber', 'HorseName'], how='inner', suffixes=('_pp', '_res'))\n",
        "print(\"最终训练集 shape:\", df_full.shape)\n",
        "\n",
        "# 赔率处理（如有“5/2”样式需转成小数）\n",
        "def odds_str_to_float(odds):\n",
        "    if pd.isna(odds):\n",
        "        return None\n",
        "    try:\n",
        "        return float(odds)\n",
        "    except:\n",
        "        if '/' in str(odds):\n",
        "            try:\n",
        "                num, den = odds.split('/')\n",
        "                return float(num) / float(den)\n",
        "            except:\n",
        "                return None\n",
        "        return None\n",
        "\n",
        "df_full['Odds_float'] = df_full['Odds'].apply(odds_str_to_float)\n",
        "df_full['DollarOdds'] = pd.to_numeric(df_full['DollarOdds'], errors='coerce')\n",
        "df_full['OfficialFinish'] = pd.to_numeric(df_full['OfficialFinish'], errors='coerce')\n",
        "df_full['FinishTime'] = pd.to_numeric(df_full['FinishTime'], errors='coerce')\n",
        "df_full['SpeedRating'] = pd.to_numeric(df_full['SpeedRating'], errors='coerce')\n",
        "df_full['WeightCarried'] = pd.to_numeric(df_full['WeightCarried'], errors='coerce')\n",
        "\n",
        "# 保存\n",
        "df_full.to_csv('final_supervised_training_set.csv', index=False)\n",
        "print(df_full.head())\n",
        "print(\"可用于建模的特征：\", df_full.columns.tolist())"
      ]
    },
    {
      "cell_type": "code",
      "execution_count": 7,
      "metadata": {
        "id": "x7wG-IBHRSMM"
      },
      "outputs": [],
      "source": [
        "# 自选特征（你可以用更多特征，建议先用Odds_float和WeightCarried测试）\n",
        "feature_cols = ['Odds_float', 'WeightCarried', 'SpeedRating']  # 你可以增删\n",
        "'''\n",
        "feature_cols = [\n",
        "    'YearOfBirth',\n",
        "    'FoalingArea',\n",
        "    'PostPosition',\n",
        "    'WeightCarried',\n",
        "    'Trainer',\n",
        "    'Jockey',\n",
        "    'SpeedRating',\n",
        "    'Odds_float'\n",
        "]\n",
        "'''\n",
        "X = df_full[feature_cols].fillna(0).values\n",
        "y = df_full['OfficialFinish'].values\n"
      ]
    },
    {
      "cell_type": "code",
      "execution_count": 8,
      "metadata": {
        "colab": {
          "base_uri": "https://localhost:8080/"
        },
        "id": "xH-3EhvNTzxP",
        "outputId": "b48cb64e-f0f6-41f1-e8a2-6ae9f3754d13"
      },
      "outputs": [
        {
          "output_type": "stream",
          "name": "stdout",
          "text": [
            "    Odds_float  WeightCarried  SpeedRating\n",
            "0        118.0          17.21         81.0\n",
            "1        118.0          14.10         73.0\n",
            "2        118.0          33.57         57.0\n",
            "3        118.0          49.95         64.0\n",
            "4        113.0           8.45         79.0\n",
            "..         ...            ...          ...\n",
            "89       118.0           6.71         76.0\n",
            "90       118.0           9.60         76.0\n",
            "91       118.0          10.87         79.0\n",
            "92       118.0         104.12         80.0\n",
            "93       113.0           1.70         64.0\n",
            "\n",
            "[94 rows x 3 columns]\n"
          ]
        }
      ],
      "source": [
        "\n",
        "# 字段名和BRISNET字段对应的csv索引\n",
        "column_indices = [\n",
        "    2,    # RaceNumber\n",
        "    44,   # HorseName\n",
        "    45,   # YearOfBirth\n",
        "    56,   # FoalingArea\n",
        "    3,    # PostPosition\n",
        "    42,   # ProgramNumber\n",
        "    50,   # WeightCarried\n",
        "    27,   # Trainer\n",
        "    32,   # Jockey\n",
        "    515,  # Odds (第一场历史比赛的赔率)\n",
        "    615,  # OfficialFinish (第一场历史比赛的名次)\n",
        "    1035, # FinishTime (第一场历史比赛的完赛时间)\n",
        "    845,  # SpeedRating (第一场历史比赛的评分)\n",
        "    43,   # DollarOdds\n",
        "    # Odds_float 需要你自己用Odds列加工\n",
        "]\n",
        "# 只保留你需要的三个特征\n",
        "feature_cols = ['Odds_float', 'WeightCarried', 'SpeedRating']\n",
        "\n",
        "# 对应在BRISNET字典中的索引\n",
        "column_indices = [\n",
        "    515,  # Odds\n",
        "    50,   # WeightCarried\n",
        "    845   # SpeedRating\n",
        "]\n",
        "\n",
        "# 对应的列名（顺序要和上面索引一致）\n",
        "columns = ['Odds', 'WeightCarried', 'SpeedRating']\n",
        "\n",
        "# 读取原始测试集\n",
        "X_test = pd.read_csv('data/rawDataForPrediction/CDX0426.csv', header=None, usecols=column_indices)\n",
        "X_test.columns = columns\n",
        "\n",
        "# 处理 Odds_float，只保留这三列\n",
        "def odds_str_to_float(s):\n",
        "    try:\n",
        "        if pd.isna(s):\n",
        "            return None\n",
        "        if '-' in str(s):\n",
        "            a, b = str(s).split('-')\n",
        "            return float(a) / float(b)\n",
        "        return float(s)\n",
        "    except:\n",
        "        return None\n",
        "\n",
        "X_test['Odds_float'] = X_test['Odds'].apply(odds_str_to_float)\n",
        "\n",
        "# 最终只保留 feature_cols\n",
        "X_test_final = X_test[feature_cols]\n",
        "\n",
        "print(X_test_final)"
      ]
    },
    {
      "cell_type": "code",
      "execution_count": 18,
      "metadata": {
        "colab": {
          "base_uri": "https://localhost:8080/",
          "height": 133,
          "referenced_widgets": [
            "392269c2e67048a798d644969a56ac75",
            "4c83ca88301645c49960550c9fb9852a"
          ]
        },
        "id": "1CvPZlrDTHD2",
        "outputId": "8c6faad5-ac34-4e26-d225-802fe0858c17"
      },
      "outputs": [
        {
          "output_type": "display_data",
          "data": {
            "text/plain": [
              "Output()"
            ],
            "application/vnd.jupyter.widget-view+json": {
              "version_major": 2,
              "version_minor": 0,
              "model_id": "392269c2e67048a798d644969a56ac75"
            }
          },
          "metadata": {}
        },
        {
          "output_type": "display_data",
          "data": {
            "text/plain": [],
            "text/html": [
              "<pre style=\"white-space:pre;overflow-x:auto;line-height:normal;font-family:Menlo,'DejaVu Sans Mono',consolas,'Courier New',monospace\"></pre>\n"
            ]
          },
          "metadata": {}
        },
        {
          "output_type": "stream",
          "name": "stdout",
          "text": [
            "模型训练完毕！\n"
          ]
        }
      ],
      "source": [
        "\n",
        "with pm.Model() as model:\n",
        "    μ = BART(\"μ\", X, y)\n",
        "    σ = pm.HalfNormal(\"σ\", sigma=1.0)\n",
        "    y_obs = pm.Normal(\"y_obs\", mu=μ, sigma=σ, observed=y)\n",
        "    trace = pm.sample(1000, tune=1000, target_accept=0.95, cores=1, random_seed=42)\n",
        "    print(\"模型训练完毕！\")\n"
      ]
    },
    {
      "cell_type": "markdown",
      "source": [
        "1"
      ],
      "metadata": {
        "id": "D7W51kG87bNX"
      }
    },
    {
      "cell_type": "code",
      "source": [
        "assert μ.name == \"μ\", \"BART 的 name 必须与你 predictions_input 的 key 一致\""
      ],
      "metadata": {
        "id": "9XJl_8no7cCZ"
      },
      "execution_count": 19,
      "outputs": []
    },
    {
      "cell_type": "code",
      "source": [
        "import pymc as pm\n",
        "from pymc_bart import BART\n",
        "import numpy as np\n",
        "import matplotlib.pyplot as plt\n",
        "from sklearn.metrics import r2_score, mean_squared_error\n",
        "from datetime import datetime\n",
        "\n",
        "# --------------------------\n",
        "# 1. 准备训练数据\n",
        "# --------------------------\n",
        "X_train = df_full[feature_cols].fillna(0).values\n",
        "y_train = df_full['OfficialFinish'].values\n",
        "\n",
        "# --------------------------\n",
        "# 2. 训练 BART 模型\n",
        "# --------------------------\n",
        "with pm.Model() as model:\n",
        "    μ = BART(\"μ\", X_train, y_train)\n",
        "    σ = pm.HalfNormal(\"σ\", sigma=1.0)\n",
        "    y_obs = pm.Normal(\"y_obs\", mu=μ, sigma=σ, observed=y_train)\n",
        "\n",
        "    trace = pm.sample(\n",
        "        1000,\n",
        "        tune=1000,\n",
        "        target_accept=0.95,\n",
        "        cores=1,\n",
        "        random_seed=42,\n",
        "        idata_kwargs={\"log_likelihood\": True}  # ✅ 确保 μ 会被记录进 trace\n",
        "    )\n",
        "\n",
        "print(\"✅ 模型训练完毕！\")\n"
      ],
      "metadata": {
        "colab": {
          "base_uri": "https://localhost:8080/",
          "height": 172,
          "referenced_widgets": [
            "afea3876666b43dc9fff3f2b6c948d6e",
            "0f32c9fc818f405ca9fabb8752d9bb78"
          ]
        },
        "id": "TXrkKAAZHW8B",
        "outputId": "a2b1e5e2-b81b-45e0-90ef-9e337d005612"
      },
      "execution_count": 23,
      "outputs": [
        {
          "output_type": "display_data",
          "data": {
            "text/plain": [
              "Output()"
            ],
            "application/vnd.jupyter.widget-view+json": {
              "version_major": 2,
              "version_minor": 0,
              "model_id": "afea3876666b43dc9fff3f2b6c948d6e"
            }
          },
          "metadata": {}
        },
        {
          "output_type": "display_data",
          "data": {
            "text/plain": [],
            "text/html": [
              "<pre style=\"white-space:pre;overflow-x:auto;line-height:normal;font-family:Menlo,'DejaVu Sans Mono',consolas,'Courier New',monospace\"></pre>\n"
            ]
          },
          "metadata": {}
        },
        {
          "output_type": "stream",
          "name": "stderr",
          "text": [
            "ERROR:pymc.stats.convergence:The effective sample size per chain is smaller than 100 for some parameters.  A higher number is needed for reliable rhat and ess computation. See https://arxiv.org/abs/1903.08008 for details\n"
          ]
        },
        {
          "output_type": "stream",
          "name": "stdout",
          "text": [
            "✅ 模型训练完毕！\n"
          ]
        }
      ]
    },
    {
      "cell_type": "code",
      "source": [
        "# 从 trace.posterior 提取 μ 的后验均值（适用于训练集）\n",
        "μ_train_mean = trace.posterior[\"μ\"].mean(dim=(\"chain\", \"draw\")).values\n",
        "\n",
        "# 可视化训练拟合效果\n",
        "plt.figure(figsize=(6, 6))\n",
        "plt.scatter(y_train, μ_train_mean, alpha=0.6)\n",
        "plt.plot([y_train.min(), y_train.max()], [y_train.min(), y_train.max()], 'k--')\n",
        "plt.xlabel(\"Actual (Train)\")\n",
        "plt.ylabel(\"Predicted\")\n",
        "plt.title(\"Training Fit: PyMC-BART\")\n",
        "plt.grid(True)\n",
        "plt.show()\n",
        "\n",
        "# 拟合性能指标（训练集）\n",
        "r2 = r2_score(y_train, μ_train_mean)\n",
        "rmse = np.sqrt(mean_squared_error(y_train, μ_train_mean))\n",
        "print(f\"训练集 R² Score: {r2:.4f}\")\n",
        "print(f\"训练集 RMSE: {rmse:.2f}\")\n"
      ],
      "metadata": {
        "colab": {
          "base_uri": "https://localhost:8080/",
          "height": 601
        },
        "id": "HV4lL7r2J0H8",
        "outputId": "8a5f349b-32eb-42c7-ef0b-5412ee4bf6e2"
      },
      "execution_count": 24,
      "outputs": [
        {
          "output_type": "display_data",
          "data": {
            "text/plain": [
              "<Figure size 600x600 with 1 Axes>"
            ],
            "image/png": "[encoded data removed]"
          },
          "metadata": {}
        },
        {
          "output_type": "stream",
          "name": "stdout",
          "text": [
            "训练集 R² Score: 0.4221\n",
            "训练集 RMSE: 2.21\n"
          ]
        }
      ]
    },
    {
      "cell_type": "code",
      "source": [
        "from datetime import datetime\n",
        "\n",
        "def bart_train_and_predict(df_train, df_test_raw, feature_cols, target_col):\n",
        "    # Step 0: 准备特征输入（从原始测试集中抽取特征用于模型，但保留完整字段用于输出）\n",
        "    X_train = df_train[feature_cols].fillna(0).values\n",
        "    y_train = df_train[target_col].values\n",
        "\n",
        "    X_test = df_test_raw[feature_cols].fillna(0).values\n",
        "    n_test = X_test.shape[0]\n",
        "\n",
        "    # 拼接训练+测试输入，构造 dummy label 避免 nan\n",
        "    X_all = np.vstack([X_train, X_test])\n",
        "    y_all = np.concatenate([y_train, np.zeros(n_test)])\n",
        "\n",
        "    # Step 1: 构建 PyMC 模型\n",
        "    with pm.Model() as model:\n",
        "        μ_all = BART(\"μ\", X_all, y_all)\n",
        "        σ = pm.HalfNormal(\"σ\", sigma=1.0)\n",
        "\n",
        "        # 训练集部分有 observed\n",
        "        y_obs = pm.Normal(\"y_obs\", mu=μ_all[:len(y_train)], sigma=σ, observed=y_train)\n",
        "\n",
        "        # 测试集部分仅预测\n",
        "        y_pred = pm.Normal(\"y_pred\", mu=μ_all[len(y_train):], sigma=σ)\n",
        "\n",
        "        # 训练模型\n",
        "        trace = pm.sample(\n",
        "            1000, tune=1000, target_accept=0.95, cores=1, random_seed=42\n",
        "        )\n",
        "\n",
        "        # Step 2: 后验预测（修复：禁止 inferencedata 返回）\n",
        "        ppc = pm.sample_posterior_predictive(\n",
        "            trace, var_names=[\"y_pred\"], return_inferencedata=False\n",
        "        )\n",
        "\n",
        "    # Step 3: 整理预测结果（注意 reshape）\n",
        "    y_pred_dist = ppc[\"y_pred\"]  # shape: (n_chains, n_draws, n_test)\n",
        "    y_pred_dist = y_pred_dist.reshape(-1, y_pred_dist.shape[-1])  # => (n_samples_total, n_test)\n",
        "\n",
        "    if y_pred_dist.shape[1] != n_test:\n",
        "        raise ValueError(f\"预测维度异常: y_pred shape={y_pred_dist.shape}, 预期测试样本数={n_test}\")\n",
        "\n",
        "    y_pred_mean = y_pred_dist.mean(axis=0)\n",
        "    y_pred_std = y_pred_dist.std(axis=0)\n",
        "\n",
        "    # Step 4: 输出结果 DataFrame（保留完整测试字段）\n",
        "    results_df = df_test_raw.reset_index(drop=True).copy()\n",
        "    results_df[\"PredictedFinish\"] = y_pred_mean\n",
        "    results_df[\"PredictedStd\"] = y_pred_std\n",
        "    results_df[\"PredictedRank\"] = results_df[\"PredictedFinish\"].rank(method=\"min\").astype(int)\n",
        "\n",
        "    return results_df.sort_values(\"PredictedFinish\").reset_index(drop=True)"
      ],
      "metadata": {
        "id": "8gfrHKfQJ2LU"
      },
      "execution_count": 35,
      "outputs": []
    },
    {
      "cell_type": "code",
      "source": [
        "# 设置特征列与目标列\n",
        "feature_cols = ['Odds_float', 'WeightCarried', 'SpeedRating']\n",
        "target_col = 'OfficialFinish'\n",
        "\n",
        "# 执行训练 + 预测\n",
        "results_df_sorted = bart_train_and_predict(df_full, X_test, feature_cols, target_col)\n",
        "\n",
        "# 打印前几名预测\n",
        "print(\"预测完成时间：\", datetime.now().strftime(\"%Y-%m-%d %H:%M:%S\"))\n",
        "print(results_df_sorted.head(10))\n",
        "\n",
        "\n"
      ],
      "metadata": {
        "colab": {
          "base_uri": "https://localhost:8080/",
          "height": 608,
          "referenced_widgets": [
            "a6902d79126a41fe98e280ac534435a1",
            "c7b4b40119d24065ae876ffd7f6b209c",
            "f8688413766a4adc9c06648320e2c76c",
            "2ff3f9dabd2a47dd89c07e554b30f2a7"
          ]
        },
        "id": "6-sctAAdMRS7",
        "outputId": "97452bb6-fd2b-4841-d443-170c2c179174"
      },
      "execution_count": 39,
      "outputs": [
        {
          "output_type": "display_data",
          "data": {
            "text/plain": [
              "Output()"
            ],
            "application/vnd.jupyter.widget-view+json": {
              "version_major": 2,
              "version_minor": 0,
              "model_id": "a6902d79126a41fe98e280ac534435a1"
            }
          },
          "metadata": {}
        },
        {
          "output_type": "display_data",
          "data": {
            "text/plain": [],
            "text/html": [
              "<pre style=\"white-space:pre;overflow-x:auto;line-height:normal;font-family:Menlo,'DejaVu Sans Mono',consolas,'Courier New',monospace\"></pre>\n"
            ]
          },
          "metadata": {}
        },
        {
          "output_type": "stream",
          "name": "stderr",
          "text": [
            "ERROR:pymc.stats.convergence:The effective sample size per chain is smaller than 100 for some parameters.  A higher number is needed for reliable rhat and ess computation. See https://arxiv.org/abs/1903.08008 for details\n"
          ]
        },
        {
          "output_type": "display_data",
          "data": {
            "text/plain": [
              "Output()"
            ],
            "application/vnd.jupyter.widget-view+json": {
              "version_major": 2,
              "version_minor": 0,
              "model_id": "f8688413766a4adc9c06648320e2c76c"
            }
          },
          "metadata": {}
        },
        {
          "output_type": "display_data",
          "data": {
            "text/plain": [],
            "text/html": [
              "<pre style=\"white-space:pre;overflow-x:auto;line-height:normal;font-family:Menlo,'DejaVu Sans Mono',consolas,'Courier New',monospace\"></pre>\n"
            ]
          },
          "metadata": {}
        },
        {
          "output_type": "stream",
          "name": "stdout",
          "text": [
            "预测完成时间： 2025-05-02 00:07:26\n",
            "   Odds  WeightCarried  SpeedRating  Odds_float  PredictedFinish  \\\n",
            "0   118           1.00         93.0       118.0         5.903531   \n",
            "1   124           0.63         90.0       124.0         6.094348   \n",
            "2   118           4.80         88.0       118.0         6.159154   \n",
            "3   123          18.20         93.0       123.0         6.199259   \n",
            "4   118           1.90         91.0       118.0         6.200177   \n",
            "5   123           6.10         88.0       123.0         6.255809   \n",
            "6   125           4.90         85.0       125.0         6.257777   \n",
            "7   118          18.60         85.0       118.0         6.385365   \n",
            "8   125          11.20         83.0       125.0         6.419433   \n",
            "9   123          13.62         86.0       123.0         6.427242   \n",
            "\n",
            "   PredictedStd  PredictedRank  \n",
            "0      2.257730              1  \n",
            "1      2.369206              2  \n",
            "2      2.318121              3  \n",
            "3      2.316415              4  \n",
            "4      2.351939              5  \n",
            "5      2.292494              6  \n",
            "6      2.282932              7  \n",
            "7      2.312016              8  \n",
            "8      2.326801              9  \n",
            "9      2.332608             10  \n"
          ]
        }
      ]
    },
    {
      "cell_type": "code",
      "source": [
        "# 可视化前五名（不使用 HorseName）\n",
        "top5 = results_df_sorted.head(5).copy()\n",
        "top5_labels = [f\"Rank #{i+1}\" for i in range(len(top5))]\n",
        "\n",
        "plt.figure(figsize=(8, 4))\n",
        "plt.barh(top5_labels, top5[\"PredictedFinish\"], xerr=top5[\"PredictedStd\"])\n",
        "plt.xlabel(\"Predicted Finish\")\n",
        "plt.title(\"Top 5 Predicted Results\")\n",
        "plt.gca().invert_yaxis()\n",
        "plt.grid(True, alpha=0.3)\n",
        "plt.tight_layout()\n",
        "plt.show()\n"
      ],
      "metadata": {
        "colab": {
          "base_uri": "https://localhost:8080/",
          "height": 407
        },
        "id": "EPcF9E9UUelJ",
        "outputId": "0253b886-b12e-42b6-f18b-ceb7b831ffe4"
      },
      "execution_count": 40,
      "outputs": [
        {
          "output_type": "display_data",
          "data": {
            "text/plain": [
              "<Figure size 800x400 with 1 Axes>"
            ],
            "image/png": "[encoded data removed]"
          },
          "metadata": {}
        }
      ]
    }
  ],
  "metadata": {
    "colab": {
      "provenance": []
    },
    "kernelspec": {
      "display_name": "Python 3",
      "name": "python3"
    },
    "language_info": {
      "name": "python"
    },
    "widgets": {
      "application/vnd.jupyter.widget-state+json": {
        "392269c2e67048a798d644969a56ac75": {
          "model_module": "@jupyter-widgets/output",
          "model_name": "OutputModel",
          "model_module_version": "1.0.0",
          "state": {
            "_dom_classes": [],
            "_model_module": "@jupyter-widgets/output",
            "_model_module_version": "1.0.0",
            "_model_name": "OutputModel",
            "_view_count": null,
            "_view_module": "@jupyter-widgets/output",
            "_view_module_version": "1.0.0",
            "_view_name": "OutputView",
            "layout": "IPY_MODEL_4c83ca88301645c49960550c9fb9852a",
            "msg_id": "",
            "outputs": [
              {
                "output_type": "display_data",
                "data": {
                  "text/plain": "                                                                                                                   \n \u001b[1m \u001b[0m\u001b[1mProgress                 \u001b[0m\u001b[1m \u001b[0m \u001b[1m \u001b[0m\u001b[1mDraws\u001b[0m\u001b[1m \u001b[0m \u001b[1m \u001b[0m\u001b[1mDivergences\u001b[0m\u001b[1m \u001b[0m \u001b[1m \u001b[0m\u001b[1mStep size\u001b[0m\u001b[1m \u001b[0m \u001b[1m \u001b[0m\u001b[1mGrad evals\u001b[0m\u001b[1m \u001b[0m \u001b[1m \u001b[0m\u001b[1mSampling Speed\u001b[0m\u001b[1m \u001b[0m \u001b[1m \u001b[0m\u001b[1mElapsed\u001b[0m\u001b[1m \u001b[0m \u001b[1m \u001b[0m\u001b[1mRemaining\u001b[0m\u001b[1m \u001b[0m \n ───────────────────────────────────────────────────────────────────────────────────────────────────────────────── \n  \u001b[38;2;31;119;180m━━━━━━━━━━━━━━━━━━━━━━━━━\u001b[0m   2000    0             0.80        3            25.91 draws/s    0:01:17   0:00:00    \n  \u001b[38;2;31;119;180m━━━━━━━━━━━━━━━━━━━━━━━━━\u001b[0m   2000    0             0.96        7            12.83 draws/s    0:02:35   0:00:00    \n                                                                                                                   \n",
                  "text/html": "<pre style=\"white-space:pre;overflow-x:auto;line-height:normal;font-family:Menlo,'DejaVu Sans Mono',consolas,'Courier New',monospace\">                                                                                                                   \n <span style=\"font-weight: bold\"> Progress                  </span> <span style=\"font-weight: bold\"> Draws </span> <span style=\"font-weight: bold\"> Divergences </span> <span style=\"font-weight: bold\"> Step size </span> <span style=\"font-weight: bold\"> Grad evals </span> <span style=\"font-weight: bold\"> Sampling Speed </span> <span style=\"font-weight: bold\"> Elapsed </span> <span style=\"font-weight: bold\"> Remaining </span> \n ───────────────────────────────────────────────────────────────────────────────────────────────────────────────── \n  <span style=\"color: #1f77b4; text-decoration-color: #1f77b4\">━━━━━━━━━━━━━━━━━━━━━━━━━</span>   2000    0             0.80        3            25.91 draws/s    0:01:17   0:00:00    \n  <span style=\"color: #1f77b4; text-decoration-color: #1f77b4\">━━━━━━━━━━━━━━━━━━━━━━━━━</span>   2000    0             0.96        7            12.83 draws/s    0:02:35   0:00:00    \n                                                                                                                   \n</pre>\n"
                },
                "metadata": {}
              }
            ]
          }
        },
        "4c83ca88301645c49960550c9fb9852a": {
          "model_module": "@jupyter-widgets/base",
          "model_name": "LayoutModel",
          "model_module_version": "1.2.0",
          "state": {
            "_model_module": "@jupyter-widgets/base",
            "_model_module_version": "1.2.0",
            "_model_name": "LayoutModel",
            "_view_count": null,
            "_view_module": "@jupyter-widgets/base",
            "_view_module_version": "1.2.0",
            "_view_name": "LayoutView",
            "align_content": null,
            "align_items": null,
            "align_self": null,
            "border": null,
            "bottom": null,
            "display": null,
            "flex": null,
            "flex_flow": null,
            "grid_area": null,
            "grid_auto_columns": null,
            "grid_auto_flow": null,
            "grid_auto_rows": null,
            "grid_column": null,
            "grid_gap": null,
            "grid_row": null,
            "grid_template_areas": null,
            "grid_template_columns": null,
            "grid_template_rows": null,
            "height": null,
            "justify_content": null,
            "justify_items": null,
            "left": null,
            "margin": null,
            "max_height": null,
            "max_width": null,
            "min_height": null,
            "min_width": null,
            "object_fit": null,
            "object_position": null,
            "order": null,
            "overflow": null,
            "overflow_x": null,
            "overflow_y": null,
            "padding": null,
            "right": null,
            "top": null,
            "visibility": null,
            "width": null
          }
        },
        "afea3876666b43dc9fff3f2b6c948d6e": {
          "model_module": "@jupyter-widgets/output",
          "model_name": "OutputModel",
          "model_module_version": "1.0.0",
          "state": {
            "_dom_classes": [],
            "_model_module": "@jupyter-widgets/output",
            "_model_module_version": "1.0.0",
            "_model_name": "OutputModel",
            "_view_count": null,
            "_view_module": "@jupyter-widgets/output",
            "_view_module_version": "1.0.0",
            "_view_name": "OutputView",
            "layout": "IPY_MODEL_0f32c9fc818f405ca9fabb8752d9bb78",
            "msg_id": "",
            "outputs": [
              {
                "output_type": "display_data",
                "data": {
                  "text/plain": "                                                                                                                   \n \u001b[1m \u001b[0m\u001b[1mProgress                 \u001b[0m\u001b[1m \u001b[0m \u001b[1m \u001b[0m\u001b[1mDraws\u001b[0m\u001b[1m \u001b[0m \u001b[1m \u001b[0m\u001b[1mDivergences\u001b[0m\u001b[1m \u001b[0m \u001b[1m \u001b[0m\u001b[1mStep size\u001b[0m\u001b[1m \u001b[0m \u001b[1m \u001b[0m\u001b[1mGrad evals\u001b[0m\u001b[1m \u001b[0m \u001b[1m \u001b[0m\u001b[1mSampling Speed\u001b[0m\u001b[1m \u001b[0m \u001b[1m \u001b[0m\u001b[1mElapsed\u001b[0m\u001b[1m \u001b[0m \u001b[1m \u001b[0m\u001b[1mRemaining\u001b[0m\u001b[1m \u001b[0m \n ───────────────────────────────────────────────────────────────────────────────────────────────────────────────── \n  \u001b[38;2;31;119;180m━━━━━━━━━━━━━━━━━━━━━━━━━\u001b[0m   2000    0             0.68        1            24.50 draws/s    0:01:21   0:00:00    \n  \u001b[38;2;31;119;180m━━━━━━━━━━━━━━━━━━━━━━━━━\u001b[0m   2000    0             0.86        3            12.47 draws/s    0:02:40   0:00:00    \n                                                                                                                   \n",
                  "text/html": "<pre style=\"white-space:pre;overflow-x:auto;line-height:normal;font-family:Menlo,'DejaVu Sans Mono',consolas,'Courier New',monospace\">                                                                                                                   \n <span style=\"font-weight: bold\"> Progress                  </span> <span style=\"font-weight: bold\"> Draws </span> <span style=\"font-weight: bold\"> Divergences </span> <span style=\"font-weight: bold\"> Step size </span> <span style=\"font-weight: bold\"> Grad evals </span> <span style=\"font-weight: bold\"> Sampling Speed </span> <span style=\"font-weight: bold\"> Elapsed </span> <span style=\"font-weight: bold\"> Remaining </span> \n ───────────────────────────────────────────────────────────────────────────────────────────────────────────────── \n  <span style=\"color: #1f77b4; text-decoration-color: #1f77b4\">━━━━━━━━━━━━━━━━━━━━━━━━━</span>   2000    0             0.68        1            24.50 draws/s    0:01:21   0:00:00    \n  <span style=\"color: #1f77b4; text-decoration-color: #1f77b4\">━━━━━━━━━━━━━━━━━━━━━━━━━</span>   2000    0             0.86        3            12.47 draws/s    0:02:40   0:00:00    \n                                                                                                                   \n</pre>\n"
                },
                "metadata": {}
              }
            ]
          }
        },
        "0f32c9fc818f405ca9fabb8752d9bb78": {
          "model_module": "@jupyter-widgets/base",
          "model_name": "LayoutModel",
          "model_module_version": "1.2.0",
          "state": {
            "_model_module": "@jupyter-widgets/base",
            "_model_module_version": "1.2.0",
            "_model_name": "LayoutModel",
            "_view_count": null,
            "_view_module": "@jupyter-widgets/base",
            "_view_module_version": "1.2.0",
            "_view_name": "LayoutView",
            "align_content": null,
            "align_items": null,
            "align_self": null,
            "border": null,
            "bottom": null,
            "display": null,
            "flex": null,
            "flex_flow": null,
            "grid_area": null,
            "grid_auto_columns": null,
            "grid_auto_flow": null,
            "grid_auto_rows": null,
            "grid_column": null,
            "grid_gap": null,
            "grid_row": null,
            "grid_template_areas": null,
            "grid_template_columns": null,
            "grid_template_rows": null,
            "height": null,
            "justify_content": null,
            "justify_items": null,
            "left": null,
            "margin": null,
            "max_height": null,
            "max_width": null,
            "min_height": null,
            "min_width": null,
            "object_fit": null,
            "object_position": null,
            "order": null,
            "overflow": null,
            "overflow_x": null,
            "overflow_y": null,
            "padding": null,
            "right": null,
            "top": null,
            "visibility": null,
            "width": null
          }
        },
        "a6902d79126a41fe98e280ac534435a1": {
          "model_module": "@jupyter-widgets/output",
          "model_name": "OutputModel",
          "model_module_version": "1.0.0",
          "state": {
            "_dom_classes": [],
            "_model_module": "@jupyter-widgets/output",
            "_model_module_version": "1.0.0",
            "_model_name": "OutputModel",
            "_view_count": null,
            "_view_module": "@jupyter-widgets/output",
            "_view_module_version": "1.0.0",
            "_view_name": "OutputView",
            "layout": "IPY_MODEL_c7b4b40119d24065ae876ffd7f6b209c",
            "msg_id": "",
            "outputs": [
              {
                "output_type": "display_data",
                "data": {
                  "text/plain": "                                                                                                                   \n \u001b[1m \u001b[0m\u001b[1mProgress                 \u001b[0m\u001b[1m \u001b[0m \u001b[1m \u001b[0m\u001b[1mDraws\u001b[0m\u001b[1m \u001b[0m \u001b[1m \u001b[0m\u001b[1mDivergences\u001b[0m\u001b[1m \u001b[0m \u001b[1m \u001b[0m\u001b[1mStep size\u001b[0m\u001b[1m \u001b[0m \u001b[1m \u001b[0m\u001b[1mGrad evals\u001b[0m\u001b[1m \u001b[0m \u001b[1m \u001b[0m\u001b[1mSampling Speed\u001b[0m\u001b[1m \u001b[0m \u001b[1m \u001b[0m\u001b[1mElapsed\u001b[0m\u001b[1m \u001b[0m \u001b[1m \u001b[0m\u001b[1mRemaining\u001b[0m\u001b[1m \u001b[0m \n ───────────────────────────────────────────────────────────────────────────────────────────────────────────────── \n  \u001b[38;2;31;119;180m━━━━━━━━━━━━━━━━━━━━━━━━━\u001b[0m   2000    0             0.24        15           25.18 draws/s    0:01:19   0:00:00    \n  \u001b[38;2;31;119;180m━━━━━━━━━━━━━━━━━━━━━━━━━\u001b[0m   2000    0             0.27        15           12.18 draws/s    0:02:44   0:00:00    \n                                                                                                                   \n",
                  "text/html": "<pre style=\"white-space:pre;overflow-x:auto;line-height:normal;font-family:Menlo,'DejaVu Sans Mono',consolas,'Courier New',monospace\">                                                                                                                   \n <span style=\"font-weight: bold\"> Progress                  </span> <span style=\"font-weight: bold\"> Draws </span> <span style=\"font-weight: bold\"> Divergences </span> <span style=\"font-weight: bold\"> Step size </span> <span style=\"font-weight: bold\"> Grad evals </span> <span style=\"font-weight: bold\"> Sampling Speed </span> <span style=\"font-weight: bold\"> Elapsed </span> <span style=\"font-weight: bold\"> Remaining </span> \n ───────────────────────────────────────────────────────────────────────────────────────────────────────────────── \n  <span style=\"color: #1f77b4; text-decoration-color: #1f77b4\">━━━━━━━━━━━━━━━━━━━━━━━━━</span>   2000    0             0.24        15           25.18 draws/s    0:01:19   0:00:00    \n  <span style=\"color: #1f77b4; text-decoration-color: #1f77b4\">━━━━━━━━━━━━━━━━━━━━━━━━━</span>   2000    0             0.27        15           12.18 draws/s    0:02:44   0:00:00    \n                                                                                                                   \n</pre>\n"
                },
                "metadata": {}
              }
            ]
          }
        },
        "c7b4b40119d24065ae876ffd7f6b209c": {
          "model_module": "@jupyter-widgets/base",
          "model_name": "LayoutModel",
          "model_module_version": "1.2.0",
          "state": {
            "_model_module": "@jupyter-widgets/base",
            "_model_module_version": "1.2.0",
            "_model_name": "LayoutModel",
            "_view_count": null,
            "_view_module": "@jupyter-widgets/base",
            "_view_module_version": "1.2.0",
            "_view_name": "LayoutView",
            "align_content": null,
            "align_items": null,
            "align_self": null,
            "border": null,
            "bottom": null,
            "display": null,
            "flex": null,
            "flex_flow": null,
            "grid_area": null,
            "grid_auto_columns": null,
            "grid_auto_flow": null,
            "grid_auto_rows": null,
            "grid_column": null,
            "grid_gap": null,
            "grid_row": null,
            "grid_template_areas": null,
            "grid_template_columns": null,
            "grid_template_rows": null,
            "height": null,
            "justify_content": null,
            "justify_items": null,
            "left": null,
            "margin": null,
            "max_height": null,
            "max_width": null,
            "min_height": null,
            "min_width": null,
            "object_fit": null,
            "object_position": null,
            "order": null,
            "overflow": null,
            "overflow_x": null,
            "overflow_y": null,
            "padding": null,
            "right": null,
            "top": null,
            "visibility": null,
            "width": null
          }
        },
        "f8688413766a4adc9c06648320e2c76c": {
          "model_module": "@jupyter-widgets/output",
          "model_name": "OutputModel",
          "model_module_version": "1.0.0",
          "state": {
            "_dom_classes": [],
            "_model_module": "@jupyter-widgets/output",
            "_model_module_version": "1.0.0",
            "_model_name": "OutputModel",
            "_view_count": null,
            "_view_module": "@jupyter-widgets/output",
            "_view_module_version": "1.0.0",
            "_view_name": "OutputView",
            "layout": "IPY_MODEL_2ff3f9dabd2a47dd89c07e554b30f2a7",
            "msg_id": "",
            "outputs": [
              {
                "output_type": "display_data",
                "data": {
                  "text/plain": "Sampling ... \u001b[32m━━━━━━━━━━━━━━━━━━━━━━━━━━━━━━━━━━━━━━━━\u001b[0m \u001b[35m100%\u001b[0m 0:00:00 / 0:00:00\n",
                  "text/html": "<pre style=\"white-space:pre;overflow-x:auto;line-height:normal;font-family:Menlo,'DejaVu Sans Mono',consolas,'Courier New',monospace\">Sampling ... <span style=\"color: #008000; text-decoration-color: #008000\">━━━━━━━━━━━━━━━━━━━━━━━━━━━━━━━━━━━━━━━━</span> <span style=\"color: #800080; text-decoration-color: #800080\">100%</span> 0:00:00 / 0:00:00\n</pre>\n"
                },
                "metadata": {}
              }
            ]
          }
        },
        "2ff3f9dabd2a47dd89c07e554b30f2a7": {
          "model_module": "@jupyter-widgets/base",
          "model_name": "LayoutModel",
          "model_module_version": "1.2.0",
          "state": {
            "_model_module": "@jupyter-widgets/base",
            "_model_module_version": "1.2.0",
            "_model_name": "LayoutModel",
            "_view_count": null,
            "_view_module": "@jupyter-widgets/base",
            "_view_module_version": "1.2.0",
            "_view_name": "LayoutView",
            "align_content": null,
            "align_items": null,
            "align_self": null,
            "border": null,
            "bottom": null,
            "display": null,
            "flex": null,
            "flex_flow": null,
            "grid_area": null,
            "grid_auto_columns": null,
            "grid_auto_flow": null,
            "grid_auto_rows": null,
            "grid_column": null,
            "grid_gap": null,
            "grid_row": null,
            "grid_template_areas": null,
            "grid_template_columns": null,
            "grid_template_rows": null,
            "height": null,
            "justify_content": null,
            "justify_items": null,
            "left": null,
            "margin": null,
            "max_height": null,
            "max_width": null,
            "min_height": null,
            "min_width": null,
            "object_fit": null,
            "object_position": null,
            "order": null,
            "overflow": null,
            "overflow_x": null,
            "overflow_y": null,
            "padding": null,
            "right": null,
            "top": null,
            "visibility": null,
            "width": null
          }
        }
      }
    }
  },
  "nbformat": 4,
  "nbformat_minor": 0
}